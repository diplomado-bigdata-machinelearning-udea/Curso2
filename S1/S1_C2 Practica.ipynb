{
  "nbformat": 4,
  "nbformat_minor": 0,
  "metadata": {
    "kernelspec": {
      "name": "python3",
      "display_name": "Python 3"
    },
    "language_info": {
      "codemirror_mode": {
        "name": "ipython",
        "version": 3
      },
      "file_extension": ".py",
      "mimetype": "text/x-python",
      "name": "python",
      "nbconvert_exporter": "python",
      "pygments_lexer": "ipython3",
      "version": "3.7.3"
    },
    "colab": {
      "name": "S1_C2.ipynb",
      "provenance": [],
      "collapsed_sections": [],
      "include_colab_link": true
    },
    "accelerator": "GPU"
  },
  "cells": [
    {
      "cell_type": "markdown",
      "metadata": {
        "id": "view-in-github",
        "colab_type": "text"
      },
      "source": [
        "<a href=\"https://colab.research.google.com/github/darioblandon/Curso2/blob/master/S1/S1_C2%20Practica.ipynb\" target=\"_parent\"><img src=\"https://colab.research.google.com/assets/colab-badge.svg\" alt=\"Open In Colab\"/></a>"
      ]
    },
    {
      "cell_type": "markdown",
      "metadata": {
        "id": "fRpL-93u1dIy"
      },
      "source": [
        "<p><img alt=\"Colaboratory logo\" height=\"140px\" src=\"https://upload.wikimedia.org/wikipedia/commons/archive/f/fb/20161010213812%21Escudo-UdeA.svg\" align=\"left\" hspace=\"10px\" vspace=\"0px\"></p>\n",
        "\n",
        "<h1> Diplomado de Análisis de datos y Machine Learning en Python</h1>\n",
        "\n",
        "\n",
        "El presente diplomado hace parte del centro de Big Data de la facultad de ciencias exactas y naturales (FCEN) de la Universidad de Antioquia."
      ]
    },
    {
      "cell_type": "markdown",
      "metadata": {
        "id": "sYkr79uu_Lp-"
      },
      "source": [
        "## Más Recursos\n",
        "\n",
        "Recursos para aprender como usar Python, Jupyter y Colaboratory:\n",
        "\n",
        "### Trabajando con Notebooks del Colaboratory\n",
        "- [Introducción a Colaboratory](/notebooks/basic_features_overview.ipynb)\n",
        "- [Guía de  Markdown](/notebooks/markdown_guide.ipynb)\n",
        "- [Importar Librerías e Instalar Dependencias](/notebooks/snippets/importing_libraries.ipynb)\n",
        "- [Guardar y cargar cuadernos en GitHub](https://colab.research.google.com/github/googlecolab/colabtools/blob/master/notebooks/colab-github-demo.ipynb)\n",
        "- [Formularios Interactivos](/notebooks/forms.ipynb)\n",
        "- [Widgets Interactivos](/notebooks/widgets.ipynb)\n",
        "\n",
        "### Trabajando con Datos\n",
        "- [Cargar datos desde: Drive, Sheets y Google Cloud Storage](/notebooks/io.ipynb) \n",
        "- [Gráficas: Visualizar los Datos](/notebooks/charts.ipynb)\n",
        "- [Introducción a BigQuery](/notebooks/bigquery.ipynb)\n",
        "\n",
        "### Introducción al Aprendizaje Automático\n",
        "Estos son algunos notebooks del curso virtual de google sobre aprendizaje automático. Ver la [página web del curso](https://developers.google.com/machine-learning/crash-course/) para obtener más información.\n",
        "- [Introducción a Pandas](/notebooks/mlcc/intro_to_pandas.ipynb)\n",
        "- [Conceptos de Tensorflow](/notebooks/mlcc/tensorflow_programming_concepts.ipynb)\n",
        "- [Primeros pasos con TensorFlow](/notebooks/mlcc/first_steps_with_tensor_flow.ipynb)\n",
        "- [Introducción a Redes Neuronales](/notebooks/mlcc/intro_to_neural_nets.ipynb)\n",
        "- [Introducción a datos escasos y embebimientos](/notebooks/mlcc/intro_to_sparse_data_and_embeddings.ipynb)\n",
        "\n",
        "### Hardware para cálculo en paralelo\n",
        "- [TensorFlow con GPUs](/notebooks/gpu.ipynb)\n",
        "- [TensorFlow con TPUs](/notebooks/tpu.ipynb)"
      ]
    },
    {
      "cell_type": "markdown",
      "metadata": {
        "id": "9s7P2aLmTeKo"
      },
      "source": [
        "#Repaso de Tensores:\n",
        "\n",
        "Aunque no hayamos visto la definición de \"tensores\" en el curso 1, si que hemos trabajado con ellos haciendo referecia a ellos como arrays o arreglos."
      ]
    },
    {
      "cell_type": "markdown",
      "metadata": {
        "id": "vOK_YBu5EIgX"
      },
      "source": [
        "## Representaciones de datos en NN:\n",
        "\n",
        "En el ejemplo anterior, partimos de datos almacenados en arreglos multidimensionales de `numpy`, los cuales se conocen con el nombre de *tensores*. En general, todos los algoritmos de ML usan tensores como estructura base de los datos, siendo un campo fundamental de éstos. \n",
        "\n",
        "En esencia, un tensor es un contenedor de datos, casi siempre datos numéricos. Por ejemplo, estamos familiarizados con las matrices, que son tensores 2D: los tensores son una generalización de matrices a un número arbitrario de dimensiones (a una dimensión a menudo se denomina eje). "
      ]
    },
    {
      "cell_type": "markdown",
      "metadata": {
        "id": "INRNs5fGYeUX"
      },
      "source": [
        "## Escalares (Tensores 0D)\n",
        "\n",
        "Un tensor que contiene un solo número se le llama escalar, tensor escalar, tensor 0-dimensional ó 0D tensor. En `numpy` se tiene:\n",
        "\n",
        "- float32 o float64.\n",
        "- int 32 o int 64.\n",
        "\n",
        "Recordemos"
      ]
    },
    {
      "cell_type": "code",
      "metadata": {
        "id": "i5_4p9KKYas8",
        "colab": {
          "base_uri": "https://localhost:8080/"
        },
        "outputId": "7ca3e127-1a82-438b-c4aa-7fca744642b0"
      },
      "source": [
        "# Array \n",
        "import numpy as np\n",
        "\n",
        "x0 = np.array(12)\n",
        "x0.ndim"
      ],
      "execution_count": null,
      "outputs": [
        {
          "output_type": "execute_result",
          "data": {
            "text/plain": [
              "0"
            ]
          },
          "metadata": {},
          "execution_count": 6
        }
      ]
    },
    {
      "cell_type": "markdown",
      "metadata": {
        "id": "ggx_9v6VZrIR"
      },
      "source": [
        "# Vectores (Tensores 1D)\n",
        "\n",
        "A un array de número se le llama vector, o tensor 1D. Decimo entonces que un tensor 1D tiene exactamente 1 eje. \n",
        "\n",
        "En `numpy` lo definimos como:"
      ]
    },
    {
      "cell_type": "code",
      "metadata": {
        "id": "tH3QK1s_aBl6",
        "colab": {
          "base_uri": "https://localhost:8080/"
        },
        "outputId": "04febb2c-0fb3-4738-ab83-45c5b7532780"
      },
      "source": [
        "x1 = np.array([12, 3, 6, 14])\n",
        "x1"
      ],
      "execution_count": null,
      "outputs": [
        {
          "output_type": "execute_result",
          "data": {
            "text/plain": [
              "array([12,  3,  6, 14])"
            ]
          },
          "metadata": {},
          "execution_count": 7
        }
      ]
    },
    {
      "cell_type": "code",
      "metadata": {
        "id": "mYgflQt5aFJt",
        "colab": {
          "base_uri": "https://localhost:8080/"
        },
        "outputId": "0565b24a-fc16-43f4-9f47-9956d58c3fa5"
      },
      "source": [
        "x1.ndim"
      ],
      "execution_count": null,
      "outputs": [
        {
          "output_type": "execute_result",
          "data": {
            "text/plain": [
              "1"
            ]
          },
          "metadata": {},
          "execution_count": 8
        }
      ]
    },
    {
      "cell_type": "markdown",
      "metadata": {
        "id": "zdqhaDB1aIyO"
      },
      "source": [
        "El anterior vector tiene 5 entradas, por lo tanto es llamado *vector 5-dimensional*. La *dimensionalidad* puede denotar, tanto el numero de entradas a lo larco de un eje específico, o el número de ejes en un tensor.  En el caso anterior, y para evitar confusiones con los tensor 5D, es mejor referirnos éste como *tensor de rango 5*. "
      ]
    },
    {
      "cell_type": "markdown",
      "metadata": {
        "id": "u35oVnz-bPay"
      },
      "source": [
        "## Matrices (Tensores 2D)\n",
        "\n",
        "Un arreglo de vectores es una matriz, un un tensor 2D. Una matriz tiene dos ejes, a los cuales nos referimos comúnmente como filas y columnas. Una matriz representa, visualmente, una malla rectancular de números.\n",
        "\n",
        "En numpy se define como:"
      ]
    },
    {
      "cell_type": "code",
      "metadata": {
        "id": "PcbO9GFCbxJ7",
        "colab": {
          "base_uri": "https://localhost:8080/"
        },
        "outputId": "f404de2e-639b-41c5-8b88-11eb184d631f"
      },
      "source": [
        "x2 = np.array([[5, 78, 2, 34, 0],\n",
        "[6, 79, 3, 35, 1],\n",
        "[7, 80, 4, 36, 2]])\n",
        "x2.ndim"
      ],
      "execution_count": null,
      "outputs": [
        {
          "output_type": "execute_result",
          "data": {
            "text/plain": [
              "2"
            ]
          },
          "metadata": {},
          "execution_count": 9
        }
      ]
    },
    {
      "cell_type": "markdown",
      "metadata": {
        "id": "5NbBjUqxbydT"
      },
      "source": [
        "Recordemos que a las entradas del primer eje se le llaman fillas y las entradas del segundo eje, columnas. "
      ]
    },
    {
      "cell_type": "markdown",
      "metadata": {
        "id": "eNFNQx4LcHfa"
      },
      "source": [
        "## Tensores 3D y tensores de dimensión mayor:\n",
        "\n",
        "Si agrupamos matríces de dimensiones iguales hablamos de un tensor 3D, que puede interpretarse, visualmente como un cubo de numeros. \n",
        "\n",
        "En numpy se define como:"
      ]
    },
    {
      "cell_type": "code",
      "metadata": {
        "id": "LmSFrOFTcqMT",
        "colab": {
          "base_uri": "https://localhost:8080/"
        },
        "outputId": "1f1a2c6a-3485-48cd-813a-ceaeb2f16d03"
      },
      "source": [
        "x3 = np.array([[[5, 78, 2, 34, 0],\n",
        "[6, 79, 3, 35, 1],\n",
        "[7, 80, 4, 36, 2]],\n",
        "[[5, 78, 2, 34, 0],\n",
        "[6, 79, 3, 35, 1],\n",
        "[7, 80, 4, 36, 2]],\n",
        "[[5, 78, 2, 34, 0],\n",
        "[6, 79, 3, 35, 1],\n",
        "[7, 80, 4, 36, 2]]])\n",
        "\n",
        "x3.ndim"
      ],
      "execution_count": null,
      "outputs": [
        {
          "output_type": "execute_result",
          "data": {
            "text/plain": [
              "3"
            ]
          },
          "metadata": {},
          "execution_count": 10
        }
      ]
    },
    {
      "cell_type": "markdown",
      "metadata": {
        "id": "3Lr_WRNKc2R0"
      },
      "source": [
        "Al agrupar tensores 3D en una arreglo, podemos crear tensores 4D, y así sucesivamente. En deep learning se trabajará con tensores de rango 0 a 4, y en caso como el procesamiento de videos, puede llegarse a tensores de rango 5."
      ]
    },
    {
      "cell_type": "markdown",
      "metadata": {
        "id": "iVma5hgrdaH_"
      },
      "source": [
        "### Atributos claves:\n",
        " Un tensor se encuentra determinado por tres atributos:\n",
        "\n",
        " * *Numero de ejes*: (rango): `ndim`.\n",
        " * *Forma*: que en python es una tupla de enteros que describe cuantas dimensiones tienen el tensor a lo largo de cada eje.  A este atributo se accede mediante `shape`.\n",
        " * *Data type*: Corresponde a los tipos de datos que contiene el tensor y se accede a mediante el atributo `dtype`."
      ]
    },
    {
      "cell_type": "code",
      "metadata": {
        "id": "aXYbKDhugLos",
        "colab": {
          "base_uri": "https://localhost:8080/"
        },
        "outputId": "92bc06bd-c08f-4e97-c9a5-3b243f44f784"
      },
      "source": [
        "print(\"Dimensión:\", x3.ndim)\n",
        "print(\"Forma\", x3.shape)\n",
        "print(\"Tipo de datos: \", x3.dtype)"
      ],
      "execution_count": null,
      "outputs": [
        {
          "output_type": "stream",
          "name": "stdout",
          "text": [
            "Dimensión: 3\n",
            "Forma (3, 3, 5)\n",
            "Tipo de datos:  int64\n"
          ]
        }
      ]
    },
    {
      "cell_type": "markdown",
      "metadata": {
        "id": "Fg1mMdqFhKA1"
      },
      "source": [
        "Veamos un ejemplo concreto de una base de datos MNIST de `keras`:"
      ]
    },
    {
      "cell_type": "code",
      "metadata": {
        "id": "mnTUqSzYhVyf",
        "colab": {
          "base_uri": "https://localhost:8080/"
        },
        "outputId": "83f47d94-5e8e-4fa6-faad-3f3394c522b1"
      },
      "source": [
        "from keras.datasets import mnist\n",
        "(train_images, train_labels), (test_images, test_labels) = mnist.load_data()"
      ],
      "execution_count": null,
      "outputs": [
        {
          "output_type": "stream",
          "name": "stdout",
          "text": [
            "Downloading data from https://storage.googleapis.com/tensorflow/tf-keras-datasets/mnist.npz\n",
            "11493376/11490434 [==============================] - 0s 0us/step\n",
            "11501568/11490434 [==============================] - 0s 0us/step\n"
          ]
        }
      ]
    },
    {
      "cell_type": "markdown",
      "source": [
        "http://yann.lecun.com/exdb/mnist/ "
      ],
      "metadata": {
        "id": "wSbzlaPamusO"
      }
    },
    {
      "cell_type": "code",
      "metadata": {
        "id": "MPwFNerwhbam",
        "colab": {
          "base_uri": "https://localhost:8080/"
        },
        "outputId": "eddf5819-5676-4582-c6d8-4f187cc1b108"
      },
      "source": [
        "print(train_images.ndim)"
      ],
      "execution_count": null,
      "outputs": [
        {
          "output_type": "stream",
          "name": "stdout",
          "text": [
            "3\n"
          ]
        }
      ]
    },
    {
      "cell_type": "code",
      "metadata": {
        "id": "57t7NVe0hfpt",
        "colab": {
          "base_uri": "https://localhost:8080/"
        },
        "outputId": "0a91fa9e-2a83-47cc-8ec8-51425f6a37ba"
      },
      "source": [
        "print(train_images.shape)"
      ],
      "execution_count": null,
      "outputs": [
        {
          "output_type": "stream",
          "name": "stdout",
          "text": [
            "(60000, 28, 28)\n"
          ]
        }
      ]
    },
    {
      "cell_type": "code",
      "metadata": {
        "id": "KCXnc8xjhjXY",
        "colab": {
          "base_uri": "https://localhost:8080/"
        },
        "outputId": "54a5f03b-e932-4ddf-8f8b-65563555832c"
      },
      "source": [
        "print(train_images.dtype)"
      ],
      "execution_count": null,
      "outputs": [
        {
          "output_type": "stream",
          "name": "stdout",
          "text": [
            "uint8\n"
          ]
        }
      ]
    },
    {
      "cell_type": "markdown",
      "metadata": {
        "id": "Tj8dy8h0hmaI"
      },
      "source": [
        "A continuación se resume la característica del dataset:\n",
        "\n",
        "* Tensor 3D\n",
        "* Tipos de datos: enteros de 8-bits.  "
      ]
    },
    {
      "cell_type": "markdown",
      "metadata": {
        "id": "LIQscMwDiHnQ"
      },
      "source": [
        "Visualicemos una imágen:"
      ]
    },
    {
      "cell_type": "code",
      "metadata": {
        "id": "D0Yca-i-iGxa",
        "colab": {
          "base_uri": "https://localhost:8080/",
          "height": 265
        },
        "outputId": "c4fd58a3-0a8f-4a65-e930-0f2026d5207a"
      },
      "source": [
        "digit = train_images[9]\n",
        "import matplotlib.pyplot as plt\n",
        "plt.imshow(digit, cmap=plt.cm.binary)\n",
        "plt.show()"
      ],
      "execution_count": null,
      "outputs": [
        {
          "output_type": "display_data",
          "data": {
            "text/plain": [
              "<Figure size 432x288 with 1 Axes>"
            ],
            "image/png": "[encoded data removed]"
          },
          "metadata": {
            "needs_background": "light"
          }
        }
      ]
    },
    {
      "cell_type": "code",
      "source": [
        "digit[0][25]=100\n",
        "plt.imshow(digit, cmap=plt.cm.binary)\n",
        "plt.show()"
      ],
      "metadata": {
        "id": "4S12FtVerTUU",
        "outputId": "76b77647-0415-4f25-d5f3-02d2eee6c40a",
        "colab": {
          "base_uri": "https://localhost:8080/",
          "height": 265
        }
      },
      "execution_count": null,
      "outputs": [
        {
          "output_type": "display_data",
          "data": {
            "text/plain": [
              "<Figure size 432x288 with 1 Axes>"
            ],
            "image/png": "[encoded data removed]"
          },
          "metadata": {
            "needs_background": "light"
          }
        }
      ]
    },
    {
      "cell_type": "markdown",
      "metadata": {
        "id": "_rqX_EVz9xyg"
      },
      "source": [
        "##Manipulación de tensores en Numpy:\n",
        "\n",
        "En el ejeumplo anterior se selecionó un digito específico a junto al primer eje usando la sintaxis train_images [i]. La selección de elementos específicos en un tensor se denomina corte de \"tensor slicing\". Veamos las operaciones de \"tensor slicing\" que puede hacerse con los arreglos de `numpy`.\n",
        "\n",
        "Para selecionar los digitos de 10 a 100 (si incluir el 100) hacemos:\n"
      ]
    },
    {
      "cell_type": "code",
      "metadata": {
        "id": "VYnMcF10t-A_",
        "colab": {
          "base_uri": "https://localhost:8080/"
        },
        "outputId": "dca7829a-3343-428a-96cc-06414f0c1200"
      },
      "source": [
        "my_slice = train_images[10:100]\n",
        "print(my_slice.shape)"
      ],
      "execution_count": null,
      "outputs": [
        {
          "output_type": "stream",
          "name": "stdout",
          "text": [
            "(90, 28, 28)\n"
          ]
        }
      ]
    },
    {
      "cell_type": "markdown",
      "metadata": {
        "id": "DOAHtmSTj9dF"
      },
      "source": [
        "La anterior operación es equivalente a la selección de todas las dimensiones de los ejes mediante : "
      ]
    },
    {
      "cell_type": "code",
      "metadata": {
        "id": "OtaawkhTj8rN",
        "colab": {
          "base_uri": "https://localhost:8080/"
        },
        "outputId": "6ec74d2c-ceeb-4b33-f41b-690c6ece5444"
      },
      "source": [
        "my_slice = train_images[10:100, :, :]\n",
        "my_slice.shape"
      ],
      "execution_count": null,
      "outputs": [
        {
          "output_type": "execute_result",
          "data": {
            "text/plain": [
              "(90, 28, 28)"
            ]
          },
          "metadata": {},
          "execution_count": 19
        }
      ]
    },
    {
      "cell_type": "markdown",
      "metadata": {
        "id": "95tIZ2ogk0jz"
      },
      "source": [
        "Y lo anterior es equivalenta a"
      ]
    },
    {
      "cell_type": "code",
      "metadata": {
        "id": "hGN5QWHO-8da",
        "colab": {
          "base_uri": "https://localhost:8080/"
        },
        "outputId": "9f865c16-0565-4bfc-d2cb-87be6a587070"
      },
      "source": [
        "my_slice = train_images[10:100, 0:28, 0:28]\n",
        "my_slice.shape"
      ],
      "execution_count": null,
      "outputs": [
        {
          "output_type": "execute_result",
          "data": {
            "text/plain": [
              "(90, 28, 28)"
            ]
          },
          "metadata": {},
          "execution_count": 20
        }
      ]
    },
    {
      "cell_type": "markdown",
      "metadata": {
        "id": "CygbcMkslExN"
      },
      "source": [
        "De forma general, podemos seleccionar entre dos índices cualquiera a lo largo de un eje del tensor."
      ]
    },
    {
      "cell_type": "markdown",
      "metadata": {
        "id": "NPO4933FVstH"
      },
      "source": [
        "## Problema:\n",
        "\n",
        "Dentro del conjunto de datos, seleccióne la esquina inferior que contenga $14\\times14$ píxeles en cada una de las imágenes y visualice una de ellas. "
      ]
    },
    {
      "cell_type": "markdown",
      "metadata": {
        "id": "udTRsst1WEa8"
      },
      "source": [
        "Haga click **aquí** si tiene problemas con la solución.\n",
        "\n",
        "\n",
        "\n",
        "\n",
        "<!----:\n",
        "# solución:\n",
        "my_slice_corner = train_images[:, 14:, 14:]\n",
        "\n",
        "digit = my_slice_corner[3]\n",
        "import matplotlib.pyplot as plt\n",
        "plt.imshow(digit, cmap=plt.cm.binary)\n",
        "plt.show()\n",
        "\n",
        "----->"
      ]
    },
    {
      "cell_type": "markdown",
      "metadata": {
        "id": "yJEuaDubnwYC"
      },
      "source": [
        "Recordemos que también es posible usar índices negativos. Los índices negativos indican una posición relativa al final del eje en cuestión. Recorte, por ejemplo, las imagenes anteriores para que queden centradas en matríces de 14x14."
      ]
    },
    {
      "cell_type": "markdown",
      "metadata": {
        "id": "sJ0THWkIW3mU"
      },
      "source": [
        "Haga click **aquí** si tiene problemas con la solución:\n",
        "\n",
        "\n",
        "<!-----\n",
        "my_crop_slices_centered = train_images[:, 7:-7, 7:-7]\n",
        "\n",
        "digit = my_crop_slices_centered[0]\n",
        "import matplotlib.pyplot as plt\n",
        "plt.imshow(digit, cmap=plt.cm.binary)\n",
        "plt.show()\n",
        "----->"
      ]
    },
    {
      "cell_type": "code",
      "source": [
        "my_slice2 = train_images[:, -15:-1, -15:-1]\n",
        "digit = my_slice2[5]\n",
        "import matplotlib.pyplot as plt\n",
        "plt.imshow(digit, cmap=plt.cm.binary)\n",
        "plt.show()"
      ],
      "metadata": {
        "id": "MI_6Tz6PlBpv",
        "outputId": "7dc0262c-9104-4492-bbe4-085f42e3aac6",
        "colab": {
          "base_uri": "https://localhost:8080/",
          "height": 265
        }
      },
      "execution_count": null,
      "outputs": [
        {
          "output_type": "display_data",
          "data": {
            "text/plain": [
              "<Figure size 432x288 with 1 Axes>"
            ],
            "image/png": "[encoded data removed]"
          },
          "metadata": {
            "needs_background": "light"
          }
        }
      ]
    },
    {
      "cell_type": "markdown",
      "metadata": {
        "id": "jUwNhpzGqokI"
      },
      "source": [
        "## Noción de batches\n",
        "\n",
        "En general, el primer eje (eje 0, ya que la indexación comienza en 0) de todos los  tensores de datos que encuentre en DLserá el eje de muestras (a veces denominado dimensión de muestras). En el ejemplo MNIST, las muestras son imágenes de dígitos.\n",
        "\n",
        "Además, los modelos de DL no procesan un conjunto de datos completo a la vez; en su lugar, dividen los datos en pequeños lotes. Por ejemplo:"
      ]
    },
    {
      "cell_type": "code",
      "metadata": {
        "id": "BuguJS75o1dZ"
      },
      "source": [
        "batch1 = train_images[:128]\n",
        "batch2 = train_images[128:256]"
      ],
      "execution_count": null,
      "outputs": []
    },
    {
      "cell_type": "markdown",
      "metadata": {
        "id": "NMBoiNwEruDa"
      },
      "source": [
        "El n-ésimo batch sería:\n",
        "\n",
        "$$\\text{batch} = \\text{train_images}[128 * n:128 * (n + 1)]$$"
      ]
    },
    {
      "cell_type": "markdown",
      "metadata": {
        "id": "K5YeeKTsslcr"
      },
      "source": [
        "Cuando considere un tensor batch, el primer eje (eje 0) es conocido como la dimensión del batch. Este término es comun mente usado en Keras y otras librerías de DL."
      ]
    },
    {
      "cell_type": "markdown",
      "metadata": {
        "id": "c4JDA6TSXYr-"
      },
      "source": [
        "## Ejemplo reales de tensores:\n",
        "\n",
        "* *Vector de datos:* Tensor 2D de forma `(samples,features)`.\n",
        "\n",
        "* *Datos de series de tiempos o secuencias:* Tensor 3D de forma `(samples, timesteps, features)`.\n",
        "\n",
        "* *Imágenes:* Tensores 4D de forma `(samples,height,width,channels)` o `(samples,channels,height,width)`.\n",
        "\n",
        "* *Videos:* Tensores 5D de forma `(samples,frames, height,width,channels)` o `(samples, height,frames,channels,height,width)`. "
      ]
    },
    {
      "cell_type": "markdown",
      "metadata": {
        "id": "rDoRrYjBTxuF"
      },
      "source": [
        "# Repaso de Funciones y Clases"
      ]
    },
    {
      "cell_type": "markdown",
      "metadata": {
        "id": "UQMFQFuy9XCo"
      },
      "source": [
        "<p><a name=\"funci\"></a></p>\n",
        "\n",
        "## Funciones\n",
        "\n",
        "Una función es un bloque de código organizado y reutilizable que se utiliza para realizar una única acción relacionada. Las funciones proporcionan una mejor modularidad para su aplicación y un alto grado de reutilización de código.\n",
        "\n",
        ">`def Nombre(arg1,arg2,...):`\n",
        ">> `sentencias`"
      ]
    },
    {
      "cell_type": "markdown",
      "metadata": {
        "id": "3aNX6kn2Cjuq"
      },
      "source": [
        "Definamos la función exponencial $a^b$"
      ]
    },
    {
      "cell_type": "code",
      "metadata": {
        "id": "9GaLlcUceoC2",
        "colab": {
          "base_uri": "https://localhost:8080/",
          "height": 34
        },
        "outputId": "22ff5c41-ba62-4235-8b9d-dbc27d5befa4"
      },
      "source": [
        "def Exp(a,b):\n",
        "  exp = a**b\n",
        "  print(exp)\n",
        "  return\n",
        "  \n",
        "Exp(2,2)  "
      ],
      "execution_count": null,
      "outputs": [
        {
          "output_type": "stream",
          "text": [
            "4\n"
          ],
          "name": "stdout"
        }
      ]
    },
    {
      "cell_type": "markdown",
      "metadata": {
        "id": "69ukeYx6CweR"
      },
      "source": [
        "La sentencia *return* termina la función,  devolviendo opcionalmente uno o varios valores. Una declaración de retorno sin argumentos es lo mismo que devolver *none* (como en el caso anterior)"
      ]
    },
    {
      "cell_type": "code",
      "metadata": {
        "id": "cgWrwPmf-MCk",
        "colab": {
          "base_uri": "https://localhost:8080/"
        },
        "outputId": "35e7b519-8eab-41a0-b306-4c8ecbf89a7b"
      },
      "source": [
        "def Exp(a,b):\n",
        "  return a**b\n",
        "  \n",
        "def Exp2(a,b):\n",
        "  return a**b,a**b+1,a**b+2\n",
        "\n",
        "print(Exp(2,2),type(Exp(2,2)))\n",
        "\n",
        "print(Exp2(2,2),type(Exp2(2,2)))\n"
      ],
      "execution_count": null,
      "outputs": [
        {
          "output_type": "stream",
          "name": "stdout",
          "text": [
            "4 <class 'int'>\n",
            "(4, 5, 6) <class 'tuple'>\n"
          ]
        }
      ]
    },
    {
      "cell_type": "markdown",
      "metadata": {
        "id": "qz5th2OJbPQ6"
      },
      "source": [
        "## Problema:\n",
        "\n",
        "Escriba un código en Python que devuelva el máximo valor de un vector."
      ]
    },
    {
      "cell_type": "markdown",
      "metadata": {
        "id": "et8SJMT_dIcd"
      },
      "source": [
        "Haga click en **esta** celda si tiene problemas con la solución.\n",
        "\n",
        "<!---:\n",
        "\n",
        "def max_array1D(arr): \n",
        "  \n",
        "    # Initialize maximum element \n",
        "    max = arr[0] \n",
        "  \n",
        "    # Traverse array elements from second \n",
        "    # and compare every element with  \n",
        "    # current max \n",
        "    for i in range(1, arr.shape[0]): \n",
        "        if arr[i] > max: \n",
        "            max = arr[i] \n",
        "    return max\n",
        "\n",
        "---->"
      ]
    },
    {
      "cell_type": "markdown",
      "metadata": {
        "id": "qA5jEatkIJUU"
      },
      "source": [
        "<p><a name=\"class\"></a></p>\n",
        "\n",
        "## Clases/Objetos\n",
        "\n",
        "Python es un lenguaje orientado a objetos. Casi todo en Python representa un objeto, el cual esta constituidos por sus atributos y métodos. \n",
        "\n",
        "Una clase es un \"ente creador\", o un prototipo para la creación de objetos.\n",
        "\n",
        "Las clases proporcionan un medio de agrupar datos y \"funcionalidad\". La creación de una nueva clase crea un nuevo tipo de objeto, lo que permite crear nuevas *instancias* de ese tipo. Cada instancia de la clase puede tener sus propios atributos. Las instancias de una clase también pueden tener *métodos* (definidos por su clase) para modificar su estado.\n",
        "\n",
        ">class Name():\n",
        ">>sentencias"
      ]
    },
    {
      "cell_type": "markdown",
      "metadata": {
        "id": "-loYl6I1JaGB"
      },
      "source": [
        "Los atributos son como propiedades que queremos añadir a la clase "
      ]
    },
    {
      "cell_type": "code",
      "metadata": {
        "id": "IJEykQm3JtnC"
      },
      "source": [
        "class Auto():\n",
        "  marca = ''\n",
        "  color = ''"
      ],
      "execution_count": null,
      "outputs": []
    },
    {
      "cell_type": "markdown",
      "metadata": {
        "id": "jxuP0t7xJ940"
      },
      "source": [
        "Creemos un objeto de la clase Auto con algunos atributos"
      ]
    },
    {
      "cell_type": "code",
      "metadata": {
        "id": "6pPE3CZ5KBqU",
        "colab": {
          "base_uri": "https://localhost:8080/",
          "height": 51
        },
        "outputId": "5c1d7e7b-d354-4675-9b0e-289255bce0e6"
      },
      "source": [
        "Mi_auto = Auto()\n",
        "Mi_auto.marca = 'ferrari'\n",
        "Mi_auto.color = 'rojo'\n",
        "\n",
        "print(Mi_auto.marca)\n",
        "print(Mi_auto.color)"
      ],
      "execution_count": null,
      "outputs": [
        {
          "output_type": "stream",
          "text": [
            "ferrari\n",
            "rojo\n"
          ],
          "name": "stdout"
        }
      ]
    },
    {
      "cell_type": "markdown",
      "metadata": {
        "id": "YS5NKSJ4LXPb"
      },
      "source": [
        "Dentro de las clases podemos definir funciones, conocidas como *métodos* "
      ]
    },
    {
      "cell_type": "code",
      "metadata": {
        "id": "bXc_GQGHKgV8",
        "colab": {
          "base_uri": "https://localhost:8080/",
          "height": 51
        },
        "outputId": "b175bd8a-a26a-4b3a-f80b-d2e77d70b942"
      },
      "source": [
        "class Persona():\n",
        "  nombre = ''\n",
        "  edad = ''\n",
        "  \n",
        "  def print_nombre(self):\n",
        "    print('nombre:',self.nombre)\n",
        "    \n",
        "  def print_edad(self):\n",
        "    print('edad:',self.edad)\n",
        "    \n",
        "Person1 = Persona()\n",
        "Person1.nombre = 'carolina'\n",
        "Person1.edad = 20\n",
        "\n",
        "Person1.print_nombre()\n",
        "Person1.print_edad()"
      ],
      "execution_count": null,
      "outputs": [
        {
          "output_type": "stream",
          "text": [
            "nombre: carolina\n",
            "edad: 20\n"
          ],
          "name": "stdout"
        }
      ]
    },
    {
      "cell_type": "markdown",
      "metadata": {
        "id": "MZJkf1TLNb2l"
      },
      "source": [
        "Los métodos necesitan tener un argumento convenientemente llamado self, que se refiere al objeto del método que está siendo llamado. Podemos pasar más de un argumento si así lo deseamos"
      ]
    },
    {
      "cell_type": "code",
      "metadata": {
        "id": "zj_xJIzwMwS4",
        "colab": {
          "base_uri": "https://localhost:8080/",
          "height": 51
        },
        "outputId": "ffd8a0af-90ba-4376-e4af-ad0da25da881"
      },
      "source": [
        "class Persona:\n",
        "    nombre = ''\n",
        "    edad = ''\n",
        "     \n",
        "    def print_informacion(self, nombre, edad):\n",
        "        print('nombre:',self.nombre)\n",
        "        print('edad:',self.edad)\n",
        "             \n",
        "Person2 = Persona()\n",
        "Person2.nombre = 'carlos'\n",
        "Person2.edad = '30'\n",
        "Person2.print_informacion(Person2.nombre, Person2.edad)"
      ],
      "execution_count": null,
      "outputs": [
        {
          "output_type": "stream",
          "text": [
            "nombre: carlos\n",
            "edad: 30\n"
          ],
          "name": "stdout"
        }
      ]
    },
    {
      "cell_type": "markdown",
      "metadata": {
        "id": "KOtePNB7P_5U"
      },
      "source": [
        "La operación de creación de instancias crea un objeto vacío. A muchas clases les gusta crear objetos con instancias personalizadas a un estado inicial específico. Por lo tanto, una clase puede definir un método especial llamado __init __ (), como este:"
      ]
    },
    {
      "cell_type": "code",
      "metadata": {
        "id": "K7DpEV9hN-JK",
        "colab": {
          "base_uri": "https://localhost:8080/"
        },
        "outputId": "57bdc46c-aacb-49a3-99c7-190b15e0a1c0"
      },
      "source": [
        "class Person:\n",
        "  def __init__(self,n,e):\n",
        "    self.nombre = n\n",
        "    self.edad = e\n",
        "      \n",
        "Person3 = Person('mario','55')\n",
        "print('nombre:',Person3.nombre)\n",
        "print('edad:',Person3.edad)    "
      ],
      "execution_count": null,
      "outputs": [
        {
          "output_type": "stream",
          "name": "stdout",
          "text": [
            "nombre: mario\n",
            "edad: 55\n"
          ]
        }
      ]
    },
    {
      "cell_type": "markdown",
      "metadata": {
        "id": "hOvC0M10Xfl7"
      },
      "source": [
        "## Problema\n",
        "\n",
        "Creen una clase `Point` en coordenadas cartesianas, que se su constructor inicialice el objeto a un punto con unas coordenadas dadas. Además, la clase debe contener dos métodos:\n",
        "\n",
        "* `translate()`, que reciba como argumentos dos valores arbitrarios $(x,y)$.\n",
        "* `__str__(self)`: que imprima el punto en precisión de coma flotante."
      ]
    },
    {
      "cell_type": "markdown",
      "metadata": {
        "id": "Xa6Eso-zXfWp"
      },
      "source": [
        "Haga click en **esta** celda para ver la solución en caso de dificultades.\n",
        "<!----\n",
        "\n",
        "class Point:\n",
        "    \"\"\"\n",
        "    Simple class for representing a point in a Cartesian coordinate system.\n",
        "    \"\"\"\n",
        "    \n",
        "    def __init__(self, x, y):\n",
        "        \"\"\"\n",
        "        Create a new Point at x, y.\n",
        "        \"\"\"\n",
        "        self.x = x\n",
        "        self.y = y\n",
        "        \n",
        "    def translate(self, dx, dy):\n",
        "        \"\"\"\n",
        "        Translate the point by dx and dy in the x and y direction.\n",
        "        \"\"\"\n",
        "        self.x += dx\n",
        "        self.y += dy\n",
        "        \n",
        "    def __str__(self):\n",
        "        return(\"Point at [%f, %f]\" % (self.x, self.y))\n",
        "\n",
        "!---->\n"
      ]
    },
    {
      "cell_type": "markdown",
      "metadata": {
        "id": "BTDmhfQ31dI5"
      },
      "source": [
        "# Introducción al Deep Learning\n",
        "\n",
        "\n",
        "## ¿Qué es Deep Learning?\n",
        "\n",
        "![picture](https://i.imgur.com/BtyLC2y.png)\n",
        "\n",
        "\n",
        "Como se vió la inteligencia artificial nace a partir de preguntarnos si era posible automatizar máquinas para que realizaran tareas intelectuales normalmente realizadas por humanos. A partir de esto surgen ramificaciones de la IA entre las cuales encontramos el machine learning y a su vez el Deep learning, éste último un subcampo del machine learning.\n",
        "\n",
        "El **Deep Learning** es una forma de tratar las representaciones de los datos que pone énfasis en el aprendizaje a traves de capas sucesivas, con lo cual se busca  tener representaciones cada vez mas significativas que nos permitan estar cerca de las salidas esperadas, es decir, a traves de las capaz se busca extraer progresivamente caracteristicas de un valor mas refinado.\n",
        "\n",
        "![picture](https://i.imgur.com/sOtasrr.png)\n",
        "\n",
        "Donde por representaciones hacemos referencia a todas esas posibles transformaciones que realizamos a nuestros datos de forma tal que puedan facilitar nuestra tareas.\n",
        "\n",
        "El número de capaz que contribuyen en un modelo de datos es llamado **depth** (profundidad); en general tenemos cientos de capaz en nuestros modelos, pero hay ciertos casos en los que solo se cuenta con una o dos capaz a esto se le llama **Shallow learning**(Aprendizaje poco profundo). El deep learning también es llamado  **Layered representations Learning** y **Hierarchical representations learning**. En la siguiente imagen podemos ver un esquema de los modelos de deep learning a grandes razgos.\n",
        "\n",
        "![picture](https://i.imgur.com/318WfrZ.png)\n",
        "\n",
        "\n",
        "En el Deep Learning el aprendizaje se da a partir de modelos conocidos como redes neuronales artificiales, los cuales son estructuras a capaz conectadas unas a otras, donde el nombre de red neuronal viene de la neurobiología y su comparación con el cerebro, si bien estos modelos se inspiran en este, las redes neurales *no son modelos del cerebro*, pues no se tiene la certeza de como éste funciona, es por esto que muchas personas están dejando a un lado la terminología que hace referencia a aspectos biológicos.\n",
        "\n",
        "![picture](https://i.imgur.com/uoUu9sE.png)\n",
        "\n",
        "\n",
        "En la anterior se puede ver un esquema general de una red profunda, la cual podemos pensar como una multiestación de operaciones de destilación de información, donde esta va a traves de diferentes filtros y se retorna altamente purificada, es decir, vamos obteniendo a traves de las capaz diferentes caracterisiticas que harán mas refinadas nuestras representaciones y por ende nos acercaran más a las salidas buscadas.\n",
        "\n",
        "## ¿Cómo trabaja Deep Learning?\n",
        "\n",
        "Igual que en machine learning, se tiene un mapeo input-target,esta vez a traves de una secuencia de transformaciones de los datos (capaz), como se puede ver en la siguiente imagen.\n",
        "\n",
        "![picture](https://i.imgur.com/yLfzLKI.png)\n",
        "\n",
        "Donde podemos ver que se involucran unos elementos llamados **pesos**, los cuales en esencia son una manada de números que guardan la especificación de qué le hace una capa a sus datos de entrada, es decir, la transformación implementada por una capa es parametrizada por sus pesos. En este sentido se busca encontrar a partir de lo que llamamos aprendizaje el conjunto de valores para los pesos con los cuales  la red mapea correctamente los valores de entrada con sus respectivas etiquetas.\n",
        "\n",
        "Por lo tanto a mi red neuronal le ingreso los datos de entrada, los cuales pasan a traves de las diferentes capaz realizando esa \"destilación\" de información y sale mi predicción (salida), donde en nuestra fase de entrenamiento debemos controlar este valor de salida, es decier necesitamos poder medir que tan lejos nuestra salida está del valor esperado, es aquí donde toma juego la llamada **loss function**(función de perdida) o **Objective function**(funció objetivo); esta toma la predicción y la verdadera etiqueta y calcula cierto puntaje para la distancia entres estas, logrando así capturar que tan bien la red neuronal está haciendo su trabajo.\n",
        "\n",
        "![picture](https://i.imgur.com/tIWqNoP.png)\n",
        "\n",
        "Teniendo esto el objetivo está en ajustar los pesos de forma tal que se disminuya la función de perdida, esto se logra usando un optimizador he implementado el **backpropagation**.\n",
        "\n",
        "## ¿ Qué hemos alcanzado con Deep Learning?\n",
        "\n",
        "Con la aplicacion de estos modelos se han alcanzado avances a niveles que muchas veces pueden estar cerca al de un humano; algunos como los siguientes:\n",
        "* Clasificación de imagenes\n",
        "* Reconocimiento de voz\n",
        "* Transcripión de textos\n",
        "* Mejora en las traducciones automáticas\n",
        "* Conversión de voz a texto\n",
        "* Carros autonomos\n",
        "* Entre otros\n",
        "\n",
        "A | B\n",
        "- | - \n",
        "![alt](https://i.imgur.com/5p8aMXy.png) | ![alt](https://miro.medium.com/max/1966/1*nJNxFmJaHxyJTtVFkhGTlg.png)\n",
        "\n",
        "## ¿Qué hace diferente a Deep Learning?\n",
        "\n",
        "* Ofrece mejores soluciones en algunos problemas\n",
        "* Automatiza el feature engineering\n",
        "* Todas las capaz aprenden conjuntamente,esto lo hace paralelizable.\n",
        "\n",
        "Si bien estas son unas de las características que destacan, existen muchas más que nos permiten que modelos complejos puedan ser abordados con facilidad y mayor velocidad en comparación con hace unos años.\n",
        "\n",
        "\n",
        "## ¿ Por qué DL ahora?\n",
        "\n",
        "Si bien las teorías y modelos de DL y en general de la IA se han planteado hace ya un buen tiempo, el rápido crecimiento en los últimos años se ha dado debido a los avances en **hardware** y **Datos**, pues básicamente la IA es un campo experimental mas que teorico, eso no implica que la teoría haya quedado a un lado, pues el avance en capacidad de computo y datos permiten a su vez el avance en nuevos algoritmos. \n",
        "\n",
        "# Redes neuronales artificiales\n",
        "\n",
        "Estas fueron inspiradas en las neuronas biológicas y sus conexiones en el cerebro de los animales, donde estas son celulas nerviosas que proveen unidades funcionales fundamentales para el sistema nervioso de los animales. Las neuronas biológicas se comunican a través de impulsos electro-químicos, llamados señales.Estas están conectadas unas a otras organizadas en redes de millones de nueronas. En la siguiente imagen se pueden ver algunos de los componentes de las neuronas biológicas.\n",
        "\n",
        "\n",
        "<p><img alt=\"Colaboratory logo\" height=\"300px\" src=\"https://i.imgur.com/uEgQGB3.png\" align=\"center\" hspace=\"10px\" vspace=\"0px\"></p>\n",
        "\n",
        "Las redes neuronales artificiales (Artificial neural networks), fueron introducidas inicialmente por  Warren McCulloh y Walter Pitts  en los años 40, donde mostraban un  modelo de como las neuronas biológicas podían  realizar complejos cálculos a partir de la lógica proposicional. Estos propusieron un modelo de neurona artificial donde se tenían entradas y salidas binarias.\n",
        "\n",
        "![picture](https://i.imgur.com/qULaQPN.png)\n",
        "\n",
        "Ellos mostraron que a partir de la unión de varias de estas neuronas artificiales, es decir a traves de una red nueronal artificial, se podía calcular cualquier proposición lógica que se quisiera.\n",
        "\n",
        "## El perceptrón\n",
        "\n",
        "A finales de los años 50's  fue diseñado por Frank Rosenblant el perceptrón, inspirandose en los trabajos de McCulloh y Pitts, es considerada la arquitectura mas simple en Deep Learning. Es un  modelo lineal de clasificación binaria  con una relaicón de entrada y salida como se ve en la siguiente imagen:\n",
        "\n",
        "<p><img alt=\"Colaboratory logo\" height=\"300px\" src=\"https://i.imgur.com/3S8Hhfy.png\" align=\"center\" hspace=\"10px\" vspace=\"0px\"></p>\n",
        "\n",
        "Donde a cada dato de entrada se le asocia un peso y luego de realizar la sumatoria asociada se pasa por la función de activación, que para el caso del perceptrón normalmente es la función escalón de **Heaviside**, aunque algunas veces también se usa la función sign, ambas definidas de la siguiente manera:\n",
        "\n",
        "\\begin{equation} \n",
        "heaviside(z) = \n",
        "     \\begin{cases}\n",
        "      \\text{0} &\\quad\\text{if}&  z < 0\\\\\n",
        "      \\text{+1} &\\quad\\text{if}& z\\geq 0\\\\\n",
        "     \\end{cases}\\\\     \n",
        "\\end{equation}\n",
        "\n",
        "\\begin{equation} \n",
        "sing(z) = \n",
        "     \\begin{cases}\n",
        "      \\text{-1} &\\quad\\text{if}&  z < 0\\\\\n",
        "      \\text{0} &\\quad\\text{if}&  z = 0\\\\\n",
        "      \\text{+1} &\\quad\\text{if}&  z > 0\\\\\n",
        "     \\end{cases}\n",
        "\\end{equation}\n",
        "\n",
        "\n",
        "\n",
        "\n"
      ]
    },
    {
      "cell_type": "markdown",
      "metadata": {
        "id": "4v1rLwrItXhj"
      },
      "source": [
        "La salida de la función paso es la salida del perceptrón y me da la clasificación de los valores de entrada. El algoritmo de aprendizaje del perceptrón no puede clasificar entradas que no son linermente separables.\n",
        "\n",
        "## Multilayer feed forward networks\n",
        "\n",
        "La multilayer feed forward network es una red neuronal con una capa de entrada, una o mas capaz ocultas y una capa de salida. Cada capa tiene una o mas nuronas artificiales, éstas son similares al perceptrón a diferencia de que su función de activación dependerá de los propositos específicos de la capa en la red.\n",
        "\n",
        "<p><img alt=\"Colaboratory logo\" height=\"300px\" src=\"https://i.imgur.com/fcBNqyp.png\" align=\"center\" hspace=\"10px\" vspace=\"0px\"></p>\n",
        "\n",
        "Como vemos se tiene una estructura como la del perceptrón, a diferencia de la antes mencionada flexibilidad en cuanto a la función de activación, algunas de las más utilizadas se pueden ver en el siguiente gráfico\n",
        "\n",
        "![picture](https://i.imgur.com/j8vunMo.png)\n",
        "\n",
        "Como se ha mencionado, las redes neuronales artificiales son un conjunto de neuronas artificiales agrupadas en lo que denominamos capaz, estas usan en cada capa el mismo tipo de función de activación, donde para una capa diferente a la de entrada, sus datos de entrada serán las salidas de la capa previa (activación). Nuestra salida o predicción, será un mapeo producto de los datos de entrada, donde podrá ser el resultado de una clasificación o regresión de acuerdo a nuestro objetivo.En general la capa de salida usa como función de activación  la función sigmoid o softmax.\n",
        "\n",
        "\n",
        "<p><img alt=\"Colaboratory logo\" height=\"300px\" src=\"https://i.imgur.com/9QkhmiE.png\" align=\"center\" hspace=\"10px\" vspace=\"0px\"></p>\n",
        "\n",
        "En la anterior se puede ver un bosquejo de lo que es una red neuronal artificial."
      ]
    },
    {
      "cell_type": "markdown",
      "metadata": {
        "id": "vuwf_IuGlJuC"
      },
      "source": [
        "# Introduccion a keras\n",
        "Keras es una interfaz de programación de aplicaciones (API) que permite de manera fácil construir, entrenar, evaluar y ejecutar casi cualquier tipo de red neuronal. Keras fue creado por François Chollet como parte de un proyecto de investigación y fue lanzando al mercado de manera gratuita en marzo del 2015.\n",
        "Keras ganó rápidamente popularidad debido a su facilidad de uso , flexibilidad y diseño .\n",
        "\n",
        "Algunas características claves de keras son:\n",
        "\n",
        "* Permite que el mismo código se ejecute sin problemas en la CPU o GPU. \n",
        "* Tiene una API fácil de usar que facilita la creación rápida de prototipos de modelos de aprendizaje profundo.\n",
        "* Es compatible con arquitecturas de red arbitrarias. Esto significa que Keras es apropiado para construir esencialmente cualquier modelo de aprendizaje profundo, desde una red generativa de confrontación hasta una máquina neural de Turing.\n",
        "\n",
        "\n",
        "Keras tiene más de 200,000 usuarios, que van desde investigadores académicos e ingenieros en empresas nuevas y grandes empresas hasta estudiantes graduados y aficionados. Keras se usa en Google, Netflix, Uber, CERN, Yelp, Square y cientos de nuevas empresas que trabajan en una amplia gama de problemas. Keras también es popular en Kaggle, el sitio web donde se realizan competencia de aprendizaje automático, donde casi todas las competencias recientes de aprendizaje profundo se han ganado utilizando los modelos Keras.\n",
        "\n",
        "## Keras, TensorFlow, Theano, CNTK, y Pytorch\n",
        "\n",
        "Para realizar los cálculos requeridos por las redes neuronales, Keras usa librerías especializada y bien optimizada. TensorFlow, CNTK y Theano son algunas de las librerias principales para el aprendizaje profundo en la actualidad. Theano (http://deeplearning.net/software/theano) es desarrollado por el laboratorio MILA en la Universidad de Montreal, TensorFlow (www.tensorflow.org) es desarrollado por Google, CNTK (https://github.com/Microsoft / CNTK) es desarrollado por Microsoft y Pytorch es desarrollado por Facebook (https://pytorch.org/).\n",
        "\n",
        "Se recomienda utilizar TensorFlow como la biblioteca predeterminada para la mayoría de las tareas de aprendizaje profundo, ya que es la más ampliamente adoptada, escalable y lista para producción.\n",
        "\n",
        "## Configurar una estación de trabajo de aprendizaje profundo\n",
        "\n",
        "Antes de comenzar a desarrollar aplicaciones de aprendizaje profundo, debe configurar su estación de trabajo. Es muy recomendable, aunque no estrictamente necesario, que ejecute código de aprendizaje profundo en una GPU. Algunas aplicaciones, en particular, el procesamiento de imágenes con redes convolucionales será extremadamente lento en la CPU, incluso en una CPU multinúcleo rápida, e incluso para las aplicaciones que se pueden ejecutar de manera realista en la CPU, generalmente se verá un aumento de la velocidad en un factor de 5 o 10 al usar una GPU moderna.\n",
        "\n",
        "\n",
        "Al usar google colaboratory es fácil establecer la GPU como lugar de trabajo,  solo debes ir a la pestaña editar , luego seleccionar ajustes de notebook y finalmente seleccionar GPU \n",
        "\n",
        "\n",
        "<p><img alt=\"Colaboratory logo\" height=\"450px\" src=\"https://i.imgur.com/fKMwMLg.png\" align=\"center\" hspace=\"10px\" vspace=\"0px\"></p> \n",
        "\n",
        "Una vez establecido el lugar de trabajo, podemos empezar a usar Keras, para esto el primer pasa es importar Keras seleccionando TensorFLow como librería para realizar los cálculos matemáticos. \n",
        "\n",
        "\n"
      ]
    },
    {
      "cell_type": "code",
      "metadata": {
        "id": "eoGb_Yw13eEE"
      },
      "source": [
        "from tensorflow import keras"
      ],
      "execution_count": null,
      "outputs": []
    },
    {
      "cell_type": "markdown",
      "metadata": {
        "id": "eoKiX_lL0pf5"
      },
      "source": [
        "## Ejemplo: clasificador de imágenes usando Keras\n",
        "\n",
        "Para ilustrar la manera en que Keras es usado en el aprendizaje profundo, realizaremos un ejemplo de clasificación usando conjunto de datos *Fashion MNIST* el cual consta de 70,000 imágenes (las imágenes representan artículos de moda) en escala de grises de 28 × 28 píxeles cada una y con 10 clases. \n",
        "\n",
        "### Uso de Keras para cargar el conjunto de datos\n",
        "\n",
        "Comencemos cargando el conjunto de datos Fashion MNIST. Keras tiene una serie de funciones para cargar conjuntos de datos populares en keras.datasets. El conjunto de datos ya está dividido entre un conjunto de entrenamiento y un conjunto de prueba, pero puede ser útil dividir aún más el conjunto de entrenamiento para tener un conjunto de validación:\n",
        "\n",
        "\n",
        "\n",
        "\n"
      ]
    },
    {
      "cell_type": "code",
      "metadata": {
        "id": "Gzwdt_sB0J1n"
      },
      "source": [
        "from keras.datasets import fashion_mnist"
      ],
      "execution_count": null,
      "outputs": []
    },
    {
      "cell_type": "markdown",
      "source": [
        "https://www.kaggle.com/datasets/zalando-research/fashionmnist"
      ],
      "metadata": {
        "id": "UT6_ZHY-MXyQ"
      }
    },
    {
      "cell_type": "code",
      "source": [
        ""
      ],
      "metadata": {
        "id": "3y1vVOH9MXAX"
      },
      "execution_count": null,
      "outputs": []
    },
    {
      "cell_type": "code",
      "metadata": {
        "id": "5Rc0_ejg2wrI",
        "colab": {
          "base_uri": "https://localhost:8080/"
        },
        "outputId": "95d6d321-4ef9-4a65-a155-94608b3e9552"
      },
      "source": [
        "fashion_mnist = keras.datasets.fashion_mnist\n",
        "(X_train_full, y_train_full), (X_test, y_test) = fashion_mnist.load_data()"
      ],
      "execution_count": null,
      "outputs": [
        {
          "output_type": "stream",
          "name": "stdout",
          "text": [
            "Downloading data from https://storage.googleapis.com/tensorflow/tf-keras-datasets/train-labels-idx1-ubyte.gz\n",
            "32768/29515 [=================================] - 0s 0us/step\n",
            "40960/29515 [=========================================] - 0s 0us/step\n",
            "Downloading data from https://storage.googleapis.com/tensorflow/tf-keras-datasets/train-images-idx3-ubyte.gz\n",
            "26427392/26421880 [==============================] - 0s 0us/step\n",
            "26435584/26421880 [==============================] - 0s 0us/step\n",
            "Downloading data from https://storage.googleapis.com/tensorflow/tf-keras-datasets/t10k-labels-idx1-ubyte.gz\n",
            "16384/5148 [===============================================================================================] - 0s 0us/step\n",
            "Downloading data from https://storage.googleapis.com/tensorflow/tf-keras-datasets/t10k-images-idx3-ubyte.gz\n",
            "4423680/4422102 [==============================] - 0s 0us/step\n",
            "4431872/4422102 [==============================] - 0s 0us/step\n"
          ]
        }
      ]
    },
    {
      "cell_type": "markdown",
      "metadata": {
        "id": "E2yxNVfK5xNc"
      },
      "source": [
        "El conjunto de entrenamiento contiene 60,000 imágenes en escala de grises, cada una de 28x28 píxeles:"
      ]
    },
    {
      "cell_type": "code",
      "metadata": {
        "id": "mJWT0_0p22Kb",
        "colab": {
          "base_uri": "https://localhost:8080/"
        },
        "outputId": "760308b5-c1e3-4864-85f8-0f7a21d40dd8"
      },
      "source": [
        "X_train_full.shape"
      ],
      "execution_count": null,
      "outputs": [
        {
          "output_type": "execute_result",
          "data": {
            "text/plain": [
              "(60000, 28, 28)"
            ]
          },
          "metadata": {},
          "execution_count": 6
        }
      ]
    },
    {
      "cell_type": "markdown",
      "metadata": {
        "id": "Z_pNaHwm75gv"
      },
      "source": [
        "La intensidad de cada píxel se representa como un byte (enteros entre 0 a 255):"
      ]
    },
    {
      "cell_type": "code",
      "metadata": {
        "id": "pRnupX-r43j0",
        "colab": {
          "base_uri": "https://localhost:8080/"
        },
        "outputId": "8f2212e2-1628-4d17-9d97-5949a58f9140"
      },
      "source": [
        "X_train_full.dtype"
      ],
      "execution_count": null,
      "outputs": [
        {
          "output_type": "execute_result",
          "data": {
            "text/plain": [
              "dtype('uint8')"
            ]
          },
          "metadata": {},
          "execution_count": 7
        }
      ]
    },
    {
      "cell_type": "markdown",
      "metadata": {
        "id": "SHVIm3Ba8k8j"
      },
      "source": [
        "Ahora dividamos el conjunto de datos de entrenamiento en un conjunto de validación y un conjunto de entrenamiento (más pequeño). También escalamos las intensidades de píxeles en el rango 0-1 y las convertimos en flotantes al dividiéndolas por 255."
      ]
    },
    {
      "cell_type": "code",
      "metadata": {
        "id": "I2YO8M1D8FeH"
      },
      "source": [
        "X_valid, X_train = X_train_full[:5000] / 255., X_train_full[5000:] / 255.\n",
        "y_valid, y_train = y_train_full[:5000], y_train_full[5000:]\n",
        "X_test = X_test / 255."
      ],
      "execution_count": null,
      "outputs": []
    },
    {
      "cell_type": "code",
      "source": [
        "y_train[0]"
      ],
      "metadata": {
        "id": "CtUtve9iL-l8",
        "outputId": "6e794523-ff5e-4647-cb41-8cc8bdfa3b69",
        "colab": {
          "base_uri": "https://localhost:8080/"
        }
      },
      "execution_count": null,
      "outputs": [
        {
          "output_type": "execute_result",
          "data": {
            "text/plain": [
              "4"
            ]
          },
          "metadata": {},
          "execution_count": 9
        }
      ]
    },
    {
      "cell_type": "markdown",
      "metadata": {
        "id": "yZkbwEA19U5n"
      },
      "source": [
        "visualicemos la primera imagen del conjunto de datos usando matplotlib"
      ]
    },
    {
      "cell_type": "code",
      "metadata": {
        "id": "A3gJYN-u9BeP"
      },
      "source": [
        "import matplotlib.pyplot as plt \n",
        "#import seaborn as sns; sns.set()"
      ],
      "execution_count": null,
      "outputs": []
    },
    {
      "cell_type": "code",
      "metadata": {
        "id": "LO3P6C6N9Ys6",
        "colab": {
          "base_uri": "https://localhost:8080/",
          "height": 248
        },
        "outputId": "75f4549f-17dc-41dc-a7c5-be859166ce06"
      },
      "source": [
        "plt.imshow(X_train[0], cmap=\"binary\")\n",
        "plt.axis('off');"
      ],
      "execution_count": null,
      "outputs": [
        {
          "output_type": "display_data",
          "data": {
            "text/plain": [
              "<Figure size 432x288 with 1 Axes>"
            ],
            "image/png": "[encoded data removed]"
          },
          "metadata": {
            "needs_background": "light"
          }
        }
      ]
    },
    {
      "cell_type": "markdown",
      "metadata": {
        "id": "_M2U8x_y9zn-"
      },
      "source": [
        "Las etiquetas van de 0 a 9, por lo que hay 10 tipos diferentes de ropa."
      ]
    },
    {
      "cell_type": "code",
      "metadata": {
        "id": "JDVBx8FO-LgA"
      },
      "source": [
        "import numpy as np"
      ],
      "execution_count": null,
      "outputs": []
    },
    {
      "cell_type": "code",
      "metadata": {
        "id": "wH0JSon39Z8F",
        "colab": {
          "base_uri": "https://localhost:8080/"
        },
        "outputId": "1e667b5f-76fc-491d-db5f-0db38904ba8b"
      },
      "source": [
        "np.unique(y_train)"
      ],
      "execution_count": null,
      "outputs": [
        {
          "output_type": "execute_result",
          "data": {
            "text/plain": [
              "array([0, 1, 2, 3, 4, 5, 6, 7, 8, 9], dtype=uint8)"
            ]
          },
          "metadata": {},
          "execution_count": 12
        }
      ]
    },
    {
      "cell_type": "markdown",
      "metadata": {
        "id": "OVuZTuwN-Ujp"
      },
      "source": [
        "los nombres para cada una de las clases son: "
      ]
    },
    {
      "cell_type": "code",
      "metadata": {
        "id": "rgX0QvkV98Il"
      },
      "source": [
        "class_names = [\"T-shirt/top\", \"Trouser\", \"Pullover\", \"Dress\", \"Coat\",\n",
        "               \"Sandal\", \"Shirt\", \"Sneaker\", \"Bag\", \"Ankle boot\"]"
      ],
      "execution_count": null,
      "outputs": []
    },
    {
      "cell_type": "markdown",
      "metadata": {
        "id": "zw-gJmK7-qmc"
      },
      "source": [
        "Entonces, la primera imagen en el conjunto de entrenamiento es un abrigo(Coat)"
      ]
    },
    {
      "cell_type": "code",
      "metadata": {
        "id": "BThb_pJK-ZpA",
        "colab": {
          "base_uri": "https://localhost:8080/",
          "height": 34
        },
        "outputId": "2c09eaed-5361-484a-b435-020c6183e17a"
      },
      "source": [
        "class_names[y_train[0]]"
      ],
      "execution_count": null,
      "outputs": [
        {
          "output_type": "execute_result",
          "data": {
            "text/plain": [
              "'Coat'"
            ]
          },
          "metadata": {
            "tags": []
          },
          "execution_count": 12
        }
      ]
    },
    {
      "cell_type": "markdown",
      "metadata": {
        "id": "NGTh1v2u_AuD"
      },
      "source": [
        "El conjunto de validación contiene 5,000 imágenes, y el conjunto de prueba contiene 10,000 imágenes:"
      ]
    },
    {
      "cell_type": "code",
      "metadata": {
        "id": "SofDeaM9Aklm",
        "colab": {
          "base_uri": "https://localhost:8080/",
          "height": 34
        },
        "outputId": "c16a0183-6c0c-438e-da11-832961e7ad5a"
      },
      "source": [
        "X_valid.shape"
      ],
      "execution_count": null,
      "outputs": [
        {
          "output_type": "execute_result",
          "data": {
            "text/plain": [
              "(5000, 28, 28)"
            ]
          },
          "metadata": {
            "tags": []
          },
          "execution_count": 13
        }
      ]
    },
    {
      "cell_type": "code",
      "metadata": {
        "id": "fX4z_5o1BPC4",
        "colab": {
          "base_uri": "https://localhost:8080/",
          "height": 34
        },
        "outputId": "c48ab668-58b0-4d7f-e182-dc44fcf8c927"
      },
      "source": [
        "X_test.shape"
      ],
      "execution_count": null,
      "outputs": [
        {
          "output_type": "execute_result",
          "data": {
            "text/plain": [
              "(10000, 28, 28)"
            ]
          },
          "metadata": {
            "tags": []
          },
          "execution_count": 14
        }
      ]
    },
    {
      "cell_type": "markdown",
      "metadata": {
        "id": "Wb53If_5_FXr"
      },
      "source": [
        "visualicemos ahora algunas de las imágenes de los datos de entrenamiento con su respectiva etiqueta"
      ]
    },
    {
      "cell_type": "code",
      "metadata": {
        "id": "ueEfL0_l_ERq",
        "colab": {
          "base_uri": "https://localhost:8080/",
          "height": 329
        },
        "outputId": "596ade67-4831-409f-c519-a9824ae8a73f"
      },
      "source": [
        "fig , ax =  plt.subplots(3,10, figsize=(15,5))\n",
        "for i , ax in enumerate(ax.flat):\n",
        "  ax.imshow(X_train[i], cmap='binary')\n",
        "  ax.set_axis_off()\n",
        "  ax.set_title(class_names[y_train[i]])"
      ],
      "execution_count": null,
      "outputs": [
        {
          "output_type": "display_data",
          "data": {
            "image/png": "[encoded data removed]",
            "text/plain": [
              "<Figure size 1080x360 with 30 Axes>"
            ]
          },
          "metadata": {
            "tags": []
          }
        }
      ]
    },
    {
      "cell_type": "markdown",
      "metadata": {
        "id": "ZQpJetqBAE_G"
      },
      "source": [
        "## Uso de Keras para crean un modelo de aprendizaje profundo \n"
      ]
    },
    {
      "cell_type": "code",
      "metadata": {
        "id": "Mf3T-mTrDWwN"
      },
      "source": [
        "keras.backend.clear_session()"
      ],
      "execution_count": null,
      "outputs": []
    },
    {
      "cell_type": "code",
      "metadata": {
        "id": "k8bwYESv_q4T",
        "colab": {
          "base_uri": "https://localhost:8080/",
          "height": 87
        },
        "outputId": "34c869d4-0d34-4a8b-d2ea-4429266e3511"
      },
      "source": [
        "model = keras.models.Sequential();\n",
        "model.add(keras.layers.Flatten(input_shape=[28, 28]));\n",
        "model.add(keras.layers.Dense(300, activation=\"relu\"));\n",
        "model.add(keras.layers.Dense(100, activation=\"relu\"));\n",
        "model.add(keras.layers.Dense(10, activation=\"softmax\"));"
      ],
      "execution_count": null,
      "outputs": [
        {
          "output_type": "stream",
          "text": [
            "WARNING:tensorflow:From /usr/local/lib/python3.6/dist-packages/tensorflow_core/python/ops/resource_variable_ops.py:1630: calling BaseResourceVariable.__init__ (from tensorflow.python.ops.resource_variable_ops) with constraint is deprecated and will be removed in a future version.\n",
            "Instructions for updating:\n",
            "If using Keras pass *_constraint arguments to layers.\n"
          ],
          "name": "stdout"
        }
      ]
    },
    {
      "cell_type": "markdown",
      "metadata": {
        "id": "61zlC3ywA-DB"
      },
      "source": [
        "Veamos este código línea por línea:\n",
        "* La primera línea crea un modelo secuencial. Este es el tipo más simple de modelo para redes neuronales que están compuestas de una sola pila de capas, conectadas secuencialmente. Esto se llama la API secuencial.\n",
        "\n",
        "* Luego , construimos la primera capa y la agregamos al modelo. Es una capa Flatten cuyo papel es simplemente convertir cada imagen de entrada en un arregle 1D:\n",
        "\n",
        "* Luego, agregamos una capa oculta densa con 300 neuronas la cual utilizará la función de activación ReLU.\n",
        "\n",
        "* Luego, agregamos una segunda capa oculta densa con 100 neuronas, que también utiliza la función de activación ReLU.\n",
        "\n",
        "* Finalmente, agregamos una capa de salida densa con 10 neuronas (una por clase), usando la función de activación softmax (porque las clases son exclusivas).\n",
        "\n",
        "El método `summary()` muestra un resumen de todas las capas del modelo.\n"
      ]
    },
    {
      "cell_type": "code",
      "metadata": {
        "id": "NXRM66UtA1_6",
        "colab": {
          "base_uri": "https://localhost:8080/",
          "height": 286
        },
        "outputId": "794228c9-0a52-4132-e76a-77cc3e988978"
      },
      "source": [
        "model.summary()"
      ],
      "execution_count": null,
      "outputs": [
        {
          "output_type": "stream",
          "text": [
            "Model: \"sequential\"\n",
            "_________________________________________________________________\n",
            "Layer (type)                 Output Shape              Param #   \n",
            "=================================================================\n",
            "flatten (Flatten)            (None, 784)               0         \n",
            "_________________________________________________________________\n",
            "dense (Dense)                (None, 300)               235500    \n",
            "_________________________________________________________________\n",
            "dense_1 (Dense)              (None, 100)               30100     \n",
            "_________________________________________________________________\n",
            "dense_2 (Dense)              (None, 10)                1010      \n",
            "=================================================================\n",
            "Total params: 266,610\n",
            "Trainable params: 266,610\n",
            "Non-trainable params: 0\n",
            "_________________________________________________________________\n"
          ],
          "name": "stdout"
        }
      ]
    },
    {
      "cell_type": "markdown",
      "metadata": {
        "id": "rF8jSbXFDrM-"
      },
      "source": [
        "## Compilando el modelo\n",
        "\n",
        "Después de crear un modelo, se debe llamar el método `compile()` para especificar la función de pérdida y el optimizador a utilizar. Opcionalmente, también puede especificar una lista de métricas  para calcular durante el entrenamiento y la evaluación:"
      ]
    },
    {
      "cell_type": "code",
      "metadata": {
        "id": "6xmf4dP6DN1z"
      },
      "source": [
        "model.compile(loss='sparse_categorical_crossentropy',\n",
        "              optimizer='sgd', \n",
        "              metrics=[\"accuracy\"])"
      ],
      "execution_count": null,
      "outputs": []
    },
    {
      "cell_type": "markdown",
      "metadata": {
        "id": "1mjB4LdpFDXF"
      },
      "source": [
        "## Entrenando y evaluando el modelo"
      ]
    },
    {
      "cell_type": "markdown",
      "metadata": {
        "id": "5hUzUbzhGk1r"
      },
      "source": [
        "Ahora el modelo está listo para ser entrenado. Para esto simplemente necesitamos llamar a su método `fit()`. Le pasamos las características de entrada (X_train) y las clases de destino (y_train), así como la cantidad de épocas para entrenar (o de lo contrario, sería predeterminado a solo 1). También pasamos un conjunto de validación (esto es opcional): Keras medirá la pérdida y las métricas adicionales en este conjunto al final de cada época, lo cual es muy útil para ver qué tan bien se desempeña realmente el modelo."
      ]
    },
    {
      "cell_type": "code",
      "metadata": {
        "id": "g54_sBZjEskv",
        "colab": {
          "base_uri": "https://localhost:8080/",
          "height": 1000
        },
        "outputId": "5abfb55f-250f-4881-b387-48e68a890bd0"
      },
      "source": [
        "history =  model.fit(X_train, y_train, epochs=20, validation_data=(X_valid, y_valid))"
      ],
      "execution_count": null,
      "outputs": [
        {
          "output_type": "stream",
          "text": [
            "Train on 55000 samples, validate on 5000 samples\n",
            "Epoch 1/30\n",
            "55000/55000 [==============================] - 6s 107us/sample - loss: 0.7015 - acc: 0.7716 - val_loss: 0.5066 - val_acc: 0.8314\n",
            "Epoch 2/30\n",
            "55000/55000 [==============================] - 5s 96us/sample - loss: 0.4891 - acc: 0.8301 - val_loss: 0.4493 - val_acc: 0.8500\n",
            "Epoch 3/30\n",
            "55000/55000 [==============================] - 5s 96us/sample - loss: 0.4470 - acc: 0.8420 - val_loss: 0.4130 - val_acc: 0.8578\n",
            "Epoch 4/30\n",
            "55000/55000 [==============================] - 5s 96us/sample - loss: 0.4180 - acc: 0.8521 - val_loss: 0.4151 - val_acc: 0.8548\n",
            "Epoch 5/30\n",
            "55000/55000 [==============================] - 5s 96us/sample - loss: 0.3978 - acc: 0.8611 - val_loss: 0.4228 - val_acc: 0.8492\n",
            "Epoch 6/30\n",
            "55000/55000 [==============================] - 5s 96us/sample - loss: 0.3828 - acc: 0.8661 - val_loss: 0.3969 - val_acc: 0.8636\n",
            "Epoch 7/30\n",
            "55000/55000 [==============================] - 5s 94us/sample - loss: 0.3685 - acc: 0.8701 - val_loss: 0.3770 - val_acc: 0.8676\n",
            "Epoch 8/30\n",
            "55000/55000 [==============================] - 5s 96us/sample - loss: 0.3563 - acc: 0.8751 - val_loss: 0.3524 - val_acc: 0.8754\n",
            "Epoch 9/30\n",
            "55000/55000 [==============================] - 5s 97us/sample - loss: 0.3462 - acc: 0.8775 - val_loss: 0.3450 - val_acc: 0.8784\n",
            "Epoch 10/30\n",
            "55000/55000 [==============================] - 5s 96us/sample - loss: 0.3372 - acc: 0.8799 - val_loss: 0.3509 - val_acc: 0.8742\n",
            "Epoch 11/30\n",
            "55000/55000 [==============================] - 5s 97us/sample - loss: 0.3281 - acc: 0.8835 - val_loss: 0.3399 - val_acc: 0.8780\n",
            "Epoch 12/30\n",
            "55000/55000 [==============================] - 5s 96us/sample - loss: 0.3199 - acc: 0.8867 - val_loss: 0.3326 - val_acc: 0.8782\n",
            "Epoch 13/30\n",
            "55000/55000 [==============================] - 5s 96us/sample - loss: 0.3119 - acc: 0.8882 - val_loss: 0.3408 - val_acc: 0.8770\n",
            "Epoch 14/30\n",
            "55000/55000 [==============================] - 5s 95us/sample - loss: 0.3054 - acc: 0.8915 - val_loss: 0.3332 - val_acc: 0.8810\n",
            "Epoch 15/30\n",
            "55000/55000 [==============================] - 5s 99us/sample - loss: 0.2990 - acc: 0.8934 - val_loss: 0.3179 - val_acc: 0.8868\n",
            "Epoch 16/30\n",
            "55000/55000 [==============================] - 5s 96us/sample - loss: 0.2924 - acc: 0.8955 - val_loss: 0.3239 - val_acc: 0.8840\n",
            "Epoch 17/30\n",
            "55000/55000 [==============================] - 5s 97us/sample - loss: 0.2869 - acc: 0.8964 - val_loss: 0.3207 - val_acc: 0.8850\n",
            "Epoch 18/30\n",
            "55000/55000 [==============================] - 5s 96us/sample - loss: 0.2811 - acc: 0.8980 - val_loss: 0.3135 - val_acc: 0.8850\n",
            "Epoch 19/30\n",
            "55000/55000 [==============================] - 5s 98us/sample - loss: 0.2764 - acc: 0.9007 - val_loss: 0.3099 - val_acc: 0.8872\n",
            "Epoch 20/30\n",
            "55000/55000 [==============================] - 5s 95us/sample - loss: 0.2709 - acc: 0.9037 - val_loss: 0.3100 - val_acc: 0.8894\n",
            "Epoch 21/30\n",
            "55000/55000 [==============================] - 5s 97us/sample - loss: 0.2659 - acc: 0.9038 - val_loss: 0.3068 - val_acc: 0.8876\n",
            "Epoch 22/30\n",
            "55000/55000 [==============================] - 5s 96us/sample - loss: 0.2619 - acc: 0.9061 - val_loss: 0.2983 - val_acc: 0.8936\n",
            "Epoch 23/30\n",
            "55000/55000 [==============================] - 5s 98us/sample - loss: 0.2574 - acc: 0.9074 - val_loss: 0.3141 - val_acc: 0.8916\n",
            "Epoch 24/30\n",
            "55000/55000 [==============================] - 5s 97us/sample - loss: 0.2532 - acc: 0.9083 - val_loss: 0.3088 - val_acc: 0.8878\n",
            "Epoch 25/30\n",
            "55000/55000 [==============================] - 5s 96us/sample - loss: 0.2480 - acc: 0.9107 - val_loss: 0.2946 - val_acc: 0.8950\n",
            "Epoch 26/30\n",
            "55000/55000 [==============================] - 5s 97us/sample - loss: 0.2437 - acc: 0.9124 - val_loss: 0.3004 - val_acc: 0.8914\n",
            "Epoch 27/30\n",
            "55000/55000 [==============================] - 5s 95us/sample - loss: 0.2409 - acc: 0.9129 - val_loss: 0.3082 - val_acc: 0.8876\n",
            "Epoch 28/30\n",
            "55000/55000 [==============================] - 5s 96us/sample - loss: 0.2355 - acc: 0.9156 - val_loss: 0.2873 - val_acc: 0.8966\n",
            "Epoch 29/30\n",
            "55000/55000 [==============================] - 5s 97us/sample - loss: 0.2326 - acc: 0.9165 - val_loss: 0.2945 - val_acc: 0.8954\n",
            "Epoch 30/30\n",
            "55000/55000 [==============================] - 5s 96us/sample - loss: 0.2286 - acc: 0.9181 - val_loss: 0.2874 - val_acc: 0.8974\n"
          ],
          "name": "stdout"
        }
      ]
    },
    {
      "cell_type": "markdown",
      "metadata": {
        "id": "-4_yg5MrIWLR"
      },
      "source": [
        "¡Y eso es todo! La red neuronal está entrenada. En cada época durante el entrenamiento, Keras muestra el número de instancias procesadas hasta el momento (junto con una barra de progreso), el tiempo medio de entrenamiento, la pérdida (loss) y la precisión (accuracy), ambas calculadas en el conjunto de entrenamiento y el conjunto de validación.\n",
        "\n",
        "El método `fit()` devuelve un objeto \"History\" que contiene los parámetros de entrenamiento (history.params), la lista de épocas por las que pasó (history.epoch) y, lo más importante, un diccionario (history.history) que contiene la pérdida y las métricas adicionales que midió al final de cada época en el conjunto de entrenamiento y en el conjunto de validación (si corresponde). \n",
        "\n",
        "usando la librería Pandas y matplotlib podemos visualizar las curvas de aprendizaje"
      ]
    },
    {
      "cell_type": "code",
      "metadata": {
        "id": "52WttEpwG54_"
      },
      "source": [
        "import pandas as pd"
      ],
      "execution_count": null,
      "outputs": []
    },
    {
      "cell_type": "code",
      "metadata": {
        "id": "KYZ7lfbOJ5C6",
        "colab": {
          "base_uri": "https://localhost:8080/",
          "height": 195
        },
        "outputId": "1bc28d1a-358c-4062-e7e0-80be7747eff3"
      },
      "source": [
        "df=pd.DataFrame(history.history)\n",
        "df.head()"
      ],
      "execution_count": null,
      "outputs": [
        {
          "output_type": "execute_result",
          "data": {
            "text/html": [
              "<div>\n",
              "<style scoped>\n",
              "    .dataframe tbody tr th:only-of-type {\n",
              "        vertical-align: middle;\n",
              "    }\n",
              "\n",
              "    .dataframe tbody tr th {\n",
              "        vertical-align: top;\n",
              "    }\n",
              "\n",
              "    .dataframe thead th {\n",
              "        text-align: right;\n",
              "    }\n",
              "</style>\n",
              "<table border=\"1\" class=\"dataframe\">\n",
              "  <thead>\n",
              "    <tr style=\"text-align: right;\">\n",
              "      <th></th>\n",
              "      <th>loss</th>\n",
              "      <th>acc</th>\n",
              "      <th>val_loss</th>\n",
              "      <th>val_acc</th>\n",
              "    </tr>\n",
              "  </thead>\n",
              "  <tbody>\n",
              "    <tr>\n",
              "      <th>0</th>\n",
              "      <td>0.701460</td>\n",
              "      <td>0.771618</td>\n",
              "      <td>0.506603</td>\n",
              "      <td>0.8314</td>\n",
              "    </tr>\n",
              "    <tr>\n",
              "      <th>1</th>\n",
              "      <td>0.489126</td>\n",
              "      <td>0.830091</td>\n",
              "      <td>0.449298</td>\n",
              "      <td>0.8500</td>\n",
              "    </tr>\n",
              "    <tr>\n",
              "      <th>2</th>\n",
              "      <td>0.446978</td>\n",
              "      <td>0.841982</td>\n",
              "      <td>0.413046</td>\n",
              "      <td>0.8578</td>\n",
              "    </tr>\n",
              "    <tr>\n",
              "      <th>3</th>\n",
              "      <td>0.418013</td>\n",
              "      <td>0.852127</td>\n",
              "      <td>0.415074</td>\n",
              "      <td>0.8548</td>\n",
              "    </tr>\n",
              "    <tr>\n",
              "      <th>4</th>\n",
              "      <td>0.397771</td>\n",
              "      <td>0.861145</td>\n",
              "      <td>0.422790</td>\n",
              "      <td>0.8492</td>\n",
              "    </tr>\n",
              "  </tbody>\n",
              "</table>\n",
              "</div>"
            ],
            "text/plain": [
              "       loss       acc  val_loss  val_acc\n",
              "0  0.701460  0.771618  0.506603   0.8314\n",
              "1  0.489126  0.830091  0.449298   0.8500\n",
              "2  0.446978  0.841982  0.413046   0.8578\n",
              "3  0.418013  0.852127  0.415074   0.8548\n",
              "4  0.397771  0.861145  0.422790   0.8492"
            ]
          },
          "metadata": {
            "tags": []
          },
          "execution_count": 22
        }
      ]
    },
    {
      "cell_type": "code",
      "metadata": {
        "id": "iZ__dzEIJ6V6",
        "colab": {
          "base_uri": "https://localhost:8080/",
          "height": 345
        },
        "outputId": "5972439d-bbb3-4621-ec4a-15aed3363440"
      },
      "source": [
        "df.plot(figsize=(8, 5))"
      ],
      "execution_count": null,
      "outputs": [
        {
          "output_type": "execute_result",
          "data": {
            "text/plain": [
              "<matplotlib.axes._subplots.AxesSubplot at 0x7fd950148390>"
            ]
          },
          "metadata": {
            "tags": []
          },
          "execution_count": 23
        },
        {
          "output_type": "display_data",
          "data": {
            "image/png": "[encoded data removed]",
            "text/plain": [
              "<Figure size 576x360 with 1 Axes>"
            ]
          },
          "metadata": {
            "tags": []
          }
        }
      ]
    },
    {
      "cell_type": "markdown",
      "metadata": {
        "id": "cThjfX67LHeP"
      },
      "source": [
        "Se puede ver que tanto la precisión de entrenamiento como la de validación aumentan constantemente durante el entrenamiento, mientras que la pérdida de entrenamiento y validación disminuye. Ademas , las curvas de validación están bastante cerca de las curvas de entrenamiento, lo que significa que no hay demasiado sobreajuste(overfitting).\n",
        "\n",
        "Ahora usemos el modelo ya entrenado sobre nuestros datos de prueba (X_test)"
      ]
    },
    {
      "cell_type": "code",
      "metadata": {
        "id": "KN71bQZOJ83U",
        "colab": {
          "base_uri": "https://localhost:8080/",
          "height": 50
        },
        "outputId": "7a8933e7-8f6a-4cdf-de63-19969c4dd895"
      },
      "source": [
        "model.evaluate(X_test,y_test)"
      ],
      "execution_count": null,
      "outputs": [
        {
          "output_type": "stream",
          "text": [
            "10000/10000 [==============================] - 1s 69us/sample - loss: 0.3253 - acc: 0.8830\n"
          ],
          "name": "stdout"
        },
        {
          "output_type": "execute_result",
          "data": {
            "text/plain": [
              "[0.3253031367778778, 0.883]"
            ]
          },
          "metadata": {
            "tags": []
          },
          "execution_count": 24
        }
      ]
    },
    {
      "cell_type": "markdown",
      "metadata": {
        "id": "e4Wa6T_POcT2"
      },
      "source": [
        "## Usando el modelo para hacer predicciones\n",
        "\n",
        "Ahora, podemos usar el método `predict()` para hacer predicciones sobre nuevas instancias. Como no tenemos instancias nuevas reales, solo usaremos las primeras 3 instancias del conjunto de prueba:"
      ]
    },
    {
      "cell_type": "code",
      "metadata": {
        "id": "2qt8Ros2OUNi",
        "colab": {
          "base_uri": "https://localhost:8080/",
          "height": 84
        },
        "outputId": "32108eac-7722-4568-abcc-a35712ad6590"
      },
      "source": [
        "X_new = X_test[:3]\n",
        "y_proba = model.predict(X_new)\n",
        "y_proba.round(2)"
      ],
      "execution_count": null,
      "outputs": [
        {
          "output_type": "execute_result",
          "data": {
            "text/plain": [
              "array([[0.  , 0.  , 0.  , 0.  , 0.  , 0.01, 0.  , 0.02, 0.  , 0.97],\n",
              "       [0.  , 0.  , 1.  , 0.  , 0.  , 0.  , 0.  , 0.  , 0.  , 0.  ],\n",
              "       [0.  , 1.  , 0.  , 0.  , 0.  , 0.  , 0.  , 0.  , 0.  , 0.  ]],\n",
              "      dtype=float32)"
            ]
          },
          "metadata": {
            "tags": []
          },
          "execution_count": 25
        }
      ]
    },
    {
      "cell_type": "markdown",
      "metadata": {
        "id": "3KUjmrVsPLhS"
      },
      "source": [
        "Como puede ver, para cada caso, el modelo estima una probabilidad por clase, desde la clase 0 hasta la clase 9. Si solo le importa la clase con la probabilidad estimada más alta (incluso si esa probabilidad es bastante baja), puede usar el método pre `dict_classes()` en su lugar"
      ]
    },
    {
      "cell_type": "code",
      "metadata": {
        "id": "CuE10X4IOxxo",
        "colab": {
          "base_uri": "https://localhost:8080/",
          "height": 34
        },
        "outputId": "35eb50a7-4174-411e-a186-6f6a62bb4b52"
      },
      "source": [
        "y_pred = model.predict_classes(X_new)\n",
        "y_pred"
      ],
      "execution_count": null,
      "outputs": [
        {
          "output_type": "execute_result",
          "data": {
            "text/plain": [
              "array([9, 2, 1])"
            ]
          },
          "metadata": {
            "tags": []
          },
          "execution_count": 26
        }
      ]
    },
    {
      "cell_type": "code",
      "metadata": {
        "id": "GGKdB6FaPqEP",
        "colab": {
          "base_uri": "https://localhost:8080/",
          "height": 34
        },
        "outputId": "ce4ed7bc-fe9d-486f-dba5-1a21d3cc6800"
      },
      "source": [
        "np.array(class_names)[y_pred]"
      ],
      "execution_count": null,
      "outputs": [
        {
          "output_type": "execute_result",
          "data": {
            "text/plain": [
              "array(['Ankle boot', 'Pullover', 'Trouser'], dtype='<U11')"
            ]
          },
          "metadata": {
            "tags": []
          },
          "execution_count": 27
        }
      ]
    },
    {
      "cell_type": "code",
      "metadata": {
        "id": "UdUs8OBrPrkQ",
        "colab": {
          "base_uri": "https://localhost:8080/",
          "height": 34
        },
        "outputId": "bddf87da-41b1-4538-e16f-c845de0b62e6"
      },
      "source": [
        "y_new = y_test[:3]\n",
        "y_new"
      ],
      "execution_count": null,
      "outputs": [
        {
          "output_type": "execute_result",
          "data": {
            "text/plain": [
              "array([9, 2, 1], dtype=uint8)"
            ]
          },
          "metadata": {
            "tags": []
          },
          "execution_count": 28
        }
      ]
    },
    {
      "cell_type": "code",
      "metadata": {
        "id": "DzpyRq4BPs9Q",
        "colab": {
          "base_uri": "https://localhost:8080/",
          "height": 185
        },
        "outputId": "e74e6738-98c9-495c-de06-da7031fb16dc"
      },
      "source": [
        "plt.figure(figsize=(7.2, 2.4))\n",
        "for index, image in enumerate(X_new):\n",
        "    plt.subplot(1, 3, index + 1)\n",
        "    plt.imshow(image, cmap=\"binary\", interpolation=\"nearest\")\n",
        "    plt.axis('off')\n",
        "    plt.title(class_names[y_test[index]], fontsize=12)"
      ],
      "execution_count": null,
      "outputs": [
        {
          "output_type": "display_data",
          "data": {
            "image/png": "[encoded data removed]",
            "text/plain": [
              "<Figure size 518.4x172.8 with 3 Axes>"
            ]
          },
          "metadata": {
            "tags": []
          }
        }
      ]
    },
    {
      "cell_type": "markdown",
      "metadata": {
        "id": "jtQYTx1xtxRj"
      },
      "source": [
        "## Reto "
      ]
    },
    {
      "cell_type": "markdown",
      "metadata": {
        "id": "IoLkVlT6uWt4"
      },
      "source": [
        "Suba una imagen propia y haga una predicción usando el modelo entrenado"
      ]
    },
    {
      "cell_type": "markdown",
      "metadata": {
        "id": "kh67NgAhvmTk"
      },
      "source": [
        "Haga click **aquí** si tiene problemas con la solución:\n",
        "\n",
        "<!-----\n",
        "from google.colab import files\n",
        "uploaded = files.upload()\n",
        "#Usando OpenCV\n",
        "import cv2\n",
        "data = cv2.imread(\"img.jpg\",cv2.IMREAD_GRAYSCALE)\n",
        "data = cv2.resize(data,(28,28))\n",
        "#Predecir\n",
        "y_pred = model.predict_classes(X_new.reshape(1,28,28))\n",
        "----->"
      ]
    }
  ]
}