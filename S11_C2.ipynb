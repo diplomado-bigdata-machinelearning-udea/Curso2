{
 "cells": [
  {
   "cell_type": "markdown",
   "metadata": {
    "colab_type": "text",
    "id": "oEPdxw2Vzyp3"
   },
   "source": [
    "<p><img alt=\"Colaboratory logo\" height=\"140px\" src=\"https://upload.wikimedia.org/wikipedia/commons/archive/f/fb/20161010213812%21Escudo-UdeA.svg\" align=\"left\" hspace=\"10px\" vspace=\"0px\"></p>\n",
    "\n",
    "<h1> Diplomado de Análisis de datos y Machine Learning en Python</h1>\n",
    "\n",
    "\n",
    "El presente diplomado hace parte del centro de Big Data de la facultad de ciencias exactas y naturales (FCEN) de la Universidad de Antioquia."
   ]
  },
  {
   "cell_type": "code",
   "execution_count": 0,
   "metadata": {
    "colab": {
     "base_uri": "https://localhost:8080/",
     "height": 80
    },
    "colab_type": "code",
    "executionInfo": {
     "elapsed": 1985,
     "status": "ok",
     "timestamp": 1582231567067,
     "user": {
      "displayName": "CAMILO SANTA VELEZ",
      "photoUrl": "",
      "userId": "12200032696612403853"
     },
     "user_tz": 300
    },
    "id": "8o4G1sYKznZU",
    "outputId": "fb5f8211-0d52-42d7-d7dd-53619cc15413"
   },
   "outputs": [
    {
     "data": {
      "text/html": [
       "<p style=\"color: red;\">\n",
       "The default version of TensorFlow in Colab will soon switch to TensorFlow 2.x.<br>\n",
       "We recommend you <a href=\"https://www.tensorflow.org/guide/migrate\" target=\"_blank\">upgrade</a> now \n",
       "or ensure your notebook will continue to use TensorFlow 1.x via the <code>%tensorflow_version 1.x</code> magic:\n",
       "<a href=\"https://colab.research.google.com/notebooks/tensorflow_version.ipynb\" target=\"_blank\">more info</a>.</p>\n"
      ],
      "text/plain": [
       "<IPython.core.display.HTML object>"
      ]
     },
     "metadata": {
      "tags": []
     },
     "output_type": "display_data"
    },
    {
     "name": "stdout",
     "output_type": "stream",
     "text": [
      "TensorFlow is already loaded. Please restart the runtime to change versions.\n"
     ]
    }
   ],
   "source": [
    "from tensorflow import keras\n",
    "%tensorflow_version 2.x"
   ]
  },
  {
   "cell_type": "markdown",
   "metadata": {
    "colab_type": "text",
    "id": "1iGd8pp8mmv3"
   },
   "source": [
    "# Perceptrón multicapa- Ejemplo"
   ]
  },
  {
   "cell_type": "markdown",
   "metadata": {
    "colab_type": "text",
    "id": "R52KGmz5y_2G"
   },
   "source": [
    "Usualmente los bancos realizan una segmentación de sus clientes de acuerdo a características que posean, estas características se definen con base a la información recolectada de cada cliente a partir de su historia con la entidad, esto permitirá al banco tener diferentes capos de acción a los cuales atacar de acuerdo a las necesidades de cada grupo. Cuando se tiene esta segmentación el paso a seguir, como estrategia de venta, es ofrecer servicios a través de contact centers a cada grupo de acuerdo a lo que se considere pertinente. Uno de estos servicios son los depositos a plazo fijo, por los cuales podemos tener cierta ganancia al dejar nuestro dinero depositado por cierto tiempo en una entidad bancaria, es por esto que para el siguiente ejemplo usaremos un dataset llamado **Bank Marketing Data set**, el cual puede ser encontrado en la siguiente [página web](https://archive.ics.uci.edu/ml/datasets/bank+marketing); este dataset posee información obtenida a partir de unas campañas de marketing realizadas por algunas entidades bancarias portuguesas, en donde se busca a partir de cierta información determinar si el cliente se suscribirá a un déposito a plazo fijo. Para este dataset tenemos los siguientes atributos:\n",
    "\n",
    " 1-Age (numeric)\n",
    "\n",
    " 2-job :type of job (categorical: 'admin.','blue-collar','entrepreneur','housemaid','management','retired','self-employed','services','student','technician','unemployed','unknown')\n",
    "\n",
    " 3 - marital : marital status (categorical: 'divorced','married','single','unknown'; note: 'divorced' means divorced or widowed)\n",
    " \n",
    " 4 - education (categorical: 'basic.4y','basic.6y','basic.9y','high.school','illiterate','professional.course','university.degree','unknown')\n",
    "\n",
    " 5 - default: has credit in default? (categorical: 'no','yes','unknown')\n",
    "\n",
    " 6 - housing: has housing loan? (categorical: 'no','yes','unknown')\n",
    " \n",
    " 7 - loan: has personal loan? (categorical: 'no','yes','unknown') \n",
    "\n",
    " **related with the last contact of the current campaign**\n",
    " \n",
    " 8 - contact: contact communication type (categorical: 'cellular','telephone')\n",
    "\n",
    " 9 - month: last contact month of year (categorical: 'jan', 'feb', 'mar', ..., 'nov', 'dec')\n",
    "\n",
    " 10 - day_of_week: last contact day of the week (categorical: 'mon','tue','wed','thu','fri')\n",
    "\n",
    " 11 - duration: last contact duration, in seconds (numeric). Important note: this attribute highly affects the output target (e.g., if duration=0 then y='no'). Yet, the duration is not known before a call is performed. Also, after the end of the call y is obviously known. Thus, this input should only be included for benchmark purposes and should be discarded if the intention is to have a realistic predictive model.\n",
    "\n",
    " **other attributes:**\n",
    "\n",
    "12 - campaign: number of contacts performed during this campaign and for this client (numeric, includes last contact)\n",
    "\n",
    "13 - pdays: number of days that passed by after the client was last contacted from a previous campaign (numeric; 999 means client was not previously contacted)\n",
    "\n",
    "14 - previous: number of contacts performed before this campaign and for this client (numeric)\n",
    "\n",
    "15 - poutcome: outcome of the previous marketing campaign (categorical: 'failure','nonexistent','success')\n",
    "**social and economic context attributes**\n",
    "\n",
    "16 - emp.var.rate: employment variation rate - quarterly indicator (numeric)\n",
    "\n",
    "17 - cons.price.idx: consumer price index - monthly indicator (numeric)\n",
    "\n",
    "18 - cons.conf.idx: consumer confidence index - monthly indicator (numeric)\n",
    "\n",
    "19 - euribor3m: euribor 3 month rate - daily indicator (numeric)\n",
    "\n",
    "20 - nr.employed: number of employees - quarterly indicator (numeric)\n",
    "\n",
    "Además de la etiqueta que tenemos:\n",
    "\n",
    "21 - y - has the client subscribed a term deposit? (binary: 'yes','no')\n",
    "\n",
    "\n",
    "**Nota:** Para mayor información de lo anterior visita los siguientes links:\n",
    " [link1](http://media.salford-systems.com/video/tutorial/2015/targeted_marketing.pdf)\n",
    "[link2](https://core.ac.uk/download/pdf/55616194.pdf)\n",
    "\n",
    "\n",
    "\n",
    "Iniciamos importando algunas de las librerías que usaremos:\n",
    "\n"
   ]
  },
  {
   "cell_type": "code",
   "execution_count": 0,
   "metadata": {
    "colab": {
     "base_uri": "https://localhost:8080/",
     "height": 82
    },
    "colab_type": "code",
    "executionInfo": {
     "elapsed": 2381,
     "status": "ok",
     "timestamp": 1582252408410,
     "user": {
      "displayName": "JEFERSON STIVEN ARBOLEDA COLORADO",
      "photoUrl": "https://lh3.googleusercontent.com/a-/AAuE7mCO0fz61u9qzv7KovMIT-x1OGyf1hWnHMMPmahM=s64",
      "userId": "00858756529432664735"
     },
     "user_tz": 300
    },
    "id": "I_VE31mfUHW9",
    "outputId": "d7bfdf42-c15d-4d73-edaf-6b9888cdc0ba"
   },
   "outputs": [
    {
     "data": {
      "text/html": [
       "<p style=\"color: red;\">\n",
       "The default version of TensorFlow in Colab will soon switch to TensorFlow 2.x.<br>\n",
       "We recommend you <a href=\"https://www.tensorflow.org/guide/migrate\" target=\"_blank\">upgrade</a> now \n",
       "or ensure your notebook will continue to use TensorFlow 1.x via the <code>%tensorflow_version 1.x</code> magic:\n",
       "<a href=\"https://colab.research.google.com/notebooks/tensorflow_version.ipynb\" target=\"_blank\">more info</a>.</p>\n"
      ],
      "text/plain": [
       "<IPython.core.display.HTML object>"
      ]
     },
     "metadata": {
      "tags": []
     },
     "output_type": "display_data"
    },
    {
     "name": "stdout",
     "output_type": "stream",
     "text": [
      "TensorFlow is already loaded. Please restart the runtime to change versions.\n"
     ]
    }
   ],
   "source": [
    "import numpy as np\n",
    "import pandas as pd\n",
    "from tensorflow import keras\n",
    "import matplotlib.pyplot as plt\n",
    "import seaborn as sns; sns.set()\n",
    "%tensorflow_version 2.x"
   ]
  },
  {
   "cell_type": "markdown",
   "metadata": {
    "colab_type": "text",
    "id": "Zqf94vxXzH7A"
   },
   "source": [
    "Ahora descargamos los datos haciendo uso de los siguientes comandos"
   ]
  },
  {
   "cell_type": "code",
   "execution_count": 0,
   "metadata": {
    "colab": {
     "base_uri": "https://localhost:8080/",
     "height": 413
    },
    "colab_type": "code",
    "executionInfo": {
     "elapsed": 3522,
     "status": "ok",
     "timestamp": 1582252413023,
     "user": {
      "displayName": "JEFERSON STIVEN ARBOLEDA COLORADO",
      "photoUrl": "https://lh3.googleusercontent.com/a-/AAuE7mCO0fz61u9qzv7KovMIT-x1OGyf1hWnHMMPmahM=s64",
      "userId": "00858756529432664735"
     },
     "user_tz": 300
    },
    "id": "XlkCV_R1TR8_",
    "outputId": "fd9da88a-2e3d-4eaa-ae6f-55428b61cfd9"
   },
   "outputs": [
    {
     "name": "stdout",
     "output_type": "stream",
     "text": [
      "--2020-02-21 02:33:30--  https://archive.ics.uci.edu/ml/machine-learning-databases/00222/bank-additional.zip\n",
      "Resolving archive.ics.uci.edu (archive.ics.uci.edu)... 128.195.10.252\n",
      "Connecting to archive.ics.uci.edu (archive.ics.uci.edu)|128.195.10.252|:443... connected.\n",
      "HTTP request sent, awaiting response... 200 OK\n",
      "Length: 444572 (434K) [application/x-httpd-php]\n",
      "Saving to: ‘bank-additional.zip’\n",
      "\n",
      "\r",
      "bank-additional.zip   0%[                    ]       0  --.-KB/s               \r",
      "bank-additional.zip 100%[===================>] 434.15K  --.-KB/s    in 0.1s    \n",
      "\n",
      "2020-02-21 02:33:30 (2.83 MB/s) - ‘bank-additional.zip’ saved [444572/444572]\n",
      "\n",
      "Archive:  bank-additional.zip\n",
      "   creating: bank-additional/\n",
      "  inflating: bank-additional/.DS_Store  \n",
      "   creating: __MACOSX/\n",
      "   creating: __MACOSX/bank-additional/\n",
      "  inflating: __MACOSX/bank-additional/._.DS_Store  \n",
      "  inflating: bank-additional/.Rhistory  \n",
      "  inflating: bank-additional/bank-additional-full.csv  \n",
      "  inflating: bank-additional/bank-additional-names.txt  \n",
      "  inflating: bank-additional/bank-additional.csv  \n",
      "  inflating: __MACOSX/._bank-additional  \n"
     ]
    }
   ],
   "source": [
    "!wget https://archive.ics.uci.edu/ml/machine-learning-databases/00222/bank-additional.zip\n",
    "!unzip bank-additional.zip"
   ]
  },
  {
   "cell_type": "markdown",
   "metadata": {
    "colab_type": "text",
    "id": "tGiZ83YGzOhB"
   },
   "source": [
    "Verificamos que los datos hayan sido descargados"
   ]
  },
  {
   "cell_type": "code",
   "execution_count": 0,
   "metadata": {
    "colab": {
     "base_uri": "https://localhost:8080/",
     "height": 35
    },
    "colab_type": "code",
    "executionInfo": {
     "elapsed": 583,
     "status": "ok",
     "timestamp": 1582252415403,
     "user": {
      "displayName": "JEFERSON STIVEN ARBOLEDA COLORADO",
      "photoUrl": "https://lh3.googleusercontent.com/a-/AAuE7mCO0fz61u9qzv7KovMIT-x1OGyf1hWnHMMPmahM=s64",
      "userId": "00858756529432664735"
     },
     "user_tz": 300
    },
    "id": "lHKlqBASTi_E",
    "outputId": "5a183078-6c4b-4075-bafe-5a9dd4f0cea6"
   },
   "outputs": [
    {
     "name": "stdout",
     "output_type": "stream",
     "text": [
      "/content/bank-additional\n"
     ]
    }
   ],
   "source": [
    "cd bank-additional/"
   ]
  },
  {
   "cell_type": "code",
   "execution_count": 0,
   "metadata": {
    "colab": {
     "base_uri": "https://localhost:8080/",
     "height": 35
    },
    "colab_type": "code",
    "executionInfo": {
     "elapsed": 2163,
     "status": "ok",
     "timestamp": 1582252419418,
     "user": {
      "displayName": "JEFERSON STIVEN ARBOLEDA COLORADO",
      "photoUrl": "https://lh3.googleusercontent.com/a-/AAuE7mCO0fz61u9qzv7KovMIT-x1OGyf1hWnHMMPmahM=s64",
      "userId": "00858756529432664735"
     },
     "user_tz": 300
    },
    "id": "VHRCVbS1UcYF",
    "outputId": "9ff19057-74f6-4ff5-f4b6-8287ce9a1466"
   },
   "outputs": [
    {
     "name": "stdout",
     "output_type": "stream",
     "text": [
      "\u001b[0m\u001b[01;32mbank-additional.csv\u001b[0m*  \u001b[01;32mbank-additional-full.csv\u001b[0m*  bank-additional-names.txt\n"
     ]
    }
   ],
   "source": [
    "ls"
   ]
  },
  {
   "cell_type": "markdown",
   "metadata": {
    "colab_type": "text",
    "id": "ooTubG58zS_N"
   },
   "source": [
    "Ahora procedemos a cargar los datos para ver los atributos con los que se cuenta, los cuales fueron descritos al inicio"
   ]
  },
  {
   "cell_type": "code",
   "execution_count": 0,
   "metadata": {
    "colab": {},
    "colab_type": "code",
    "id": "hRK7m9u6T--q"
   },
   "outputs": [],
   "source": [
    "data=pd.read_csv('bank-additional-full.csv',sep=';',index_col=False)"
   ]
  },
  {
   "cell_type": "code",
   "execution_count": 0,
   "metadata": {
    "colab": {
     "base_uri": "https://localhost:8080/",
     "height": 224
    },
    "colab_type": "code",
    "executionInfo": {
     "elapsed": 796,
     "status": "ok",
     "timestamp": 1582252422463,
     "user": {
      "displayName": "JEFERSON STIVEN ARBOLEDA COLORADO",
      "photoUrl": "https://lh3.googleusercontent.com/a-/AAuE7mCO0fz61u9qzv7KovMIT-x1OGyf1hWnHMMPmahM=s64",
      "userId": "00858756529432664735"
     },
     "user_tz": 300
    },
    "id": "IEosWng4UgHL",
    "outputId": "8ce0a638-ca4f-4228-9311-c88820953b27"
   },
   "outputs": [
    {
     "data": {
      "text/html": [
       "<div>\n",
       "<style scoped>\n",
       "    .dataframe tbody tr th:only-of-type {\n",
       "        vertical-align: middle;\n",
       "    }\n",
       "\n",
       "    .dataframe tbody tr th {\n",
       "        vertical-align: top;\n",
       "    }\n",
       "\n",
       "    .dataframe thead th {\n",
       "        text-align: right;\n",
       "    }\n",
       "</style>\n",
       "<table border=\"1\" class=\"dataframe\">\n",
       "  <thead>\n",
       "    <tr style=\"text-align: right;\">\n",
       "      <th></th>\n",
       "      <th>age</th>\n",
       "      <th>job</th>\n",
       "      <th>marital</th>\n",
       "      <th>education</th>\n",
       "      <th>default</th>\n",
       "      <th>housing</th>\n",
       "      <th>loan</th>\n",
       "      <th>contact</th>\n",
       "      <th>month</th>\n",
       "      <th>day_of_week</th>\n",
       "      <th>duration</th>\n",
       "      <th>campaign</th>\n",
       "      <th>pdays</th>\n",
       "      <th>previous</th>\n",
       "      <th>poutcome</th>\n",
       "      <th>emp.var.rate</th>\n",
       "      <th>cons.price.idx</th>\n",
       "      <th>cons.conf.idx</th>\n",
       "      <th>euribor3m</th>\n",
       "      <th>nr.employed</th>\n",
       "      <th>y</th>\n",
       "    </tr>\n",
       "  </thead>\n",
       "  <tbody>\n",
       "    <tr>\n",
       "      <th>0</th>\n",
       "      <td>56</td>\n",
       "      <td>housemaid</td>\n",
       "      <td>married</td>\n",
       "      <td>basic.4y</td>\n",
       "      <td>no</td>\n",
       "      <td>no</td>\n",
       "      <td>no</td>\n",
       "      <td>telephone</td>\n",
       "      <td>may</td>\n",
       "      <td>mon</td>\n",
       "      <td>261</td>\n",
       "      <td>1</td>\n",
       "      <td>999</td>\n",
       "      <td>0</td>\n",
       "      <td>nonexistent</td>\n",
       "      <td>1.1</td>\n",
       "      <td>93.994</td>\n",
       "      <td>-36.4</td>\n",
       "      <td>4.857</td>\n",
       "      <td>5191.0</td>\n",
       "      <td>no</td>\n",
       "    </tr>\n",
       "    <tr>\n",
       "      <th>1</th>\n",
       "      <td>57</td>\n",
       "      <td>services</td>\n",
       "      <td>married</td>\n",
       "      <td>high.school</td>\n",
       "      <td>unknown</td>\n",
       "      <td>no</td>\n",
       "      <td>no</td>\n",
       "      <td>telephone</td>\n",
       "      <td>may</td>\n",
       "      <td>mon</td>\n",
       "      <td>149</td>\n",
       "      <td>1</td>\n",
       "      <td>999</td>\n",
       "      <td>0</td>\n",
       "      <td>nonexistent</td>\n",
       "      <td>1.1</td>\n",
       "      <td>93.994</td>\n",
       "      <td>-36.4</td>\n",
       "      <td>4.857</td>\n",
       "      <td>5191.0</td>\n",
       "      <td>no</td>\n",
       "    </tr>\n",
       "    <tr>\n",
       "      <th>2</th>\n",
       "      <td>37</td>\n",
       "      <td>services</td>\n",
       "      <td>married</td>\n",
       "      <td>high.school</td>\n",
       "      <td>no</td>\n",
       "      <td>yes</td>\n",
       "      <td>no</td>\n",
       "      <td>telephone</td>\n",
       "      <td>may</td>\n",
       "      <td>mon</td>\n",
       "      <td>226</td>\n",
       "      <td>1</td>\n",
       "      <td>999</td>\n",
       "      <td>0</td>\n",
       "      <td>nonexistent</td>\n",
       "      <td>1.1</td>\n",
       "      <td>93.994</td>\n",
       "      <td>-36.4</td>\n",
       "      <td>4.857</td>\n",
       "      <td>5191.0</td>\n",
       "      <td>no</td>\n",
       "    </tr>\n",
       "    <tr>\n",
       "      <th>3</th>\n",
       "      <td>40</td>\n",
       "      <td>admin.</td>\n",
       "      <td>married</td>\n",
       "      <td>basic.6y</td>\n",
       "      <td>no</td>\n",
       "      <td>no</td>\n",
       "      <td>no</td>\n",
       "      <td>telephone</td>\n",
       "      <td>may</td>\n",
       "      <td>mon</td>\n",
       "      <td>151</td>\n",
       "      <td>1</td>\n",
       "      <td>999</td>\n",
       "      <td>0</td>\n",
       "      <td>nonexistent</td>\n",
       "      <td>1.1</td>\n",
       "      <td>93.994</td>\n",
       "      <td>-36.4</td>\n",
       "      <td>4.857</td>\n",
       "      <td>5191.0</td>\n",
       "      <td>no</td>\n",
       "    </tr>\n",
       "    <tr>\n",
       "      <th>4</th>\n",
       "      <td>56</td>\n",
       "      <td>services</td>\n",
       "      <td>married</td>\n",
       "      <td>high.school</td>\n",
       "      <td>no</td>\n",
       "      <td>no</td>\n",
       "      <td>yes</td>\n",
       "      <td>telephone</td>\n",
       "      <td>may</td>\n",
       "      <td>mon</td>\n",
       "      <td>307</td>\n",
       "      <td>1</td>\n",
       "      <td>999</td>\n",
       "      <td>0</td>\n",
       "      <td>nonexistent</td>\n",
       "      <td>1.1</td>\n",
       "      <td>93.994</td>\n",
       "      <td>-36.4</td>\n",
       "      <td>4.857</td>\n",
       "      <td>5191.0</td>\n",
       "      <td>no</td>\n",
       "    </tr>\n",
       "  </tbody>\n",
       "</table>\n",
       "</div>"
      ],
      "text/plain": [
       "   age        job  marital  ... euribor3m nr.employed   y\n",
       "0   56  housemaid  married  ...     4.857      5191.0  no\n",
       "1   57   services  married  ...     4.857      5191.0  no\n",
       "2   37   services  married  ...     4.857      5191.0  no\n",
       "3   40     admin.  married  ...     4.857      5191.0  no\n",
       "4   56   services  married  ...     4.857      5191.0  no\n",
       "\n",
       "[5 rows x 21 columns]"
      ]
     },
     "execution_count": 6,
     "metadata": {
      "tags": []
     },
     "output_type": "execute_result"
    }
   ],
   "source": [
    "data.head()"
   ]
  },
  {
   "cell_type": "markdown",
   "metadata": {
    "colab_type": "text",
    "id": "p5ItCAMb21Zs"
   },
   "source": [
    "Como tenemos varias variables categóricas lo que haremos es usar el labelEncoder, para pasarlas a términos númericos\n",
    "\n"
   ]
  },
  {
   "cell_type": "code",
   "execution_count": 0,
   "metadata": {
    "colab": {},
    "colab_type": "code",
    "id": "EhCfch4rWbf2"
   },
   "outputs": [],
   "source": [
    "from sklearn.preprocessing import LabelEncoder\n",
    "le=LabelEncoder()"
   ]
  },
  {
   "cell_type": "code",
   "execution_count": 0,
   "metadata": {
    "colab": {},
    "colab_type": "code",
    "id": "i7lYsfjzWim7"
   },
   "outputs": [],
   "source": [
    "data['trabajo']=le.fit_transform(data['job'])\n",
    "data['marital_c']=le.fit_transform(data['marital'])\n",
    "data['educacion']=le.fit_transform(data['education'])\n",
    "data['housing_c']=le.fit_transform(data['housing'])\n",
    "data['loan_c']=le.fit_transform(data['loan'])\n",
    "data['contact_c']=le.fit_transform(data['contact'])\n",
    "data['poutcome_c']=le.fit_transform(data['poutcome'])\n",
    "data['tag']=le.fit_transform(data['y'])"
   ]
  },
  {
   "cell_type": "code",
   "execution_count": 0,
   "metadata": {
    "colab": {
     "base_uri": "https://localhost:8080/",
     "height": 224
    },
    "colab_type": "code",
    "executionInfo": {
     "elapsed": 547,
     "status": "ok",
     "timestamp": 1582252427605,
     "user": {
      "displayName": "JEFERSON STIVEN ARBOLEDA COLORADO",
      "photoUrl": "https://lh3.googleusercontent.com/a-/AAuE7mCO0fz61u9qzv7KovMIT-x1OGyf1hWnHMMPmahM=s64",
      "userId": "00858756529432664735"
     },
     "user_tz": 300
    },
    "id": "zQEUHyUzWi22",
    "outputId": "3e3ea4b4-0ea0-4eb6-fe6f-e8b378b2f23b"
   },
   "outputs": [
    {
     "data": {
      "text/html": [
       "<div>\n",
       "<style scoped>\n",
       "    .dataframe tbody tr th:only-of-type {\n",
       "        vertical-align: middle;\n",
       "    }\n",
       "\n",
       "    .dataframe tbody tr th {\n",
       "        vertical-align: top;\n",
       "    }\n",
       "\n",
       "    .dataframe thead th {\n",
       "        text-align: right;\n",
       "    }\n",
       "</style>\n",
       "<table border=\"1\" class=\"dataframe\">\n",
       "  <thead>\n",
       "    <tr style=\"text-align: right;\">\n",
       "      <th></th>\n",
       "      <th>age</th>\n",
       "      <th>job</th>\n",
       "      <th>marital</th>\n",
       "      <th>education</th>\n",
       "      <th>default</th>\n",
       "      <th>housing</th>\n",
       "      <th>loan</th>\n",
       "      <th>contact</th>\n",
       "      <th>month</th>\n",
       "      <th>day_of_week</th>\n",
       "      <th>duration</th>\n",
       "      <th>campaign</th>\n",
       "      <th>pdays</th>\n",
       "      <th>previous</th>\n",
       "      <th>poutcome</th>\n",
       "      <th>emp.var.rate</th>\n",
       "      <th>cons.price.idx</th>\n",
       "      <th>cons.conf.idx</th>\n",
       "      <th>euribor3m</th>\n",
       "      <th>nr.employed</th>\n",
       "      <th>y</th>\n",
       "      <th>trabajo</th>\n",
       "      <th>marital_c</th>\n",
       "      <th>educacion</th>\n",
       "      <th>housing_c</th>\n",
       "      <th>loan_c</th>\n",
       "      <th>contact_c</th>\n",
       "      <th>poutcome_c</th>\n",
       "      <th>tag</th>\n",
       "    </tr>\n",
       "  </thead>\n",
       "  <tbody>\n",
       "    <tr>\n",
       "      <th>0</th>\n",
       "      <td>56</td>\n",
       "      <td>housemaid</td>\n",
       "      <td>married</td>\n",
       "      <td>basic.4y</td>\n",
       "      <td>no</td>\n",
       "      <td>no</td>\n",
       "      <td>no</td>\n",
       "      <td>telephone</td>\n",
       "      <td>may</td>\n",
       "      <td>mon</td>\n",
       "      <td>261</td>\n",
       "      <td>1</td>\n",
       "      <td>999</td>\n",
       "      <td>0</td>\n",
       "      <td>nonexistent</td>\n",
       "      <td>1.1</td>\n",
       "      <td>93.994</td>\n",
       "      <td>-36.4</td>\n",
       "      <td>4.857</td>\n",
       "      <td>5191.0</td>\n",
       "      <td>no</td>\n",
       "      <td>3</td>\n",
       "      <td>1</td>\n",
       "      <td>0</td>\n",
       "      <td>0</td>\n",
       "      <td>0</td>\n",
       "      <td>1</td>\n",
       "      <td>1</td>\n",
       "      <td>0</td>\n",
       "    </tr>\n",
       "    <tr>\n",
       "      <th>1</th>\n",
       "      <td>57</td>\n",
       "      <td>services</td>\n",
       "      <td>married</td>\n",
       "      <td>high.school</td>\n",
       "      <td>unknown</td>\n",
       "      <td>no</td>\n",
       "      <td>no</td>\n",
       "      <td>telephone</td>\n",
       "      <td>may</td>\n",
       "      <td>mon</td>\n",
       "      <td>149</td>\n",
       "      <td>1</td>\n",
       "      <td>999</td>\n",
       "      <td>0</td>\n",
       "      <td>nonexistent</td>\n",
       "      <td>1.1</td>\n",
       "      <td>93.994</td>\n",
       "      <td>-36.4</td>\n",
       "      <td>4.857</td>\n",
       "      <td>5191.0</td>\n",
       "      <td>no</td>\n",
       "      <td>7</td>\n",
       "      <td>1</td>\n",
       "      <td>3</td>\n",
       "      <td>0</td>\n",
       "      <td>0</td>\n",
       "      <td>1</td>\n",
       "      <td>1</td>\n",
       "      <td>0</td>\n",
       "    </tr>\n",
       "    <tr>\n",
       "      <th>2</th>\n",
       "      <td>37</td>\n",
       "      <td>services</td>\n",
       "      <td>married</td>\n",
       "      <td>high.school</td>\n",
       "      <td>no</td>\n",
       "      <td>yes</td>\n",
       "      <td>no</td>\n",
       "      <td>telephone</td>\n",
       "      <td>may</td>\n",
       "      <td>mon</td>\n",
       "      <td>226</td>\n",
       "      <td>1</td>\n",
       "      <td>999</td>\n",
       "      <td>0</td>\n",
       "      <td>nonexistent</td>\n",
       "      <td>1.1</td>\n",
       "      <td>93.994</td>\n",
       "      <td>-36.4</td>\n",
       "      <td>4.857</td>\n",
       "      <td>5191.0</td>\n",
       "      <td>no</td>\n",
       "      <td>7</td>\n",
       "      <td>1</td>\n",
       "      <td>3</td>\n",
       "      <td>2</td>\n",
       "      <td>0</td>\n",
       "      <td>1</td>\n",
       "      <td>1</td>\n",
       "      <td>0</td>\n",
       "    </tr>\n",
       "    <tr>\n",
       "      <th>3</th>\n",
       "      <td>40</td>\n",
       "      <td>admin.</td>\n",
       "      <td>married</td>\n",
       "      <td>basic.6y</td>\n",
       "      <td>no</td>\n",
       "      <td>no</td>\n",
       "      <td>no</td>\n",
       "      <td>telephone</td>\n",
       "      <td>may</td>\n",
       "      <td>mon</td>\n",
       "      <td>151</td>\n",
       "      <td>1</td>\n",
       "      <td>999</td>\n",
       "      <td>0</td>\n",
       "      <td>nonexistent</td>\n",
       "      <td>1.1</td>\n",
       "      <td>93.994</td>\n",
       "      <td>-36.4</td>\n",
       "      <td>4.857</td>\n",
       "      <td>5191.0</td>\n",
       "      <td>no</td>\n",
       "      <td>0</td>\n",
       "      <td>1</td>\n",
       "      <td>1</td>\n",
       "      <td>0</td>\n",
       "      <td>0</td>\n",
       "      <td>1</td>\n",
       "      <td>1</td>\n",
       "      <td>0</td>\n",
       "    </tr>\n",
       "    <tr>\n",
       "      <th>4</th>\n",
       "      <td>56</td>\n",
       "      <td>services</td>\n",
       "      <td>married</td>\n",
       "      <td>high.school</td>\n",
       "      <td>no</td>\n",
       "      <td>no</td>\n",
       "      <td>yes</td>\n",
       "      <td>telephone</td>\n",
       "      <td>may</td>\n",
       "      <td>mon</td>\n",
       "      <td>307</td>\n",
       "      <td>1</td>\n",
       "      <td>999</td>\n",
       "      <td>0</td>\n",
       "      <td>nonexistent</td>\n",
       "      <td>1.1</td>\n",
       "      <td>93.994</td>\n",
       "      <td>-36.4</td>\n",
       "      <td>4.857</td>\n",
       "      <td>5191.0</td>\n",
       "      <td>no</td>\n",
       "      <td>7</td>\n",
       "      <td>1</td>\n",
       "      <td>3</td>\n",
       "      <td>0</td>\n",
       "      <td>2</td>\n",
       "      <td>1</td>\n",
       "      <td>1</td>\n",
       "      <td>0</td>\n",
       "    </tr>\n",
       "  </tbody>\n",
       "</table>\n",
       "</div>"
      ],
      "text/plain": [
       "   age        job  marital    education  ... loan_c contact_c poutcome_c tag\n",
       "0   56  housemaid  married     basic.4y  ...      0         1          1   0\n",
       "1   57   services  married  high.school  ...      0         1          1   0\n",
       "2   37   services  married  high.school  ...      0         1          1   0\n",
       "3   40     admin.  married     basic.6y  ...      0         1          1   0\n",
       "4   56   services  married  high.school  ...      2         1          1   0\n",
       "\n",
       "[5 rows x 29 columns]"
      ]
     },
     "execution_count": 9,
     "metadata": {
      "tags": []
     },
     "output_type": "execute_result"
    }
   ],
   "source": [
    "data.head()"
   ]
  },
  {
   "cell_type": "markdown",
   "metadata": {
    "colab_type": "text",
    "id": "zEcAwh4E25HS"
   },
   "source": [
    "Luego de tener esto quitamos las columnas que son categoricas y aquellas que pueden no aportarnos información al momento de entrenar nuestra red."
   ]
  },
  {
   "cell_type": "code",
   "execution_count": 0,
   "metadata": {
    "colab": {},
    "colab_type": "code",
    "id": "dxTirY3RUj55"
   },
   "outputs": [],
   "source": [
    "data=data.drop(columns=['job','marital','education','default','housing','loan','contact','month','day_of_week','poutcome','y'])"
   ]
  },
  {
   "cell_type": "code",
   "execution_count": 0,
   "metadata": {
    "colab": {
     "base_uri": "https://localhost:8080/",
     "height": 224
    },
    "colab_type": "code",
    "executionInfo": {
     "elapsed": 649,
     "status": "ok",
     "timestamp": 1582252430200,
     "user": {
      "displayName": "JEFERSON STIVEN ARBOLEDA COLORADO",
      "photoUrl": "https://lh3.googleusercontent.com/a-/AAuE7mCO0fz61u9qzv7KovMIT-x1OGyf1hWnHMMPmahM=s64",
      "userId": "00858756529432664735"
     },
     "user_tz": 300
    },
    "id": "97lOe-tXVrpX",
    "outputId": "a695e1bc-8b2d-45b2-8dea-d05f7c5cbc0f"
   },
   "outputs": [
    {
     "data": {
      "text/html": [
       "<div>\n",
       "<style scoped>\n",
       "    .dataframe tbody tr th:only-of-type {\n",
       "        vertical-align: middle;\n",
       "    }\n",
       "\n",
       "    .dataframe tbody tr th {\n",
       "        vertical-align: top;\n",
       "    }\n",
       "\n",
       "    .dataframe thead th {\n",
       "        text-align: right;\n",
       "    }\n",
       "</style>\n",
       "<table border=\"1\" class=\"dataframe\">\n",
       "  <thead>\n",
       "    <tr style=\"text-align: right;\">\n",
       "      <th></th>\n",
       "      <th>age</th>\n",
       "      <th>duration</th>\n",
       "      <th>campaign</th>\n",
       "      <th>pdays</th>\n",
       "      <th>previous</th>\n",
       "      <th>emp.var.rate</th>\n",
       "      <th>cons.price.idx</th>\n",
       "      <th>cons.conf.idx</th>\n",
       "      <th>euribor3m</th>\n",
       "      <th>nr.employed</th>\n",
       "      <th>trabajo</th>\n",
       "      <th>marital_c</th>\n",
       "      <th>educacion</th>\n",
       "      <th>housing_c</th>\n",
       "      <th>loan_c</th>\n",
       "      <th>contact_c</th>\n",
       "      <th>poutcome_c</th>\n",
       "      <th>tag</th>\n",
       "    </tr>\n",
       "  </thead>\n",
       "  <tbody>\n",
       "    <tr>\n",
       "      <th>0</th>\n",
       "      <td>56</td>\n",
       "      <td>261</td>\n",
       "      <td>1</td>\n",
       "      <td>999</td>\n",
       "      <td>0</td>\n",
       "      <td>1.1</td>\n",
       "      <td>93.994</td>\n",
       "      <td>-36.4</td>\n",
       "      <td>4.857</td>\n",
       "      <td>5191.0</td>\n",
       "      <td>3</td>\n",
       "      <td>1</td>\n",
       "      <td>0</td>\n",
       "      <td>0</td>\n",
       "      <td>0</td>\n",
       "      <td>1</td>\n",
       "      <td>1</td>\n",
       "      <td>0</td>\n",
       "    </tr>\n",
       "    <tr>\n",
       "      <th>1</th>\n",
       "      <td>57</td>\n",
       "      <td>149</td>\n",
       "      <td>1</td>\n",
       "      <td>999</td>\n",
       "      <td>0</td>\n",
       "      <td>1.1</td>\n",
       "      <td>93.994</td>\n",
       "      <td>-36.4</td>\n",
       "      <td>4.857</td>\n",
       "      <td>5191.0</td>\n",
       "      <td>7</td>\n",
       "      <td>1</td>\n",
       "      <td>3</td>\n",
       "      <td>0</td>\n",
       "      <td>0</td>\n",
       "      <td>1</td>\n",
       "      <td>1</td>\n",
       "      <td>0</td>\n",
       "    </tr>\n",
       "    <tr>\n",
       "      <th>2</th>\n",
       "      <td>37</td>\n",
       "      <td>226</td>\n",
       "      <td>1</td>\n",
       "      <td>999</td>\n",
       "      <td>0</td>\n",
       "      <td>1.1</td>\n",
       "      <td>93.994</td>\n",
       "      <td>-36.4</td>\n",
       "      <td>4.857</td>\n",
       "      <td>5191.0</td>\n",
       "      <td>7</td>\n",
       "      <td>1</td>\n",
       "      <td>3</td>\n",
       "      <td>2</td>\n",
       "      <td>0</td>\n",
       "      <td>1</td>\n",
       "      <td>1</td>\n",
       "      <td>0</td>\n",
       "    </tr>\n",
       "    <tr>\n",
       "      <th>3</th>\n",
       "      <td>40</td>\n",
       "      <td>151</td>\n",
       "      <td>1</td>\n",
       "      <td>999</td>\n",
       "      <td>0</td>\n",
       "      <td>1.1</td>\n",
       "      <td>93.994</td>\n",
       "      <td>-36.4</td>\n",
       "      <td>4.857</td>\n",
       "      <td>5191.0</td>\n",
       "      <td>0</td>\n",
       "      <td>1</td>\n",
       "      <td>1</td>\n",
       "      <td>0</td>\n",
       "      <td>0</td>\n",
       "      <td>1</td>\n",
       "      <td>1</td>\n",
       "      <td>0</td>\n",
       "    </tr>\n",
       "    <tr>\n",
       "      <th>4</th>\n",
       "      <td>56</td>\n",
       "      <td>307</td>\n",
       "      <td>1</td>\n",
       "      <td>999</td>\n",
       "      <td>0</td>\n",
       "      <td>1.1</td>\n",
       "      <td>93.994</td>\n",
       "      <td>-36.4</td>\n",
       "      <td>4.857</td>\n",
       "      <td>5191.0</td>\n",
       "      <td>7</td>\n",
       "      <td>1</td>\n",
       "      <td>3</td>\n",
       "      <td>0</td>\n",
       "      <td>2</td>\n",
       "      <td>1</td>\n",
       "      <td>1</td>\n",
       "      <td>0</td>\n",
       "    </tr>\n",
       "  </tbody>\n",
       "</table>\n",
       "</div>"
      ],
      "text/plain": [
       "   age  duration  campaign  pdays  ...  loan_c  contact_c  poutcome_c  tag\n",
       "0   56       261         1    999  ...       0          1           1    0\n",
       "1   57       149         1    999  ...       0          1           1    0\n",
       "2   37       226         1    999  ...       0          1           1    0\n",
       "3   40       151         1    999  ...       0          1           1    0\n",
       "4   56       307         1    999  ...       2          1           1    0\n",
       "\n",
       "[5 rows x 18 columns]"
      ]
     },
     "execution_count": 11,
     "metadata": {
      "tags": []
     },
     "output_type": "execute_result"
    }
   ],
   "source": [
    "data.head()"
   ]
  },
  {
   "cell_type": "markdown",
   "metadata": {
    "colab_type": "text",
    "id": "7pBZ2ue93JuS"
   },
   "source": [
    "Teniendo esto hacemos nuestra division entre mis datos y etiquetas"
   ]
  },
  {
   "cell_type": "code",
   "execution_count": 0,
   "metadata": {
    "colab": {},
    "colab_type": "code",
    "id": "cfjR35o_YptQ"
   },
   "outputs": [],
   "source": [
    "X=data.drop(columns=['tag'])\n",
    "y=data['tag']"
   ]
  },
  {
   "cell_type": "code",
   "execution_count": 0,
   "metadata": {
    "colab": {
     "base_uri": "https://localhost:8080/",
     "height": 35
    },
    "colab_type": "code",
    "executionInfo": {
     "elapsed": 469,
     "status": "ok",
     "timestamp": 1582252434887,
     "user": {
      "displayName": "JEFERSON STIVEN ARBOLEDA COLORADO",
      "photoUrl": "https://lh3.googleusercontent.com/a-/AAuE7mCO0fz61u9qzv7KovMIT-x1OGyf1hWnHMMPmahM=s64",
      "userId": "00858756529432664735"
     },
     "user_tz": 300
    },
    "id": "USzwoW6-Y87T",
    "outputId": "9adc7152-08c6-4760-e121-5559b634f0e8"
   },
   "outputs": [
    {
     "data": {
      "text/plain": [
       "(41188,)"
      ]
     },
     "execution_count": 13,
     "metadata": {
      "tags": []
     },
     "output_type": "execute_result"
    }
   ],
   "source": [
    "X.shape\n",
    "y.shape"
   ]
  },
  {
   "cell_type": "markdown",
   "metadata": {
    "colab_type": "text",
    "id": "PFQTTI_Z3X2j"
   },
   "source": [
    "Hacemos una división en mis conjuntos y además normalizamos los datos ya que tenemos escalas bastante diferentes"
   ]
  },
  {
   "cell_type": "code",
   "execution_count": 0,
   "metadata": {
    "colab": {},
    "colab_type": "code",
    "id": "--w3wycBaMzW"
   },
   "outputs": [],
   "source": [
    "from sklearn.model_selection import train_test_split\n",
    "from sklearn.preprocessing import StandardScaler"
   ]
  },
  {
   "cell_type": "code",
   "execution_count": 0,
   "metadata": {
    "colab": {},
    "colab_type": "code",
    "id": "xC4knB55abTt"
   },
   "outputs": [],
   "source": [
    "X_train, X_test, y_train, y_test=train_test_split(X,y,test_size=0.3, random_state=42)"
   ]
  },
  {
   "cell_type": "code",
   "execution_count": 0,
   "metadata": {
    "colab": {},
    "colab_type": "code",
    "id": "a7pms87NpTto"
   },
   "outputs": [],
   "source": [
    "ss=StandardScaler()"
   ]
  },
  {
   "cell_type": "code",
   "execution_count": 0,
   "metadata": {
    "colab": {},
    "colab_type": "code",
    "id": "mWyX_1UVpWXa"
   },
   "outputs": [],
   "source": [
    "X_train=ss.fit_transform(X_train)\n",
    "X_test=ss.fit_transform(X_test)"
   ]
  },
  {
   "cell_type": "code",
   "execution_count": 0,
   "metadata": {
    "colab": {
     "base_uri": "https://localhost:8080/",
     "height": 35
    },
    "colab_type": "code",
    "executionInfo": {
     "elapsed": 580,
     "status": "ok",
     "timestamp": 1582252439965,
     "user": {
      "displayName": "JEFERSON STIVEN ARBOLEDA COLORADO",
      "photoUrl": "https://lh3.googleusercontent.com/a-/AAuE7mCO0fz61u9qzv7KovMIT-x1OGyf1hWnHMMPmahM=s64",
      "userId": "00858756529432664735"
     },
     "user_tz": 300
    },
    "id": "Jph7wmX2pdfq",
    "outputId": "9c22a1ab-70d0-45a9-eb8b-082c9ab53beb"
   },
   "outputs": [
    {
     "data": {
      "text/plain": [
       "(28831, 17)"
      ]
     },
     "execution_count": 18,
     "metadata": {
      "tags": []
     },
     "output_type": "execute_result"
    }
   ],
   "source": [
    "X_train.shape"
   ]
  },
  {
   "cell_type": "code",
   "execution_count": 0,
   "metadata": {
    "colab": {
     "base_uri": "https://localhost:8080/",
     "height": 35
    },
    "colab_type": "code",
    "executionInfo": {
     "elapsed": 824,
     "status": "ok",
     "timestamp": 1582252441749,
     "user": {
      "displayName": "JEFERSON STIVEN ARBOLEDA COLORADO",
      "photoUrl": "https://lh3.googleusercontent.com/a-/AAuE7mCO0fz61u9qzv7KovMIT-x1OGyf1hWnHMMPmahM=s64",
      "userId": "00858756529432664735"
     },
     "user_tz": 300
    },
    "id": "MC7fqDD4pfRX",
    "outputId": "78d9517e-dee4-4630-f737-1ce2f8773a80"
   },
   "outputs": [
    {
     "data": {
      "text/plain": [
       "(12357, 17)"
      ]
     },
     "execution_count": 19,
     "metadata": {
      "tags": []
     },
     "output_type": "execute_result"
    }
   ],
   "source": [
    "X_test.shape"
   ]
  },
  {
   "cell_type": "code",
   "execution_count": 0,
   "metadata": {
    "colab": {},
    "colab_type": "code",
    "id": "Y9yPE_-uuWD-"
   },
   "outputs": [],
   "source": [
    "y_test=y_test.values\n",
    "y_train = y_train.values\n"
   ]
  },
  {
   "cell_type": "markdown",
   "metadata": {
    "colab_type": "text",
    "id": "dOWxhqHW3khx"
   },
   "source": [
    "Ahora bien creamos nuestra red multicapa, teniendo en cuenta que tenemos una problema de clasificación binaria."
   ]
  },
  {
   "cell_type": "code",
   "execution_count": 0,
   "metadata": {
    "colab": {},
    "colab_type": "code",
    "id": "V62BL4GFsLuI"
   },
   "outputs": [],
   "source": [
    "keras.backend.clear_session()"
   ]
  },
  {
   "cell_type": "code",
   "execution_count": 0,
   "metadata": {
    "colab": {
     "base_uri": "https://localhost:8080/",
     "height": 91
    },
    "colab_type": "code",
    "executionInfo": {
     "elapsed": 823,
     "status": "ok",
     "timestamp": 1582252446223,
     "user": {
      "displayName": "JEFERSON STIVEN ARBOLEDA COLORADO",
      "photoUrl": "https://lh3.googleusercontent.com/a-/AAuE7mCO0fz61u9qzv7KovMIT-x1OGyf1hWnHMMPmahM=s64",
      "userId": "00858756529432664735"
     },
     "user_tz": 300
    },
    "id": "nHBw2YVGplgU",
    "outputId": "a7ee5c94-4eaf-4611-bfb6-c438a7a4e3fc"
   },
   "outputs": [
    {
     "name": "stdout",
     "output_type": "stream",
     "text": [
      "WARNING:tensorflow:From /usr/local/lib/python3.6/dist-packages/tensorflow_core/python/ops/resource_variable_ops.py:1630: calling BaseResourceVariable.__init__ (from tensorflow.python.ops.resource_variable_ops) with constraint is deprecated and will be removed in a future version.\n",
      "Instructions for updating:\n",
      "If using Keras pass *_constraint arguments to layers.\n"
     ]
    }
   ],
   "source": [
    "model= keras.models.Sequential([\n",
    "                         keras.layers.Dense(50,activation='relu',kernel_initializer='he_uniform',input_shape=(17,)),\n",
    "                         keras.layers.Dense(25,activation='relu',kernel_initializer='he_uniform'),\n",
    "                         keras.layers.Dense(10,activation='relu',kernel_initializer='he_uniform'),\n",
    "                         keras.layers.Dense(1,activation='sigmoid')\n",
    "])"
   ]
  },
  {
   "cell_type": "code",
   "execution_count": 0,
   "metadata": {
    "colab": {
     "base_uri": "https://localhost:8080/",
     "height": 91
    },
    "colab_type": "code",
    "executionInfo": {
     "elapsed": 556,
     "status": "ok",
     "timestamp": 1582252448178,
     "user": {
      "displayName": "JEFERSON STIVEN ARBOLEDA COLORADO",
      "photoUrl": "https://lh3.googleusercontent.com/a-/AAuE7mCO0fz61u9qzv7KovMIT-x1OGyf1hWnHMMPmahM=s64",
      "userId": "00858756529432664735"
     },
     "user_tz": 300
    },
    "id": "q7jUFgL2qif8",
    "outputId": "e9c59876-9507-4be1-f174-0bd0b1ff6496"
   },
   "outputs": [
    {
     "name": "stdout",
     "output_type": "stream",
     "text": [
      "WARNING:tensorflow:From /usr/local/lib/python3.6/dist-packages/tensorflow_core/python/ops/nn_impl.py:183: where (from tensorflow.python.ops.array_ops) is deprecated and will be removed in a future version.\n",
      "Instructions for updating:\n",
      "Use tf.where in 2.0, which has the same broadcast rule as np.where\n"
     ]
    }
   ],
   "source": [
    "model.compile(optimizer='adam',loss='binary_crossentropy',metrics=['accuracy'])"
   ]
  },
  {
   "cell_type": "code",
   "execution_count": 0,
   "metadata": {
    "colab": {
     "base_uri": "https://localhost:8080/",
     "height": 395
    },
    "colab_type": "code",
    "executionInfo": {
     "elapsed": 18446,
     "status": "ok",
     "timestamp": 1582252466334,
     "user": {
      "displayName": "JEFERSON STIVEN ARBOLEDA COLORADO",
      "photoUrl": "https://lh3.googleusercontent.com/a-/AAuE7mCO0fz61u9qzv7KovMIT-x1OGyf1hWnHMMPmahM=s64",
      "userId": "00858756529432664735"
     },
     "user_tz": 300
    },
    "id": "3vf_kvgoqr3h",
    "outputId": "f638608a-3e7a-4a97-e10a-06cd9b26e882"
   },
   "outputs": [
    {
     "name": "stdout",
     "output_type": "stream",
     "text": [
      "Train on 28831 samples\n",
      "Epoch 1/10\n",
      "28831/28831 [==============================] - 2s 64us/sample - loss: 0.2374 - acc: 0.8964\n",
      "Epoch 2/10\n",
      "28831/28831 [==============================] - 2s 58us/sample - loss: 0.1992 - acc: 0.9081\n",
      "Epoch 3/10\n",
      "28831/28831 [==============================] - 2s 60us/sample - loss: 0.1944 - acc: 0.9107\n",
      "Epoch 4/10\n",
      "28831/28831 [==============================] - 2s 60us/sample - loss: 0.1905 - acc: 0.9122\n",
      "Epoch 5/10\n",
      "28831/28831 [==============================] - 2s 60us/sample - loss: 0.1881 - acc: 0.9124\n",
      "Epoch 6/10\n",
      "28831/28831 [==============================] - 2s 59us/sample - loss: 0.1849 - acc: 0.9143\n",
      "Epoch 7/10\n",
      "28831/28831 [==============================] - 2s 60us/sample - loss: 0.1831 - acc: 0.9141\n",
      "Epoch 8/10\n",
      "28831/28831 [==============================] - 2s 58us/sample - loss: 0.1810 - acc: 0.9144\n",
      "Epoch 9/10\n",
      "28831/28831 [==============================] - 2s 62us/sample - loss: 0.1792 - acc: 0.9163\n",
      "Epoch 10/10\n",
      "28831/28831 [==============================] - 2s 61us/sample - loss: 0.1780 - acc: 0.9163\n"
     ]
    }
   ],
   "source": [
    "history=model.fit(X_train,y_train,epochs=10)"
   ]
  },
  {
   "cell_type": "code",
   "execution_count": 0,
   "metadata": {
    "colab": {
     "base_uri": "https://localhost:8080/",
     "height": 356
    },
    "colab_type": "code",
    "executionInfo": {
     "elapsed": 922,
     "status": "ok",
     "timestamp": 1582252469142,
     "user": {
      "displayName": "JEFERSON STIVEN ARBOLEDA COLORADO",
      "photoUrl": "https://lh3.googleusercontent.com/a-/AAuE7mCO0fz61u9qzv7KovMIT-x1OGyf1hWnHMMPmahM=s64",
      "userId": "00858756529432664735"
     },
     "user_tz": 300
    },
    "id": "9XJig41YrGbT",
    "outputId": "b669917d-b3d6-4f4b-ca3b-86fcb2429862"
   },
   "outputs": [
    {
     "data": {
      "text/plain": [
       "Text(0.5, 1.0, 'Curvas de validación')"
      ]
     },
     "execution_count": 25,
     "metadata": {
      "tags": []
     },
     "output_type": "execute_result"
    },
    {
     "data": {
      "image/png": "[encoded data removed]",
      "text/plain": [
       "<Figure size 360x360 with 1 Axes>"
      ]
     },
     "metadata": {
      "tags": []
     },
     "output_type": "display_data"
    }
   ],
   "source": [
    "pd.DataFrame(history.history).plot(figsize=(5,5))\n",
    "plt.title('Curvas de validación')"
   ]
  },
  {
   "cell_type": "code",
   "execution_count": 0,
   "metadata": {
    "colab": {
     "base_uri": "https://localhost:8080/",
     "height": 53
    },
    "colab_type": "code",
    "executionInfo": {
     "elapsed": 790,
     "status": "ok",
     "timestamp": 1582252472749,
     "user": {
      "displayName": "JEFERSON STIVEN ARBOLEDA COLORADO",
      "photoUrl": "https://lh3.googleusercontent.com/a-/AAuE7mCO0fz61u9qzv7KovMIT-x1OGyf1hWnHMMPmahM=s64",
      "userId": "00858756529432664735"
     },
     "user_tz": 300
    },
    "id": "HWKTb7dRrsoP",
    "outputId": "697cc493-a821-4b74-c21c-3c0330ea16ce"
   },
   "outputs": [
    {
     "name": "stdout",
     "output_type": "stream",
     "text": [
      "12357/12357 [==============================] - 0s 27us/sample - loss: 0.1896 - acc: 0.9071\n"
     ]
    },
    {
     "data": {
      "text/plain": [
       "[0.1896040573604016, 0.9070972]"
      ]
     },
     "execution_count": 26,
     "metadata": {
      "tags": []
     },
     "output_type": "execute_result"
    }
   ],
   "source": [
    "model.evaluate(X_test,y_test)"
   ]
  },
  {
   "cell_type": "code",
   "execution_count": 0,
   "metadata": {
    "colab": {},
    "colab_type": "code",
    "id": "soCRvFwkttfQ"
   },
   "outputs": [],
   "source": [
    "y_h=model.predict_classes(X_test)"
   ]
  },
  {
   "cell_type": "code",
   "execution_count": 0,
   "metadata": {
    "colab": {},
    "colab_type": "code",
    "id": "CwA4kcnvsEZP"
   },
   "outputs": [],
   "source": [
    "from sklearn.metrics import confusion_matrix"
   ]
  },
  {
   "cell_type": "code",
   "execution_count": 0,
   "metadata": {
    "colab": {},
    "colab_type": "code",
    "id": "OXD_IOx3tk_a"
   },
   "outputs": [],
   "source": [
    "a=confusion_matrix(y_test,y_h)"
   ]
  },
  {
   "cell_type": "code",
   "execution_count": 0,
   "metadata": {
    "colab": {
     "base_uri": "https://localhost:8080/",
     "height": 340
    },
    "colab_type": "code",
    "executionInfo": {
     "elapsed": 1090,
     "status": "ok",
     "timestamp": 1582252482962,
     "user": {
      "displayName": "JEFERSON STIVEN ARBOLEDA COLORADO",
      "photoUrl": "https://lh3.googleusercontent.com/a-/AAuE7mCO0fz61u9qzv7KovMIT-x1OGyf1hWnHMMPmahM=s64",
      "userId": "00858756529432664735"
     },
     "user_tz": 300
    },
    "id": "PE9WVssnuAG7",
    "outputId": "24f97992-81b3-4d95-ea13-cbfd5610c891"
   },
   "outputs": [
    {
     "data": {
      "text/plain": [
       "<matplotlib.axes._subplots.AxesSubplot at 0x7f9e8f8523c8>"
      ]
     },
     "execution_count": 30,
     "metadata": {
      "tags": []
     },
     "output_type": "execute_result"
    },
    {
     "data": {
      "image/png": "[encoded data removed]",
      "text/plain": [
       "<Figure size 576x360 with 2 Axes>"
      ]
     },
     "metadata": {
      "tags": []
     },
     "output_type": "display_data"
    }
   ],
   "source": [
    "plt.figure(figsize=(8,5))\n",
    "sns.heatmap(a,annot=True,cmap='BuGn_r')\n"
   ]
  },
  {
   "cell_type": "code",
   "execution_count": 0,
   "metadata": {
    "colab": {
     "base_uri": "https://localhost:8080/",
     "height": 53
    },
    "colab_type": "code",
    "executionInfo": {
     "elapsed": 479,
     "status": "ok",
     "timestamp": 1582252494177,
     "user": {
      "displayName": "JEFERSON STIVEN ARBOLEDA COLORADO",
      "photoUrl": "https://lh3.googleusercontent.com/a-/AAuE7mCO0fz61u9qzv7KovMIT-x1OGyf1hWnHMMPmahM=s64",
      "userId": "00858756529432664735"
     },
     "user_tz": 300
    },
    "id": "MU2XVE6Gwy2n",
    "outputId": "a8b28be4-cce4-499e-d0bb-7cef8795be7d"
   },
   "outputs": [
    {
     "data": {
      "text/plain": [
       "array([[10456,   512],\n",
       "       [  636,   753]])"
      ]
     },
     "execution_count": 31,
     "metadata": {
      "tags": []
     },
     "output_type": "execute_result"
    }
   ],
   "source": [
    "a"
   ]
  },
  {
   "cell_type": "markdown",
   "metadata": {
    "colab_type": "text",
    "id": "dH5vanIUezLF"
   },
   "source": [
    "## Ejercicio\n",
    "\n",
    "La ionósfera es la parte de la atmósfera que se encuentra usualmente expuesta a la radiación solar y por tal motivo se mantiene ionizada, lo cual se dá debido a que los gases en estas capas son agitados por la radiación solar para formar iones, que tienen una carga eléctrica. El Ionosphere Data Set contiene información captada por radares, los cuales buscaban detectar electrones libres en esta capa de la atmosfera, donde estas antenas regresaban a partir de señales \"good\" si detectaban algún elemento en la ionósfera o \"bad\" en caso contrario.\n",
    "\n",
    "<p><img alt=\"Colaboratory logo\" height=\"200px\" src=\"https://t2.ev.ltmcdn.com/es/posts/6/1/7/atmosfera_y_cuales_son_sus_capas_para_ninos_de_primaria_1716_600.jpg\" align=\"center\" hspace=\"10px\" vspace=\"0px\"></p>\n",
    "\n",
    "<p><img alt=\"Colaboratory logo\" height=\"250px\" src=\"https://archive.ics.uci.edu/ml/assets/MLimages/Large52.jpg\" align=\"center\" hspace=\"10px\" vspace=\"0px\"></p>\n",
    "\n",
    "\n",
    "Para más información pueden ver el siguiente [artículo](https://pdfs.semanticscholar.org/e0d2/de05caacdfa8073b2b4f77c5e72cb2449b81.pdf). Para nuestro ejercicio buscaremos realizar una red con la cual podamos hacer una clasificación (bad or good). Para eso debemos seguir los siguientes pasos:\n",
    "\n",
    "  \n",
    "\n",
    "1.   Descargar los datos desde el siguiente [enlace](https://raw.githubusercontent.com/jbrownlee/Datasets/master/ionosphere.csv)\n",
    "2. Carga/llama las librerías que consideres necesarias\n",
    "3.   Leer los datos y crear las respectivas variable **X** y **Y**.\n",
    "4.  Encontrar las dimensiones de las variables anteriores\n",
    "5. Realizar un proceso de encoding si es necesario\n",
    "6. Dividir nuestros dato, en los datos de entrenamiento y test\n",
    "7. Construir la red en la que uses el perceptron multi capa, donde apliques los conceptos aprendidos en clase\n",
    "8. Compila el modelo y haz un fit de los datos\n",
    "9. Haz un plot de las curvas de validación\n",
    "11. Encuentra las clases predichas para los datos de test.\n",
    "10. Realiza la matiz de confusión para este caso\n"
   ]
  },
  {
   "cell_type": "markdown",
   "metadata": {
    "colab_type": "text",
    "id": "Osr3K0U6WZDE"
   },
   "source": [
    "# Ejemplo CNN"
   ]
  },
  {
   "cell_type": "markdown",
   "metadata": {
    "colab_type": "text",
    "id": "ctee8CtHAIhi"
   },
   "source": [
    "Según [este artículo](https://www.researchgate.net/publication/263052166_Automatic_detection_of_invasive_ductal_carcinoma_in_whole_slide_images_with_Convolutional_Neural_Networks) es posible detectar un carcinoma ductal invasivo mediante una red neuronal convolucional. Primero debemos descargar las imagenes que están claificadas dependiendo de si hay o no carcinoma. [Aquí](http://www.andrewjanowczyk.com/use-case-6-invasive-ductal-carcinoma-idc-segmentation/) se encuentra un resumen."
   ]
  },
  {
   "cell_type": "markdown",
   "metadata": {
    "colab_type": "text",
    "id": "JmBUtisXCoWX"
   },
   "source": [
    "## Datos"
   ]
  },
  {
   "cell_type": "markdown",
   "metadata": {
    "colab_type": "text",
    "id": "Z0j-nwHXCp_8"
   },
   "source": [
    "Un subconjunto de los datos se encuentran [aquí](https://drive.google.com/drive/folders/1eNV9IszdsBw52URAvBuJoK-O5lxGveLf?usp=sharing), sólo debemos agregarlos a nuestro google drive y montar la unidad"
   ]
  },
  {
   "cell_type": "code",
   "execution_count": 0,
   "metadata": {
    "colab": {
     "base_uri": "https://localhost:8080/",
     "height": 34
    },
    "colab_type": "code",
    "executionInfo": {
     "elapsed": 3167,
     "status": "ok",
     "timestamp": 1582294468012,
     "user": {
      "displayName": "CAMILO SANTA VELEZ",
      "photoUrl": "",
      "userId": "12200032696612403853"
     },
     "user_tz": 300
    },
    "id": "o1Ak5BjUWX-k",
    "outputId": "92332178-29a5-4817-dd38-6a9fee3e3e90"
   },
   "outputs": [
    {
     "name": "stdout",
     "output_type": "stream",
     "text": [
      "Mounted at /content/drive\n"
     ]
    }
   ],
   "source": [
    "from google.colab import drive\n",
    "drive.mount('/content/drive',force_remount=True)"
   ]
  },
  {
   "cell_type": "markdown",
   "metadata": {
    "colab_type": "text",
    "id": "NXk5s56sBkr9"
   },
   "source": [
    "Exportamos los datos para obtener varias carpetas cada una con los datos de la clase 0 y clase 1"
   ]
  },
  {
   "cell_type": "code",
   "execution_count": 0,
   "metadata": {
    "colab": {},
    "colab_type": "code",
    "id": "EGlm0R2zzkF3"
   },
   "outputs": [],
   "source": [
    "import zipfile\n",
    "zip_ref = zipfile.ZipFile(\"/content/drive/My Drive/IDC.zip\", 'r')\n",
    "zip_ref.extractall(\"./\")\n",
    "zip_ref.close()"
   ]
  },
  {
   "cell_type": "markdown",
   "metadata": {
    "colab_type": "text",
    "id": "fgRqmxcQBobv"
   },
   "source": [
    "Después de Extraer los datos usamos glob para obtener todas las imagenes de las subcarpetas"
   ]
  },
  {
   "cell_type": "code",
   "execution_count": 0,
   "metadata": {
    "colab": {},
    "colab_type": "code",
    "id": "WblkZH-Z4ggl"
   },
   "outputs": [],
   "source": [
    "from glob import glob\n",
    "imagenes = glob('IDC/**/*.png', recursive=True)"
   ]
  },
  {
   "cell_type": "markdown",
   "metadata": {
    "colab_type": "text",
    "id": "Dmm49K-iBrjl"
   },
   "source": [
    "Todas las imagenes se convierten a imagenes a color de 50x50 pixeles"
   ]
  },
  {
   "cell_type": "code",
   "execution_count": 0,
   "metadata": {
    "colab": {},
    "colab_type": "code",
    "id": "U11w3CCHYVIU"
   },
   "outputs": [],
   "source": [
    "import cv2\n",
    "import numpy as np\n",
    "def procesarImg(lidx,uidx):\n",
    "    alto = 50\n",
    "    ancho = 50\n",
    "    canales = 3\n",
    "    x = []\n",
    "    y = []\n",
    "    for img in imagenes[lidx:uidx]:\n",
    "        imagenFull = cv2.imread(img)\n",
    "        imageRes = (cv2.resize(imagenFull, (alto,ancho), interpolation=cv2.INTER_CUBIC))\n",
    "        x.append(imageRes)\n",
    "        if img[-10:]==\"class1.png\":\n",
    "            y.append(0)\n",
    "        elif img[-10:]==\"class0.png\":\n",
    "            y.append(1)\n",
    "        else:\n",
    "            return\n",
    "    return x,y"
   ]
  },
  {
   "cell_type": "code",
   "execution_count": 0,
   "metadata": {
    "colab": {},
    "colab_type": "code",
    "id": "U9tcYeZYYXc5"
   },
   "outputs": [],
   "source": [
    "X, Y = procesarImg(0,10000)\n",
    "X = np.array(X)/255"
   ]
  },
  {
   "cell_type": "code",
   "execution_count": 0,
   "metadata": {
    "colab": {
     "base_uri": "https://localhost:8080/",
     "height": 284
    },
    "colab_type": "code",
    "executionInfo": {
     "elapsed": 958,
     "status": "ok",
     "timestamp": 1582294651928,
     "user": {
      "displayName": "CAMILO SANTA VELEZ",
      "photoUrl": "",
      "userId": "12200032696612403853"
     },
     "user_tz": 300
    },
    "id": "8e1fWF-QGucc",
    "outputId": "c5f27795-c6eb-4a1a-d0db-d7144e6a7b6a"
   },
   "outputs": [
    {
     "data": {
      "text/plain": [
       "1"
      ]
     },
     "execution_count": 18,
     "metadata": {
      "tags": []
     },
     "output_type": "execute_result"
    },
    {
     "data": {
      "image/png": "[encoded data removed]",
      "text/plain": [
       "<Figure size 432x288 with 1 Axes>"
      ]
     },
     "metadata": {
      "tags": []
     },
     "output_type": "display_data"
    }
   ],
   "source": [
    "import matplotlib.pyplot as plt\n",
    "ejemplo=0\n",
    "plt.imshow(X[ejemplo])\n",
    "Y[ejemplo]"
   ]
  },
  {
   "cell_type": "markdown",
   "metadata": {
    "colab_type": "text",
    "id": "V40pKnmRBxM1"
   },
   "source": [
    "Se separan los datos en entrenamiento y test"
   ]
  },
  {
   "cell_type": "code",
   "execution_count": 0,
   "metadata": {
    "colab": {
     "base_uri": "https://localhost:8080/",
     "height": 34
    },
    "colab_type": "code",
    "executionInfo": {
     "elapsed": 1837,
     "status": "ok",
     "timestamp": 1582294656967,
     "user": {
      "displayName": "CAMILO SANTA VELEZ",
      "photoUrl": "",
      "userId": "12200032696612403853"
     },
     "user_tz": 300
    },
    "id": "_uuFVi_xYbtn",
    "outputId": "02350976-eaec-4139-e16f-1c7d551d271b"
   },
   "outputs": [
    {
     "data": {
      "text/plain": [
       "(5305, 3195)"
      ]
     },
     "execution_count": 19,
     "metadata": {
      "tags": []
     },
     "output_type": "execute_result"
    }
   ],
   "source": [
    "from sklearn.model_selection import train_test_split\n",
    "X_train, X_test, y_train, y_test = train_test_split(X,Y,test_size=0.15)\n",
    "y_train.count(1),y_train.count(0)"
   ]
  },
  {
   "cell_type": "markdown",
   "metadata": {
    "colab_type": "text",
    "id": "WH46bSOfCtc7"
   },
   "source": [
    "## Muestreo Aleatorio"
   ]
  },
  {
   "cell_type": "markdown",
   "metadata": {
    "colab_type": "text",
    "id": "2ZpTVdygB2b9"
   },
   "source": [
    "Los datos están muy desbalanceados, hay el triple de datos de la clase 1 que la clase 0. Para lidiar con esto, vamos a hacer un muestreo de los datos para que queden balanceados"
   ]
  },
  {
   "cell_type": "code",
   "execution_count": 0,
   "metadata": {
    "colab": {},
    "colab_type": "code",
    "id": "aiYHHZMVYvOW"
   },
   "outputs": [],
   "source": [
    "X_trainFlat = X_train.reshape(X_train.shape[0], -1)\n",
    "X_testFlat = X_test.reshape(X_test.shape[0], -1)"
   ]
  },
  {
   "cell_type": "code",
   "execution_count": 0,
   "metadata": {
    "colab": {
     "base_uri": "https://localhost:8080/",
     "height": 122
    },
    "colab_type": "code",
    "executionInfo": {
     "elapsed": 2364,
     "status": "ok",
     "timestamp": 1582294677788,
     "user": {
      "displayName": "CAMILO SANTA VELEZ",
      "photoUrl": "",
      "userId": "12200032696612403853"
     },
     "user_tz": 300
    },
    "id": "EhiGpJwWYxQi",
    "outputId": "e2d2f9ca-479d-4b94-b879-32051678a51d"
   },
   "outputs": [
    {
     "name": "stderr",
     "output_type": "stream",
     "text": [
      "/usr/local/lib/python3.6/dist-packages/sklearn/utils/deprecation.py:87: FutureWarning: Function safe_indexing is deprecated; safe_indexing is deprecated in version 0.22 and will be removed in version 0.24.\n",
      "  warnings.warn(msg, category=FutureWarning)\n",
      "/usr/local/lib/python3.6/dist-packages/sklearn/utils/deprecation.py:87: FutureWarning: Function safe_indexing is deprecated; safe_indexing is deprecated in version 0.22 and will be removed in version 0.24.\n",
      "  warnings.warn(msg, category=FutureWarning)\n"
     ]
    },
    {
     "data": {
      "text/plain": [
       "(6390, 6390)"
      ]
     },
     "execution_count": 22,
     "metadata": {
      "tags": []
     },
     "output_type": "execute_result"
    }
   ],
   "source": [
    "from imblearn.under_sampling import RandomUnderSampler\n",
    "from keras.utils import to_categorical\n",
    "random_under_sampler = RandomUnderSampler(ratio='majority')\n",
    "X_trainRos, Y_trainRos = random_under_sampler.fit_sample(X_trainFlat, y_train)\n",
    "X_testRos, Y_testRos = random_under_sampler.fit_sample(X_testFlat, y_test)\n",
    "X_trainRos=X_trainRos.reshape((-1,50,50,3))\n",
    "X_testRos=X_testRos.reshape((-1,50,50,3))\n",
    "Y_trainRos=to_categorical(Y_trainRos)\n",
    "Y_testRos=to_categorical(Y_testRos)\n",
    "(Y_trainRos==1).sum(),(Y_trainRos==0).sum()"
   ]
  },
  {
   "cell_type": "markdown",
   "metadata": {
    "colab_type": "text",
    "id": "v3SVZpTnCxpU"
   },
   "source": [
    "## Red Convolucional"
   ]
  },
  {
   "cell_type": "markdown",
   "metadata": {
    "colab_type": "text",
    "id": "lXN0obDzCCJ4"
   },
   "source": [
    "Ahora vamos a construir la red convolucional"
   ]
  },
  {
   "cell_type": "code",
   "execution_count": 0,
   "metadata": {
    "colab": {
     "base_uri": "https://localhost:8080/",
     "height": 802
    },
    "colab_type": "code",
    "executionInfo": {
     "elapsed": 1491,
     "status": "ok",
     "timestamp": 1582294687391,
     "user": {
      "displayName": "CAMILO SANTA VELEZ",
      "photoUrl": "",
      "userId": "12200032696612403853"
     },
     "user_tz": 300
    },
    "id": "dZ1nvZURY3m_",
    "outputId": "2021b71c-0db1-4f43-dc21-2e250963d417"
   },
   "outputs": [
    {
     "name": "stdout",
     "output_type": "stream",
     "text": [
      "WARNING:tensorflow:From /usr/local/lib/python3.6/dist-packages/keras/backend/tensorflow_backend.py:66: The name tf.get_default_graph is deprecated. Please use tf.compat.v1.get_default_graph instead.\n",
      "\n",
      "WARNING:tensorflow:From /usr/local/lib/python3.6/dist-packages/keras/backend/tensorflow_backend.py:541: The name tf.placeholder is deprecated. Please use tf.compat.v1.placeholder instead.\n",
      "\n",
      "WARNING:tensorflow:From /usr/local/lib/python3.6/dist-packages/keras/backend/tensorflow_backend.py:4432: The name tf.random_uniform is deprecated. Please use tf.random.uniform instead.\n",
      "\n",
      "WARNING:tensorflow:From /usr/local/lib/python3.6/dist-packages/keras/backend/tensorflow_backend.py:4267: The name tf.nn.max_pool is deprecated. Please use tf.nn.max_pool2d instead.\n",
      "\n",
      "WARNING:tensorflow:From /usr/local/lib/python3.6/dist-packages/keras/backend/tensorflow_backend.py:148: The name tf.placeholder_with_default is deprecated. Please use tf.compat.v1.placeholder_with_default instead.\n",
      "\n",
      "WARNING:tensorflow:From /usr/local/lib/python3.6/dist-packages/keras/backend/tensorflow_backend.py:3733: calling dropout (from tensorflow.python.ops.nn_ops) with keep_prob is deprecated and will be removed in a future version.\n",
      "Instructions for updating:\n",
      "Please use `rate` instead of `keep_prob`. Rate should be set to `rate = 1 - keep_prob`.\n",
      "Model: \"sequential_1\"\n",
      "_________________________________________________________________\n",
      "Layer (type)                 Output Shape              Param #   \n",
      "=================================================================\n",
      "conv2d_1 (Conv2D)            (None, 48, 48, 32)        896       \n",
      "_________________________________________________________________\n",
      "max_pooling2d_1 (MaxPooling2 (None, 24, 24, 32)        0         \n",
      "_________________________________________________________________\n",
      "conv2d_2 (Conv2D)            (None, 22, 22, 64)        18496     \n",
      "_________________________________________________________________\n",
      "max_pooling2d_2 (MaxPooling2 (None, 11, 11, 64)        0         \n",
      "_________________________________________________________________\n",
      "conv2d_3 (Conv2D)            (None, 9, 9, 128)         73856     \n",
      "_________________________________________________________________\n",
      "conv2d_4 (Conv2D)            (None, 7, 7, 256)         295168    \n",
      "_________________________________________________________________\n",
      "flatten_1 (Flatten)          (None, 12544)             0         \n",
      "_________________________________________________________________\n",
      "dropout_1 (Dropout)          (None, 12544)             0         \n",
      "_________________________________________________________________\n",
      "dense_1 (Dense)              (None, 128)               1605760   \n",
      "_________________________________________________________________\n",
      "dropout_2 (Dropout)          (None, 128)               0         \n",
      "_________________________________________________________________\n",
      "dense_2 (Dense)              (None, 128)               16512     \n",
      "_________________________________________________________________\n",
      "dense_3 (Dense)              (None, 2)                 258       \n",
      "=================================================================\n",
      "Total params: 2,010,946\n",
      "Trainable params: 2,010,946\n",
      "Non-trainable params: 0\n",
      "_________________________________________________________________\n"
     ]
    }
   ],
   "source": [
    "from keras.models import Sequential\n",
    "from keras.layers import Conv2D,MaxPooling2D,Flatten,Dense,Dropout\n",
    "batch_size = 256\n",
    "num_classes = 2\n",
    "epochs = 100\n",
    "model = Sequential()\n",
    "model.add(Conv2D(32, kernel_size=(3,3),activation='relu',input_shape=(50,50,3)))\n",
    "model.add(MaxPooling2D(pool_size=(2, 2)))\n",
    "model.add(Conv2D(64, (3,3), activation='relu'))\n",
    "model.add(MaxPooling2D(pool_size=(2,2)))\n",
    "model.add(Conv2D(128, (3, 3), activation='relu'))\n",
    "model.add(Conv2D(256, (3, 3), activation='relu'))\n",
    "model.add(Flatten()) \n",
    "model.add(Dropout(0.5))\n",
    "model.add(Dense(128, activation='relu'))\n",
    "model.add(Dropout(0.5))\n",
    "model.add(Dense(128, activation='relu'))\n",
    "model.add(Dense(num_classes, activation='sigmoid'))\n",
    "model.summary()"
   ]
  },
  {
   "cell_type": "markdown",
   "metadata": {
    "colab_type": "text",
    "id": "1dqYEoRFCI2z"
   },
   "source": [
    "Es un problema de clasificación binaria entonces vamos a usar la entropía cruzada"
   ]
  },
  {
   "cell_type": "code",
   "execution_count": 0,
   "metadata": {
    "colab": {
     "base_uri": "https://localhost:8080/",
     "height": 156
    },
    "colab_type": "code",
    "executionInfo": {
     "elapsed": 1533,
     "status": "ok",
     "timestamp": 1582294708073,
     "user": {
      "displayName": "CAMILO SANTA VELEZ",
      "photoUrl": "",
      "userId": "12200032696612403853"
     },
     "user_tz": 300
    },
    "id": "uCVv-AouY8SG",
    "outputId": "0c288df6-d320-4eac-bd42-f7f3a5a82ca4"
   },
   "outputs": [
    {
     "name": "stdout",
     "output_type": "stream",
     "text": [
      "WARNING:tensorflow:From /usr/local/lib/python3.6/dist-packages/keras/optimizers.py:793: The name tf.train.Optimizer is deprecated. Please use tf.compat.v1.train.Optimizer instead.\n",
      "\n",
      "WARNING:tensorflow:From /usr/local/lib/python3.6/dist-packages/keras/backend/tensorflow_backend.py:3657: The name tf.log is deprecated. Please use tf.math.log instead.\n",
      "\n",
      "WARNING:tensorflow:From /usr/local/lib/python3.6/dist-packages/tensorflow_core/python/ops/nn_impl.py:183: where (from tensorflow.python.ops.array_ops) is deprecated and will be removed in a future version.\n",
      "Instructions for updating:\n",
      "Use tf.where in 2.0, which has the same broadcast rule as np.where\n"
     ]
    }
   ],
   "source": [
    "model.compile(loss='binary_crossentropy',optimizer='adam',metrics=['accuracy'])"
   ]
  },
  {
   "cell_type": "markdown",
   "metadata": {
    "colab_type": "text",
    "id": "Qxg_0-SbCOrc"
   },
   "source": [
    "Podemos aumentar los datos mediante rotaciones y reflexiones"
   ]
  },
  {
   "cell_type": "code",
   "execution_count": 0,
   "metadata": {
    "colab": {},
    "colab_type": "code",
    "id": "qlcWcaFVZMdL"
   },
   "outputs": [],
   "source": [
    "from keras.preprocessing.image import ImageDataGenerator\n",
    "datagen = ImageDataGenerator(\n",
    "    featurewise_center=True,\n",
    "    featurewise_std_normalization=True,\n",
    "    rotation_range=180,\n",
    "    horizontal_flip=True,vertical_flip = True)"
   ]
  },
  {
   "cell_type": "markdown",
   "metadata": {
    "colab_type": "text",
    "id": "rab0pcMlCabd"
   },
   "source": [
    "Usaremos early stopping y haremos un checkpoint del modelo cada que la pérdida de validación disminuya"
   ]
  },
  {
   "cell_type": "code",
   "execution_count": 0,
   "metadata": {
    "colab": {},
    "colab_type": "code",
    "id": "5h82FLI-ZHYx"
   },
   "outputs": [],
   "source": [
    "from keras.callbacks import EarlyStopping,ModelCheckpoint\n",
    "early_stopping_monitor = EarlyStopping(monitor='val_loss', patience=3, mode='min')\n",
    "model_checkpoint = ModelCheckpoint('best_model.h5', monitor='val_loss', mode='min', verbose=1, save_best_only=True)"
   ]
  },
  {
   "cell_type": "markdown",
   "metadata": {
    "colab_type": "text",
    "id": "UfCtC4cDCdtu"
   },
   "source": [
    "## Entrenamiento"
   ]
  },
  {
   "cell_type": "code",
   "execution_count": 0,
   "metadata": {
    "colab": {
     "base_uri": "https://localhost:8080/",
     "height": 1000
    },
    "colab_type": "code",
    "executionInfo": {
     "elapsed": 48288,
     "status": "ok",
     "timestamp": 1582294782288,
     "user": {
      "displayName": "CAMILO SANTA VELEZ",
      "photoUrl": "",
      "userId": "12200032696612403853"
     },
     "user_tz": 300
    },
    "id": "qB4Q8c8wZPr7",
    "outputId": "965a2f08-5c5f-4fde-9a31-84d6df0e0ff1"
   },
   "outputs": [
    {
     "name": "stdout",
     "output_type": "stream",
     "text": [
      "WARNING:tensorflow:From /usr/local/lib/python3.6/dist-packages/keras/backend/tensorflow_backend.py:1033: The name tf.assign_add is deprecated. Please use tf.compat.v1.assign_add instead.\n",
      "\n",
      "WARNING:tensorflow:From /usr/local/lib/python3.6/dist-packages/keras/backend/tensorflow_backend.py:1020: The name tf.assign is deprecated. Please use tf.compat.v1.assign instead.\n",
      "\n",
      "WARNING:tensorflow:From /usr/local/lib/python3.6/dist-packages/keras/backend/tensorflow_backend.py:3005: The name tf.Session is deprecated. Please use tf.compat.v1.Session instead.\n",
      "\n",
      "Epoch 1/10\n",
      "WARNING:tensorflow:From /usr/local/lib/python3.6/dist-packages/keras/backend/tensorflow_backend.py:190: The name tf.get_default_session is deprecated. Please use tf.compat.v1.get_default_session instead.\n",
      "\n",
      "WARNING:tensorflow:From /usr/local/lib/python3.6/dist-packages/keras/backend/tensorflow_backend.py:197: The name tf.ConfigProto is deprecated. Please use tf.compat.v1.ConfigProto instead.\n",
      "\n"
     ]
    },
    {
     "name": "stderr",
     "output_type": "stream",
     "text": [
      "/usr/local/lib/python3.6/dist-packages/keras_preprocessing/image/image_data_generator.py:716: UserWarning: This ImageDataGenerator specifies `featurewise_center`, but it hasn't been fit on any training data. Fit it first by calling `.fit(numpy_data)`.\n",
      "  warnings.warn('This ImageDataGenerator specifies '\n",
      "/usr/local/lib/python3.6/dist-packages/keras_preprocessing/image/image_data_generator.py:724: UserWarning: This ImageDataGenerator specifies `featurewise_std_normalization`, but it hasn't been fit on any training data. Fit it first by calling `.fit(numpy_data)`.\n",
      "  warnings.warn('This ImageDataGenerator specifies '\n"
     ]
    },
    {
     "name": "stdout",
     "output_type": "stream",
     "text": [
      "WARNING:tensorflow:From /usr/local/lib/python3.6/dist-packages/keras/backend/tensorflow_backend.py:207: The name tf.global_variables is deprecated. Please use tf.compat.v1.global_variables instead.\n",
      "\n",
      "WARNING:tensorflow:From /usr/local/lib/python3.6/dist-packages/keras/backend/tensorflow_backend.py:216: The name tf.is_variable_initialized is deprecated. Please use tf.compat.v1.is_variable_initialized instead.\n",
      "\n",
      "WARNING:tensorflow:From /usr/local/lib/python3.6/dist-packages/keras/backend/tensorflow_backend.py:223: The name tf.variables_initializer is deprecated. Please use tf.compat.v1.variables_initializer instead.\n",
      "\n",
      "25/24 [==============================] - 7s 288ms/step - loss: 0.6689 - acc: 0.5828 - val_loss: 0.6070 - val_acc: 0.7235\n",
      "\n",
      "Epoch 00001: val_loss improved from inf to 0.60698, saving model to best_model.h5\n",
      "Epoch 2/10\n",
      "25/24 [==============================] - 4s 166ms/step - loss: 0.4679 - acc: 0.8074 - val_loss: 0.4305 - val_acc: 0.8394\n",
      "\n",
      "Epoch 00002: val_loss improved from 0.60698 to 0.43051, saving model to best_model.h5\n",
      "Epoch 3/10\n",
      "25/24 [==============================] - 4s 173ms/step - loss: 0.4303 - acc: 0.8169 - val_loss: 0.3888 - val_acc: 0.8438\n",
      "\n",
      "Epoch 00003: val_loss improved from 0.43051 to 0.38879, saving model to best_model.h5\n",
      "Epoch 4/10\n",
      "25/24 [==============================] - 4s 172ms/step - loss: 0.4006 - acc: 0.8396 - val_loss: 0.3899 - val_acc: 0.8451\n",
      "\n",
      "Epoch 00004: val_loss did not improve from 0.38879\n",
      "Epoch 5/10\n",
      "25/24 [==============================] - 4s 175ms/step - loss: 0.3752 - acc: 0.8462 - val_loss: 0.3491 - val_acc: 0.8686\n",
      "\n",
      "Epoch 00005: val_loss improved from 0.38879 to 0.34907, saving model to best_model.h5\n",
      "Epoch 6/10\n",
      "25/24 [==============================] - 4s 171ms/step - loss: 0.3768 - acc: 0.8440 - val_loss: 0.3453 - val_acc: 0.8690\n",
      "\n",
      "Epoch 00006: val_loss improved from 0.34907 to 0.34526, saving model to best_model.h5\n",
      "Epoch 7/10\n",
      "25/24 [==============================] - 4s 171ms/step - loss: 0.3679 - acc: 0.8487 - val_loss: 0.3425 - val_acc: 0.8522\n",
      "\n",
      "Epoch 00007: val_loss improved from 0.34526 to 0.34246, saving model to best_model.h5\n",
      "Epoch 8/10\n",
      "25/24 [==============================] - 4s 178ms/step - loss: 0.3501 - acc: 0.8615 - val_loss: 0.3504 - val_acc: 0.8588\n",
      "\n",
      "Epoch 00008: val_loss did not improve from 0.34246\n",
      "Epoch 9/10\n",
      "25/24 [==============================] - 4s 175ms/step - loss: 0.3450 - acc: 0.8588 - val_loss: 0.3268 - val_acc: 0.8712\n",
      "\n",
      "Epoch 00009: val_loss improved from 0.34246 to 0.32679, saving model to best_model.h5\n",
      "Epoch 10/10\n",
      "25/24 [==============================] - 4s 177ms/step - loss: 0.3678 - acc: 0.8473 - val_loss: 0.3430 - val_acc: 0.8597\n",
      "\n",
      "Epoch 00010: val_loss did not improve from 0.32679\n"
     ]
    }
   ],
   "source": [
    "training = model.fit_generator(datagen.flow(X_trainRos,Y_trainRos,batch_size=batch_size),steps_per_epoch=len(X_trainRos) / batch_size, epochs=epochs,validation_data=(X_testRos, Y_testRos), verbose=1, callbacks=[early_stopping_monitor, model_checkpoint])"
   ]
  },
  {
   "cell_type": "markdown",
   "metadata": {
    "colab_type": "text",
    "id": "C8aJAA8OC25l"
   },
   "source": [
    "## Validación"
   ]
  },
  {
   "cell_type": "code",
   "execution_count": 0,
   "metadata": {
    "colab": {
     "base_uri": "https://localhost:8080/",
     "height": 51
    },
    "colab_type": "code",
    "executionInfo": {
     "elapsed": 2854,
     "status": "ok",
     "timestamp": 1582294822736,
     "user": {
      "displayName": "CAMILO SANTA VELEZ",
      "photoUrl": "",
      "userId": "12200032696612403853"
     },
     "user_tz": 300
    },
    "id": "75cSCybTZS9r",
    "outputId": "b6d869ec-588f-44b7-db1e-9fe544883e22"
   },
   "outputs": [
    {
     "data": {
      "text/plain": [
       "array([[486,  79],\n",
       "       [ 67, 498]])"
      ]
     },
     "execution_count": 31,
     "metadata": {
      "tags": []
     },
     "output_type": "execute_result"
    }
   ],
   "source": [
    "from keras.models import load_model\n",
    "from sklearn import metrics\n",
    "model = load_model('best_model.h5')\n",
    "y_pred_one_hot = model.predict(X_testRos)\n",
    "y_pred_labels = np.argmax(y_pred_one_hot, axis = 1)\n",
    "y_true_labels = np.argmax(Y_testRos,axis=1)\n",
    "metrics.confusion_matrix(y_true=y_true_labels, y_pred=y_pred_labels)"
   ]
  },
  {
   "cell_type": "markdown",
   "metadata": {
    "colab_type": "text",
    "id": "z530l-L_Mlkg"
   },
   "source": [
    "##**Problema de CNN**\n",
    "\n",
    "El siguiente problema tiene como objetivo resolver un problema de clasificación de imágenes de 10 categorias, las cuales están codificadas de la siguiente forma:\n",
    "\n",
    "- airplane : 0\n",
    "- automobile : 1\n",
    "- bird : 2\n",
    "- cat : 3\n",
    "- deer : 4\n",
    "- dog : 5\n",
    "- frog : 6\n",
    "- horse : 7\n",
    "- ship : 8\n",
    "- truck : 9\n",
    "\n",
    "1. Importe las librerías necesarias para obtener los datos de `cifar10, construir un modelo de redes neuronales convolucionales y graficar las imágenes.\n",
    "\n",
    "2. Cargue las imágenes y sus etiquetas y divídalas en dos grupos: entrenamiento y evaluación. Para ello consulte la ayuda de la función `load_data()` que contiene el dataset cifar10.\n",
    "\n",
    "3. Determine que tipo de tensores que se almacenan en el conjunto de entrenamiento y test (tanto para el conjunto de imágenes como los labels).\n",
    "\n",
    "4. Normalice las imágenes. Para ello, determine cual es la profundidad de píxel dentro de las imágenes del dataset. Nota: por profundidad de píxel se entiende a los bits necesarios para representar el número almacenado en cada píxel.\n",
    "\n",
    "5. Grafíque las 25 primeras figuras almacenadas en el conjunto de imágenes de entrenamiento. Ayuda: haga uso de la función `imshow` de `matplotlib`, y fije como argumento dentro de `imshow` `cmap=plt.cm.binary`.\n",
    "\n",
    "6. Antes de crear su modelo responda las siguientes preguntas:\n",
    "\n",
    "  - ¿Qué tipo de valriables representan las etiquetas del dataset?.\n",
    "  - ¿Qué tipo de función de pérdida puede definirse para estas etiquetas?\n",
    "  - ¿Que tipo de capa puede definirse a la salida del modelo?\n",
    "\n",
    "7. Cree un modelo secuencial con la siguiente estructura:\n",
    "\n",
    "  - Capa de convolución 2D cuya entrada deberá ser igual a la dimensión de cada una de las imágenes. Dicha capa deberá estar constituida por **32 filtros**, cada uno de $3\\times3$, y una función de activación `relu`.\n",
    "  - Capa `MaxPoling` de $(2,2)$.\n",
    "  - Capa de convolución 2D compuesta por 64 filtros de $3\\times3$ y función de activación `relu`.\n",
    "  - Capa `MaxPoling` de $(2,2)$.\n",
    "  - Capa de convolución 2D compuesta por 64 filtros de $3\\times3$ y función de activación `relu`.\n",
    "  - Capa `flatten` para que la imágen de salida de la capa anterior se convierta en un vector fila.\n",
    "  - Capa densamente conexa de 64 neuronas y función de activación `relu`\n",
    "  - Capa densamente conexa de 10 neuronas con la identidad función de activación.\n",
    "\n",
    "8. Compile el modelo con los siguientes parámetros definidos en el argumento:\n",
    "\n",
    "  ```\n",
    "    optimizer='adam',\n",
    "                loss=keras.losses.SparseCategoricalCrossentrop(from_logits=True),\n",
    "                metrics=['accuracy']\n",
    "  ```\n",
    "\n",
    "9. Entrene el modelo durante 10 época, usando el grupo de evalución como grupo de validación. Almacene dicho entrenamiento en un objeto `history`.\n",
    "\n",
    "10. Grafique las curvas de aprendizaje almacenadas ene l objeto history.\n",
    "\n",
    "11. Evalue el desempeño del modelo en el conjunto de evaluación."
   ]
  },
  {
   "cell_type": "markdown",
   "metadata": {
    "colab_type": "text",
    "id": "-uZPlZXeQEwc"
   },
   "source": [
    "# Ejemplo RNN"
   ]
  },
  {
   "cell_type": "markdown",
   "metadata": {
    "colab_type": "text",
    "id": "rvzTPodGPWuL"
   },
   "source": [
    "Usaremos el dataset de Occupancy Detection. Este dataset describe las mediciones de una habitación y el objetivo es predecir si la habitación está ocupada o no. Puede leer mas sobre el data set en este [link](https://archive.ics.uci.edu/ml/datasets/Occupancy+Detection+)"
   ]
  },
  {
   "cell_type": "markdown",
   "metadata": {
    "colab_type": "text",
    "id": "0cuDmXGIQI8-"
   },
   "source": [
    "Importemos algunas librerias que necesitaremos"
   ]
  },
  {
   "cell_type": "code",
   "execution_count": 0,
   "metadata": {
    "colab": {
     "base_uri": "https://localhost:8080/",
     "height": 34
    },
    "colab_type": "code",
    "executionInfo": {
     "elapsed": 841,
     "status": "ok",
     "timestamp": 1582315561677,
     "user": {
      "displayName": "OMAR ANDRES CASTAÑO IDARRAGA",
      "photoUrl": "https://lh3.googleusercontent.com/a-/AAuE7mC2ySyCrN1YGwnYckefX0eAcDZYBC0mDAz68pJt=s64",
      "userId": "02036237685860066032"
     },
     "user_tz": 300
    },
    "id": "_SF1Dg1qRdLA",
    "outputId": "dc79c6ca-c94d-4bcf-ae82-068dc86715d1"
   },
   "outputs": [
    {
     "name": "stdout",
     "output_type": "stream",
     "text": [
      "TensorFlow is already loaded. Please restart the runtime to change versions.\n"
     ]
    }
   ],
   "source": [
    "%tensorflow_version 2.x"
   ]
  },
  {
   "cell_type": "code",
   "execution_count": 0,
   "metadata": {
    "colab": {},
    "colab_type": "code",
    "id": "tBqzgn_Z6q7B"
   },
   "outputs": [],
   "source": [
    "import numpy as np\n",
    "import pandas as pd\n",
    "from keras.preprocessing.sequence import TimeseriesGenerator\n",
    "from tensorflow import keras\n",
    "import seaborn as sns\n",
    "from sklearn.metrics import roc_auc_score\n",
    "from sklearn.model_selection import train_test_split\n",
    "from sklearn.preprocessing import StandardScaler"
   ]
  },
  {
   "cell_type": "markdown",
   "metadata": {
    "colab_type": "text",
    "id": "bInvQWsyQOfu"
   },
   "source": [
    "Ahora procedamos a importar los datos de entrenamiento y de testeo que se encuntran en el repositorio de github"
   ]
  },
  {
   "cell_type": "code",
   "execution_count": 0,
   "metadata": {
    "colab": {},
    "colab_type": "code",
    "id": "5qNm8-T8f_4U"
   },
   "outputs": [],
   "source": [
    "data_train = pd.read_csv('https://raw.githubusercontent.com/diplomado-bigdata-machinelearning-udea/Curso2/master/Datasets/Occupancy_train.txt')\n",
    "data_test = pd.read_csv('https://raw.githubusercontent.com/diplomado-bigdata-machinelearning-udea/Curso2/master/Datasets/Occupancy_test.txt')"
   ]
  },
  {
   "cell_type": "code",
   "execution_count": 0,
   "metadata": {
    "colab": {
     "base_uri": "https://localhost:8080/",
     "height": 50
    },
    "colab_type": "code",
    "executionInfo": {
     "elapsed": 1585,
     "status": "ok",
     "timestamp": 1582315562469,
     "user": {
      "displayName": "OMAR ANDRES CASTAÑO IDARRAGA",
      "photoUrl": "https://lh3.googleusercontent.com/a-/AAuE7mC2ySyCrN1YGwnYckefX0eAcDZYBC0mDAz68pJt=s64",
      "userId": "02036237685860066032"
     },
     "user_tz": 300
    },
    "id": "AOLUd2nWzzAL",
    "outputId": "729a9fd3-87f3-4bdf-b8ca-0f041bbcc53c"
   },
   "outputs": [
    {
     "name": "stdout",
     "output_type": "stream",
     "text": [
      "data_train_shape = (8143, 7) \n",
      "data_test_shape = (2665, 7)\n"
     ]
    }
   ],
   "source": [
    "print('data_train_shape =',data_train.shape, '\\ndata_test_shape =',data_test.shape)"
   ]
  },
  {
   "cell_type": "code",
   "execution_count": 0,
   "metadata": {
    "colab": {
     "base_uri": "https://localhost:8080/",
     "height": 195
    },
    "colab_type": "code",
    "executionInfo": {
     "elapsed": 1548,
     "status": "ok",
     "timestamp": 1582315562469,
     "user": {
      "displayName": "OMAR ANDRES CASTAÑO IDARRAGA",
      "photoUrl": "https://lh3.googleusercontent.com/a-/AAuE7mC2ySyCrN1YGwnYckefX0eAcDZYBC0mDAz68pJt=s64",
      "userId": "02036237685860066032"
     },
     "user_tz": 300
    },
    "id": "4rbBXhUbqHvm",
    "outputId": "8cd0f76e-ad1d-4410-a030-faccfdea1d7f"
   },
   "outputs": [
    {
     "data": {
      "text/html": [
       "<div>\n",
       "<style scoped>\n",
       "    .dataframe tbody tr th:only-of-type {\n",
       "        vertical-align: middle;\n",
       "    }\n",
       "\n",
       "    .dataframe tbody tr th {\n",
       "        vertical-align: top;\n",
       "    }\n",
       "\n",
       "    .dataframe thead th {\n",
       "        text-align: right;\n",
       "    }\n",
       "</style>\n",
       "<table border=\"1\" class=\"dataframe\">\n",
       "  <thead>\n",
       "    <tr style=\"text-align: right;\">\n",
       "      <th></th>\n",
       "      <th>date</th>\n",
       "      <th>Temperature</th>\n",
       "      <th>Humidity</th>\n",
       "      <th>Light</th>\n",
       "      <th>CO2</th>\n",
       "      <th>HumidityRatio</th>\n",
       "      <th>Occupancy</th>\n",
       "    </tr>\n",
       "  </thead>\n",
       "  <tbody>\n",
       "    <tr>\n",
       "      <th>1</th>\n",
       "      <td>2015-02-04 17:51:00</td>\n",
       "      <td>23.18</td>\n",
       "      <td>27.2720</td>\n",
       "      <td>426.0</td>\n",
       "      <td>721.25</td>\n",
       "      <td>0.004793</td>\n",
       "      <td>1</td>\n",
       "    </tr>\n",
       "    <tr>\n",
       "      <th>2</th>\n",
       "      <td>2015-02-04 17:51:59</td>\n",
       "      <td>23.15</td>\n",
       "      <td>27.2675</td>\n",
       "      <td>429.5</td>\n",
       "      <td>714.00</td>\n",
       "      <td>0.004783</td>\n",
       "      <td>1</td>\n",
       "    </tr>\n",
       "    <tr>\n",
       "      <th>3</th>\n",
       "      <td>2015-02-04 17:53:00</td>\n",
       "      <td>23.15</td>\n",
       "      <td>27.2450</td>\n",
       "      <td>426.0</td>\n",
       "      <td>713.50</td>\n",
       "      <td>0.004779</td>\n",
       "      <td>1</td>\n",
       "    </tr>\n",
       "    <tr>\n",
       "      <th>4</th>\n",
       "      <td>2015-02-04 17:54:00</td>\n",
       "      <td>23.15</td>\n",
       "      <td>27.2000</td>\n",
       "      <td>426.0</td>\n",
       "      <td>708.25</td>\n",
       "      <td>0.004772</td>\n",
       "      <td>1</td>\n",
       "    </tr>\n",
       "    <tr>\n",
       "      <th>5</th>\n",
       "      <td>2015-02-04 17:55:00</td>\n",
       "      <td>23.10</td>\n",
       "      <td>27.2000</td>\n",
       "      <td>426.0</td>\n",
       "      <td>704.50</td>\n",
       "      <td>0.004757</td>\n",
       "      <td>1</td>\n",
       "    </tr>\n",
       "  </tbody>\n",
       "</table>\n",
       "</div>"
      ],
      "text/plain": [
       "                  date  Temperature  Humidity  ...     CO2  HumidityRatio  Occupancy\n",
       "1  2015-02-04 17:51:00        23.18   27.2720  ...  721.25       0.004793          1\n",
       "2  2015-02-04 17:51:59        23.15   27.2675  ...  714.00       0.004783          1\n",
       "3  2015-02-04 17:53:00        23.15   27.2450  ...  713.50       0.004779          1\n",
       "4  2015-02-04 17:54:00        23.15   27.2000  ...  708.25       0.004772          1\n",
       "5  2015-02-04 17:55:00        23.10   27.2000  ...  704.50       0.004757          1\n",
       "\n",
       "[5 rows x 7 columns]"
      ]
     },
     "execution_count": 83,
     "metadata": {
      "tags": []
     },
     "output_type": "execute_result"
    }
   ],
   "source": [
    "data_train.head()"
   ]
  },
  {
   "cell_type": "markdown",
   "metadata": {
    "colab_type": "text",
    "id": "0zr4yM0OUdXG"
   },
   "source": [
    "Selecciones las caracteristicas que usaremos para el entrenamiendo, estas seran ['Temperature', 'Humidity', 'Light', 'CO2']"
   ]
  },
  {
   "cell_type": "code",
   "execution_count": 0,
   "metadata": {
    "colab": {},
    "colab_type": "code",
    "id": "wIUN2oKNL-BM"
   },
   "outputs": [],
   "source": [
    "X_train = data_train[data_train.columns[1:-2]]\n",
    "X_test = data_test[data_test.columns[1:-2]]"
   ]
  },
  {
   "cell_type": "markdown",
   "metadata": {
    "colab_type": "text",
    "id": "qAavyxDQUzSx"
   },
   "source": [
    "Ahora se reescalan los datos"
   ]
  },
  {
   "cell_type": "code",
   "execution_count": 0,
   "metadata": {
    "colab": {},
    "colab_type": "code",
    "id": "fHcE1dgtMIgx"
   },
   "outputs": [],
   "source": [
    "scale = StandardScaler()\n",
    "X_train = scale.fit_transform(X_train)\n",
    "X_test = scale.transform(X_test)\n",
    "X_train = pd.DataFrame(X_train , columns=data_train.columns[1:-2])\n",
    "X_test = pd.DataFrame(X_test , columns=data_test.columns[1:-2])"
   ]
  },
  {
   "cell_type": "code",
   "execution_count": 0,
   "metadata": {
    "colab": {
     "base_uri": "https://localhost:8080/",
     "height": 195
    },
    "colab_type": "code",
    "executionInfo": {
     "elapsed": 1785,
     "status": "ok",
     "timestamp": 1582315562776,
     "user": {
      "displayName": "OMAR ANDRES CASTAÑO IDARRAGA",
      "photoUrl": "https://lh3.googleusercontent.com/a-/AAuE7mC2ySyCrN1YGwnYckefX0eAcDZYBC0mDAz68pJt=s64",
      "userId": "02036237685860066032"
     },
     "user_tz": 300
    },
    "id": "YD-DW4U-U64R",
    "outputId": "d6a8e579-cbf1-428a-83f9-c4269b31f0b2"
   },
   "outputs": [
    {
     "data": {
      "text/html": [
       "<div>\n",
       "<style scoped>\n",
       "    .dataframe tbody tr th:only-of-type {\n",
       "        vertical-align: middle;\n",
       "    }\n",
       "\n",
       "    .dataframe tbody tr th {\n",
       "        vertical-align: top;\n",
       "    }\n",
       "\n",
       "    .dataframe thead th {\n",
       "        text-align: right;\n",
       "    }\n",
       "</style>\n",
       "<table border=\"1\" class=\"dataframe\">\n",
       "  <thead>\n",
       "    <tr style=\"text-align: right;\">\n",
       "      <th></th>\n",
       "      <th>Temperature</th>\n",
       "      <th>Humidity</th>\n",
       "      <th>Light</th>\n",
       "      <th>CO2</th>\n",
       "    </tr>\n",
       "  </thead>\n",
       "  <tbody>\n",
       "    <tr>\n",
       "      <th>0</th>\n",
       "      <td>2.518470</td>\n",
       "      <td>0.278526</td>\n",
       "      <td>1.573763</td>\n",
       "      <td>0.364948</td>\n",
       "    </tr>\n",
       "    <tr>\n",
       "      <th>1</th>\n",
       "      <td>2.488967</td>\n",
       "      <td>0.277713</td>\n",
       "      <td>1.591735</td>\n",
       "      <td>0.341881</td>\n",
       "    </tr>\n",
       "    <tr>\n",
       "      <th>2</th>\n",
       "      <td>2.488967</td>\n",
       "      <td>0.273645</td>\n",
       "      <td>1.573763</td>\n",
       "      <td>0.340290</td>\n",
       "    </tr>\n",
       "    <tr>\n",
       "      <th>3</th>\n",
       "      <td>2.488967</td>\n",
       "      <td>0.265508</td>\n",
       "      <td>1.573763</td>\n",
       "      <td>0.323587</td>\n",
       "    </tr>\n",
       "    <tr>\n",
       "      <th>4</th>\n",
       "      <td>2.439796</td>\n",
       "      <td>0.265508</td>\n",
       "      <td>1.573763</td>\n",
       "      <td>0.311655</td>\n",
       "    </tr>\n",
       "  </tbody>\n",
       "</table>\n",
       "</div>"
      ],
      "text/plain": [
       "   Temperature  Humidity     Light       CO2\n",
       "0     2.518470  0.278526  1.573763  0.364948\n",
       "1     2.488967  0.277713  1.591735  0.341881\n",
       "2     2.488967  0.273645  1.573763  0.340290\n",
       "3     2.488967  0.265508  1.573763  0.323587\n",
       "4     2.439796  0.265508  1.573763  0.311655"
      ]
     },
     "execution_count": 86,
     "metadata": {
      "tags": []
     },
     "output_type": "execute_result"
    }
   ],
   "source": [
    "X_train.head()"
   ]
  },
  {
   "cell_type": "code",
   "execution_count": 0,
   "metadata": {
    "colab": {
     "base_uri": "https://localhost:8080/",
     "height": 195
    },
    "colab_type": "code",
    "executionInfo": {
     "elapsed": 1772,
     "status": "ok",
     "timestamp": 1582315562777,
     "user": {
      "displayName": "OMAR ANDRES CASTAÑO IDARRAGA",
      "photoUrl": "https://lh3.googleusercontent.com/a-/AAuE7mC2ySyCrN1YGwnYckefX0eAcDZYBC0mDAz68pJt=s64",
      "userId": "02036237685860066032"
     },
     "user_tz": 300
    },
    "id": "r7M1D1XBU9pn",
    "outputId": "14cf3ebe-89bd-4ed0-a00a-6fb64c454a90"
   },
   "outputs": [
    {
     "data": {
      "text/html": [
       "<div>\n",
       "<style scoped>\n",
       "    .dataframe tbody tr th:only-of-type {\n",
       "        vertical-align: middle;\n",
       "    }\n",
       "\n",
       "    .dataframe tbody tr th {\n",
       "        vertical-align: top;\n",
       "    }\n",
       "\n",
       "    .dataframe thead th {\n",
       "        text-align: right;\n",
       "    }\n",
       "</style>\n",
       "<table border=\"1\" class=\"dataframe\">\n",
       "  <thead>\n",
       "    <tr style=\"text-align: right;\">\n",
       "      <th></th>\n",
       "      <th>Temperature</th>\n",
       "      <th>Humidity</th>\n",
       "      <th>Light</th>\n",
       "      <th>CO2</th>\n",
       "    </tr>\n",
       "  </thead>\n",
       "  <tbody>\n",
       "    <tr>\n",
       "      <th>0</th>\n",
       "      <td>3.029851</td>\n",
       "      <td>0.097723</td>\n",
       "      <td>2.391247</td>\n",
       "      <td>0.453875</td>\n",
       "    </tr>\n",
       "    <tr>\n",
       "      <th>1</th>\n",
       "      <td>3.047553</td>\n",
       "      <td>0.100977</td>\n",
       "      <td>2.356329</td>\n",
       "      <td>0.489510</td>\n",
       "    </tr>\n",
       "    <tr>\n",
       "      <th>2</th>\n",
       "      <td>3.059354</td>\n",
       "      <td>0.090129</td>\n",
       "      <td>2.326889</td>\n",
       "      <td>0.518993</td>\n",
       "    </tr>\n",
       "    <tr>\n",
       "      <th>3</th>\n",
       "      <td>3.051978</td>\n",
       "      <td>0.071145</td>\n",
       "      <td>1.921656</td>\n",
       "      <td>0.535167</td>\n",
       "    </tr>\n",
       "    <tr>\n",
       "      <th>4</th>\n",
       "      <td>3.082956</td>\n",
       "      <td>0.084705</td>\n",
       "      <td>1.895211</td>\n",
       "      <td>0.548689</td>\n",
       "    </tr>\n",
       "  </tbody>\n",
       "</table>\n",
       "</div>"
      ],
      "text/plain": [
       "   Temperature  Humidity     Light       CO2\n",
       "0     3.029851  0.097723  2.391247  0.453875\n",
       "1     3.047553  0.100977  2.356329  0.489510\n",
       "2     3.059354  0.090129  2.326889  0.518993\n",
       "3     3.051978  0.071145  1.921656  0.535167\n",
       "4     3.082956  0.084705  1.895211  0.548689"
      ]
     },
     "execution_count": 87,
     "metadata": {
      "tags": []
     },
     "output_type": "execute_result"
    }
   ],
   "source": [
    "X_test.head()"
   ]
  },
  {
   "cell_type": "markdown",
   "metadata": {
    "colab_type": "text",
    "id": "VdFNDGxGUvrw"
   },
   "source": [
    "Procedamos ahora a poner nuestro dataset en una forma adecuada para el modelo, esto es [sample, timestep, features]"
   ]
  },
  {
   "cell_type": "code",
   "execution_count": 0,
   "metadata": {
    "colab": {},
    "colab_type": "code",
    "id": "Q4tI023C4Hx_"
   },
   "outputs": [],
   "source": [
    "def time_setped_data(data_set, time_step, columns):\n",
    "  data = pd.DataFrame()\n",
    "  for j in columns:\n",
    "    for i in range(time_step):\n",
    "      data['{}(t+{})'.format(j, i)] = data_set[j].shift(-i)\n",
    "\n",
    "  data.dropna(inplace=True)\n",
    "  return data"
   ]
  },
  {
   "cell_type": "code",
   "execution_count": 0,
   "metadata": {
    "colab": {},
    "colab_type": "code",
    "id": "g6xCkwXn4txS"
   },
   "outputs": [],
   "source": [
    "X_train = time_setped_data(data_set=X_train, time_step=20, columns=X_train.columns)\n",
    "X_test = time_setped_data(data_set=X_test, time_step=20, columns=X_test.columns)"
   ]
  },
  {
   "cell_type": "code",
   "execution_count": 0,
   "metadata": {
    "colab": {
     "base_uri": "https://localhost:8080/",
     "height": 215
    },
    "colab_type": "code",
    "executionInfo": {
     "elapsed": 2018,
     "status": "ok",
     "timestamp": 1582315563083,
     "user": {
      "displayName": "OMAR ANDRES CASTAÑO IDARRAGA",
      "photoUrl": "https://lh3.googleusercontent.com/a-/AAuE7mC2ySyCrN1YGwnYckefX0eAcDZYBC0mDAz68pJt=s64",
      "userId": "02036237685860066032"
     },
     "user_tz": 300
    },
    "id": "--Sw2v3x31W1",
    "outputId": "f93f8dd3-345d-4f10-f232-626d42c6fd5b"
   },
   "outputs": [
    {
     "data": {
      "text/html": [
       "<div>\n",
       "<style scoped>\n",
       "    .dataframe tbody tr th:only-of-type {\n",
       "        vertical-align: middle;\n",
       "    }\n",
       "\n",
       "    .dataframe tbody tr th {\n",
       "        vertical-align: top;\n",
       "    }\n",
       "\n",
       "    .dataframe thead th {\n",
       "        text-align: right;\n",
       "    }\n",
       "</style>\n",
       "<table border=\"1\" class=\"dataframe\">\n",
       "  <thead>\n",
       "    <tr style=\"text-align: right;\">\n",
       "      <th></th>\n",
       "      <th>Temperature(t+0)</th>\n",
       "      <th>Temperature(t+1)</th>\n",
       "      <th>Temperature(t+2)</th>\n",
       "      <th>Temperature(t+3)</th>\n",
       "      <th>Temperature(t+4)</th>\n",
       "      <th>Temperature(t+5)</th>\n",
       "      <th>Temperature(t+6)</th>\n",
       "      <th>Temperature(t+7)</th>\n",
       "      <th>Temperature(t+8)</th>\n",
       "      <th>Temperature(t+9)</th>\n",
       "      <th>Temperature(t+10)</th>\n",
       "      <th>Temperature(t+11)</th>\n",
       "      <th>Temperature(t+12)</th>\n",
       "      <th>Temperature(t+13)</th>\n",
       "      <th>Temperature(t+14)</th>\n",
       "      <th>Temperature(t+15)</th>\n",
       "      <th>Temperature(t+16)</th>\n",
       "      <th>Temperature(t+17)</th>\n",
       "      <th>Temperature(t+18)</th>\n",
       "      <th>Temperature(t+19)</th>\n",
       "      <th>Humidity(t+0)</th>\n",
       "      <th>Humidity(t+1)</th>\n",
       "      <th>Humidity(t+2)</th>\n",
       "      <th>Humidity(t+3)</th>\n",
       "      <th>Humidity(t+4)</th>\n",
       "      <th>Humidity(t+5)</th>\n",
       "      <th>Humidity(t+6)</th>\n",
       "      <th>Humidity(t+7)</th>\n",
       "      <th>Humidity(t+8)</th>\n",
       "      <th>Humidity(t+9)</th>\n",
       "      <th>Humidity(t+10)</th>\n",
       "      <th>Humidity(t+11)</th>\n",
       "      <th>Humidity(t+12)</th>\n",
       "      <th>Humidity(t+13)</th>\n",
       "      <th>Humidity(t+14)</th>\n",
       "      <th>Humidity(t+15)</th>\n",
       "      <th>Humidity(t+16)</th>\n",
       "      <th>Humidity(t+17)</th>\n",
       "      <th>Humidity(t+18)</th>\n",
       "      <th>Humidity(t+19)</th>\n",
       "      <th>Light(t+0)</th>\n",
       "      <th>Light(t+1)</th>\n",
       "      <th>Light(t+2)</th>\n",
       "      <th>Light(t+3)</th>\n",
       "      <th>Light(t+4)</th>\n",
       "      <th>Light(t+5)</th>\n",
       "      <th>Light(t+6)</th>\n",
       "      <th>Light(t+7)</th>\n",
       "      <th>Light(t+8)</th>\n",
       "      <th>Light(t+9)</th>\n",
       "      <th>Light(t+10)</th>\n",
       "      <th>Light(t+11)</th>\n",
       "      <th>Light(t+12)</th>\n",
       "      <th>Light(t+13)</th>\n",
       "      <th>Light(t+14)</th>\n",
       "      <th>Light(t+15)</th>\n",
       "      <th>Light(t+16)</th>\n",
       "      <th>Light(t+17)</th>\n",
       "      <th>Light(t+18)</th>\n",
       "      <th>Light(t+19)</th>\n",
       "      <th>CO2(t+0)</th>\n",
       "      <th>CO2(t+1)</th>\n",
       "      <th>CO2(t+2)</th>\n",
       "      <th>CO2(t+3)</th>\n",
       "      <th>CO2(t+4)</th>\n",
       "      <th>CO2(t+5)</th>\n",
       "      <th>CO2(t+6)</th>\n",
       "      <th>CO2(t+7)</th>\n",
       "      <th>CO2(t+8)</th>\n",
       "      <th>CO2(t+9)</th>\n",
       "      <th>CO2(t+10)</th>\n",
       "      <th>CO2(t+11)</th>\n",
       "      <th>CO2(t+12)</th>\n",
       "      <th>CO2(t+13)</th>\n",
       "      <th>CO2(t+14)</th>\n",
       "      <th>CO2(t+15)</th>\n",
       "      <th>CO2(t+16)</th>\n",
       "      <th>CO2(t+17)</th>\n",
       "      <th>CO2(t+18)</th>\n",
       "      <th>CO2(t+19)</th>\n",
       "    </tr>\n",
       "  </thead>\n",
       "  <tbody>\n",
       "    <tr>\n",
       "      <th>0</th>\n",
       "      <td>2.518470</td>\n",
       "      <td>2.488967</td>\n",
       "      <td>2.488967</td>\n",
       "      <td>2.488967</td>\n",
       "      <td>2.439796</td>\n",
       "      <td>2.439796</td>\n",
       "      <td>2.439796</td>\n",
       "      <td>2.439796</td>\n",
       "      <td>2.439796</td>\n",
       "      <td>2.415210</td>\n",
       "      <td>2.415210</td>\n",
       "      <td>2.439796</td>\n",
       "      <td>2.439796</td>\n",
       "      <td>2.390625</td>\n",
       "      <td>2.341454</td>\n",
       "      <td>2.341454</td>\n",
       "      <td>2.341454</td>\n",
       "      <td>2.287365</td>\n",
       "      <td>2.287365</td>\n",
       "      <td>2.233277</td>\n",
       "      <td>0.278526</td>\n",
       "      <td>0.277713</td>\n",
       "      <td>0.273645</td>\n",
       "      <td>0.265508</td>\n",
       "      <td>0.265508</td>\n",
       "      <td>0.265508</td>\n",
       "      <td>0.265508</td>\n",
       "      <td>0.265508</td>\n",
       "      <td>0.265508</td>\n",
       "      <td>0.260988</td>\n",
       "      <td>0.256468</td>\n",
       "      <td>0.247428</td>\n",
       "      <td>0.259482</td>\n",
       "      <td>0.256468</td>\n",
       "      <td>0.251948</td>\n",
       "      <td>0.251948</td>\n",
       "      <td>0.265508</td>\n",
       "      <td>0.281781</td>\n",
       "      <td>0.299861</td>\n",
       "      <td>0.299861</td>\n",
       "      <td>1.573763</td>\n",
       "      <td>1.591735</td>\n",
       "      <td>1.573763</td>\n",
       "      <td>1.573763</td>\n",
       "      <td>1.573763</td>\n",
       "      <td>1.537818</td>\n",
       "      <td>1.537818</td>\n",
       "      <td>1.537818</td>\n",
       "      <td>1.537818</td>\n",
       "      <td>1.537818</td>\n",
       "      <td>1.537818</td>\n",
       "      <td>1.537818</td>\n",
       "      <td>1.537818</td>\n",
       "      <td>1.537818</td>\n",
       "      <td>1.537818</td>\n",
       "      <td>1.535251</td>\n",
       "      <td>-0.613726</td>\n",
       "      <td>-0.613726</td>\n",
       "      <td>-0.613726</td>\n",
       "      <td>-0.613726</td>\n",
       "      <td>0.364948</td>\n",
       "      <td>0.341881</td>\n",
       "      <td>0.340290</td>\n",
       "      <td>0.323587</td>\n",
       "      <td>0.311655</td>\n",
       "      <td>0.300520</td>\n",
       "      <td>0.302641</td>\n",
       "      <td>0.294156</td>\n",
       "      <td>0.263400</td>\n",
       "      <td>0.259158</td>\n",
       "      <td>0.266317</td>\n",
       "      <td>0.268703</td>\n",
       "      <td>0.244841</td>\n",
       "      <td>0.257567</td>\n",
       "      <td>0.252795</td>\n",
       "      <td>0.235296</td>\n",
       "      <td>0.238477</td>\n",
       "      <td>0.249613</td>\n",
       "      <td>0.249613</td>\n",
       "      <td>0.262340</td>\n",
       "    </tr>\n",
       "    <tr>\n",
       "      <th>1</th>\n",
       "      <td>2.488967</td>\n",
       "      <td>2.488967</td>\n",
       "      <td>2.488967</td>\n",
       "      <td>2.439796</td>\n",
       "      <td>2.439796</td>\n",
       "      <td>2.439796</td>\n",
       "      <td>2.439796</td>\n",
       "      <td>2.439796</td>\n",
       "      <td>2.415210</td>\n",
       "      <td>2.415210</td>\n",
       "      <td>2.439796</td>\n",
       "      <td>2.439796</td>\n",
       "      <td>2.390625</td>\n",
       "      <td>2.341454</td>\n",
       "      <td>2.341454</td>\n",
       "      <td>2.341454</td>\n",
       "      <td>2.287365</td>\n",
       "      <td>2.287365</td>\n",
       "      <td>2.233277</td>\n",
       "      <td>2.233277</td>\n",
       "      <td>0.277713</td>\n",
       "      <td>0.273645</td>\n",
       "      <td>0.265508</td>\n",
       "      <td>0.265508</td>\n",
       "      <td>0.265508</td>\n",
       "      <td>0.265508</td>\n",
       "      <td>0.265508</td>\n",
       "      <td>0.265508</td>\n",
       "      <td>0.260988</td>\n",
       "      <td>0.256468</td>\n",
       "      <td>0.247428</td>\n",
       "      <td>0.259482</td>\n",
       "      <td>0.256468</td>\n",
       "      <td>0.251948</td>\n",
       "      <td>0.251948</td>\n",
       "      <td>0.265508</td>\n",
       "      <td>0.281781</td>\n",
       "      <td>0.299861</td>\n",
       "      <td>0.299861</td>\n",
       "      <td>0.299861</td>\n",
       "      <td>1.591735</td>\n",
       "      <td>1.573763</td>\n",
       "      <td>1.573763</td>\n",
       "      <td>1.573763</td>\n",
       "      <td>1.537818</td>\n",
       "      <td>1.537818</td>\n",
       "      <td>1.537818</td>\n",
       "      <td>1.537818</td>\n",
       "      <td>1.537818</td>\n",
       "      <td>1.537818</td>\n",
       "      <td>1.537818</td>\n",
       "      <td>1.537818</td>\n",
       "      <td>1.537818</td>\n",
       "      <td>1.537818</td>\n",
       "      <td>1.535251</td>\n",
       "      <td>-0.613726</td>\n",
       "      <td>-0.613726</td>\n",
       "      <td>-0.613726</td>\n",
       "      <td>-0.613726</td>\n",
       "      <td>-0.613726</td>\n",
       "      <td>0.341881</td>\n",
       "      <td>0.340290</td>\n",
       "      <td>0.323587</td>\n",
       "      <td>0.311655</td>\n",
       "      <td>0.300520</td>\n",
       "      <td>0.302641</td>\n",
       "      <td>0.294156</td>\n",
       "      <td>0.263400</td>\n",
       "      <td>0.259158</td>\n",
       "      <td>0.266317</td>\n",
       "      <td>0.268703</td>\n",
       "      <td>0.244841</td>\n",
       "      <td>0.257567</td>\n",
       "      <td>0.252795</td>\n",
       "      <td>0.235296</td>\n",
       "      <td>0.238477</td>\n",
       "      <td>0.249613</td>\n",
       "      <td>0.249613</td>\n",
       "      <td>0.262340</td>\n",
       "      <td>0.263930</td>\n",
       "    </tr>\n",
       "    <tr>\n",
       "      <th>2</th>\n",
       "      <td>2.488967</td>\n",
       "      <td>2.488967</td>\n",
       "      <td>2.439796</td>\n",
       "      <td>2.439796</td>\n",
       "      <td>2.439796</td>\n",
       "      <td>2.439796</td>\n",
       "      <td>2.439796</td>\n",
       "      <td>2.415210</td>\n",
       "      <td>2.415210</td>\n",
       "      <td>2.439796</td>\n",
       "      <td>2.439796</td>\n",
       "      <td>2.390625</td>\n",
       "      <td>2.341454</td>\n",
       "      <td>2.341454</td>\n",
       "      <td>2.341454</td>\n",
       "      <td>2.287365</td>\n",
       "      <td>2.287365</td>\n",
       "      <td>2.233277</td>\n",
       "      <td>2.233277</td>\n",
       "      <td>2.233277</td>\n",
       "      <td>0.273645</td>\n",
       "      <td>0.265508</td>\n",
       "      <td>0.265508</td>\n",
       "      <td>0.265508</td>\n",
       "      <td>0.265508</td>\n",
       "      <td>0.265508</td>\n",
       "      <td>0.265508</td>\n",
       "      <td>0.260988</td>\n",
       "      <td>0.256468</td>\n",
       "      <td>0.247428</td>\n",
       "      <td>0.259482</td>\n",
       "      <td>0.256468</td>\n",
       "      <td>0.251948</td>\n",
       "      <td>0.251948</td>\n",
       "      <td>0.265508</td>\n",
       "      <td>0.281781</td>\n",
       "      <td>0.299861</td>\n",
       "      <td>0.299861</td>\n",
       "      <td>0.299861</td>\n",
       "      <td>0.299861</td>\n",
       "      <td>1.573763</td>\n",
       "      <td>1.573763</td>\n",
       "      <td>1.573763</td>\n",
       "      <td>1.537818</td>\n",
       "      <td>1.537818</td>\n",
       "      <td>1.537818</td>\n",
       "      <td>1.537818</td>\n",
       "      <td>1.537818</td>\n",
       "      <td>1.537818</td>\n",
       "      <td>1.537818</td>\n",
       "      <td>1.537818</td>\n",
       "      <td>1.537818</td>\n",
       "      <td>1.537818</td>\n",
       "      <td>1.535251</td>\n",
       "      <td>-0.613726</td>\n",
       "      <td>-0.613726</td>\n",
       "      <td>-0.613726</td>\n",
       "      <td>-0.613726</td>\n",
       "      <td>-0.613726</td>\n",
       "      <td>-0.613726</td>\n",
       "      <td>0.340290</td>\n",
       "      <td>0.323587</td>\n",
       "      <td>0.311655</td>\n",
       "      <td>0.300520</td>\n",
       "      <td>0.302641</td>\n",
       "      <td>0.294156</td>\n",
       "      <td>0.263400</td>\n",
       "      <td>0.259158</td>\n",
       "      <td>0.266317</td>\n",
       "      <td>0.268703</td>\n",
       "      <td>0.244841</td>\n",
       "      <td>0.257567</td>\n",
       "      <td>0.252795</td>\n",
       "      <td>0.235296</td>\n",
       "      <td>0.238477</td>\n",
       "      <td>0.249613</td>\n",
       "      <td>0.249613</td>\n",
       "      <td>0.262340</td>\n",
       "      <td>0.263930</td>\n",
       "      <td>0.262340</td>\n",
       "    </tr>\n",
       "    <tr>\n",
       "      <th>3</th>\n",
       "      <td>2.488967</td>\n",
       "      <td>2.439796</td>\n",
       "      <td>2.439796</td>\n",
       "      <td>2.439796</td>\n",
       "      <td>2.439796</td>\n",
       "      <td>2.439796</td>\n",
       "      <td>2.415210</td>\n",
       "      <td>2.415210</td>\n",
       "      <td>2.439796</td>\n",
       "      <td>2.439796</td>\n",
       "      <td>2.390625</td>\n",
       "      <td>2.341454</td>\n",
       "      <td>2.341454</td>\n",
       "      <td>2.341454</td>\n",
       "      <td>2.287365</td>\n",
       "      <td>2.287365</td>\n",
       "      <td>2.233277</td>\n",
       "      <td>2.233277</td>\n",
       "      <td>2.233277</td>\n",
       "      <td>2.233277</td>\n",
       "      <td>0.265508</td>\n",
       "      <td>0.265508</td>\n",
       "      <td>0.265508</td>\n",
       "      <td>0.265508</td>\n",
       "      <td>0.265508</td>\n",
       "      <td>0.265508</td>\n",
       "      <td>0.260988</td>\n",
       "      <td>0.256468</td>\n",
       "      <td>0.247428</td>\n",
       "      <td>0.259482</td>\n",
       "      <td>0.256468</td>\n",
       "      <td>0.251948</td>\n",
       "      <td>0.251948</td>\n",
       "      <td>0.265508</td>\n",
       "      <td>0.281781</td>\n",
       "      <td>0.299861</td>\n",
       "      <td>0.299861</td>\n",
       "      <td>0.299861</td>\n",
       "      <td>0.299861</td>\n",
       "      <td>0.309805</td>\n",
       "      <td>1.573763</td>\n",
       "      <td>1.573763</td>\n",
       "      <td>1.537818</td>\n",
       "      <td>1.537818</td>\n",
       "      <td>1.537818</td>\n",
       "      <td>1.537818</td>\n",
       "      <td>1.537818</td>\n",
       "      <td>1.537818</td>\n",
       "      <td>1.537818</td>\n",
       "      <td>1.537818</td>\n",
       "      <td>1.537818</td>\n",
       "      <td>1.537818</td>\n",
       "      <td>1.535251</td>\n",
       "      <td>-0.613726</td>\n",
       "      <td>-0.613726</td>\n",
       "      <td>-0.613726</td>\n",
       "      <td>-0.613726</td>\n",
       "      <td>-0.613726</td>\n",
       "      <td>-0.613726</td>\n",
       "      <td>-0.613726</td>\n",
       "      <td>0.323587</td>\n",
       "      <td>0.311655</td>\n",
       "      <td>0.300520</td>\n",
       "      <td>0.302641</td>\n",
       "      <td>0.294156</td>\n",
       "      <td>0.263400</td>\n",
       "      <td>0.259158</td>\n",
       "      <td>0.266317</td>\n",
       "      <td>0.268703</td>\n",
       "      <td>0.244841</td>\n",
       "      <td>0.257567</td>\n",
       "      <td>0.252795</td>\n",
       "      <td>0.235296</td>\n",
       "      <td>0.238477</td>\n",
       "      <td>0.249613</td>\n",
       "      <td>0.249613</td>\n",
       "      <td>0.262340</td>\n",
       "      <td>0.263930</td>\n",
       "      <td>0.262340</td>\n",
       "      <td>0.268703</td>\n",
       "    </tr>\n",
       "    <tr>\n",
       "      <th>4</th>\n",
       "      <td>2.439796</td>\n",
       "      <td>2.439796</td>\n",
       "      <td>2.439796</td>\n",
       "      <td>2.439796</td>\n",
       "      <td>2.439796</td>\n",
       "      <td>2.415210</td>\n",
       "      <td>2.415210</td>\n",
       "      <td>2.439796</td>\n",
       "      <td>2.439796</td>\n",
       "      <td>2.390625</td>\n",
       "      <td>2.341454</td>\n",
       "      <td>2.341454</td>\n",
       "      <td>2.341454</td>\n",
       "      <td>2.287365</td>\n",
       "      <td>2.287365</td>\n",
       "      <td>2.233277</td>\n",
       "      <td>2.233277</td>\n",
       "      <td>2.233277</td>\n",
       "      <td>2.233277</td>\n",
       "      <td>2.233277</td>\n",
       "      <td>0.265508</td>\n",
       "      <td>0.265508</td>\n",
       "      <td>0.265508</td>\n",
       "      <td>0.265508</td>\n",
       "      <td>0.265508</td>\n",
       "      <td>0.260988</td>\n",
       "      <td>0.256468</td>\n",
       "      <td>0.247428</td>\n",
       "      <td>0.259482</td>\n",
       "      <td>0.256468</td>\n",
       "      <td>0.251948</td>\n",
       "      <td>0.251948</td>\n",
       "      <td>0.265508</td>\n",
       "      <td>0.281781</td>\n",
       "      <td>0.299861</td>\n",
       "      <td>0.299861</td>\n",
       "      <td>0.299861</td>\n",
       "      <td>0.299861</td>\n",
       "      <td>0.309805</td>\n",
       "      <td>0.319749</td>\n",
       "      <td>1.573763</td>\n",
       "      <td>1.537818</td>\n",
       "      <td>1.537818</td>\n",
       "      <td>1.537818</td>\n",
       "      <td>1.537818</td>\n",
       "      <td>1.537818</td>\n",
       "      <td>1.537818</td>\n",
       "      <td>1.537818</td>\n",
       "      <td>1.537818</td>\n",
       "      <td>1.537818</td>\n",
       "      <td>1.537818</td>\n",
       "      <td>1.535251</td>\n",
       "      <td>-0.613726</td>\n",
       "      <td>-0.613726</td>\n",
       "      <td>-0.613726</td>\n",
       "      <td>-0.613726</td>\n",
       "      <td>-0.613726</td>\n",
       "      <td>-0.613726</td>\n",
       "      <td>-0.613726</td>\n",
       "      <td>-0.613726</td>\n",
       "      <td>0.311655</td>\n",
       "      <td>0.300520</td>\n",
       "      <td>0.302641</td>\n",
       "      <td>0.294156</td>\n",
       "      <td>0.263400</td>\n",
       "      <td>0.259158</td>\n",
       "      <td>0.266317</td>\n",
       "      <td>0.268703</td>\n",
       "      <td>0.244841</td>\n",
       "      <td>0.257567</td>\n",
       "      <td>0.252795</td>\n",
       "      <td>0.235296</td>\n",
       "      <td>0.238477</td>\n",
       "      <td>0.249613</td>\n",
       "      <td>0.249613</td>\n",
       "      <td>0.262340</td>\n",
       "      <td>0.263930</td>\n",
       "      <td>0.262340</td>\n",
       "      <td>0.268703</td>\n",
       "      <td>0.259158</td>\n",
       "    </tr>\n",
       "  </tbody>\n",
       "</table>\n",
       "</div>"
      ],
      "text/plain": [
       "   Temperature(t+0)  Temperature(t+1)  ...  CO2(t+18)  CO2(t+19)\n",
       "0          2.518470          2.488967  ...   0.249613   0.262340\n",
       "1          2.488967          2.488967  ...   0.262340   0.263930\n",
       "2          2.488967          2.488967  ...   0.263930   0.262340\n",
       "3          2.488967          2.439796  ...   0.262340   0.268703\n",
       "4          2.439796          2.439796  ...   0.268703   0.259158\n",
       "\n",
       "[5 rows x 80 columns]"
      ]
     },
     "execution_count": 90,
     "metadata": {
      "tags": []
     },
     "output_type": "execute_result"
    }
   ],
   "source": [
    "X_train.head()"
   ]
  },
  {
   "cell_type": "code",
   "execution_count": 0,
   "metadata": {
    "colab": {
     "base_uri": "https://localhost:8080/",
     "height": 215
    },
    "colab_type": "code",
    "executionInfo": {
     "elapsed": 2003,
     "status": "ok",
     "timestamp": 1582315563084,
     "user": {
      "displayName": "OMAR ANDRES CASTAÑO IDARRAGA",
      "photoUrl": "https://lh3.googleusercontent.com/a-/AAuE7mC2ySyCrN1YGwnYckefX0eAcDZYBC0mDAz68pJt=s64",
      "userId": "02036237685860066032"
     },
     "user_tz": 300
    },
    "id": "KY1URZFw89Gt",
    "outputId": "c4f3ea25-f5ae-4ffa-d664-1cb5e64b5c3d"
   },
   "outputs": [
    {
     "data": {
      "text/html": [
       "<div>\n",
       "<style scoped>\n",
       "    .dataframe tbody tr th:only-of-type {\n",
       "        vertical-align: middle;\n",
       "    }\n",
       "\n",
       "    .dataframe tbody tr th {\n",
       "        vertical-align: top;\n",
       "    }\n",
       "\n",
       "    .dataframe thead th {\n",
       "        text-align: right;\n",
       "    }\n",
       "</style>\n",
       "<table border=\"1\" class=\"dataframe\">\n",
       "  <thead>\n",
       "    <tr style=\"text-align: right;\">\n",
       "      <th></th>\n",
       "      <th>Temperature(t+0)</th>\n",
       "      <th>Temperature(t+1)</th>\n",
       "      <th>Temperature(t+2)</th>\n",
       "      <th>Temperature(t+3)</th>\n",
       "      <th>Temperature(t+4)</th>\n",
       "      <th>Temperature(t+5)</th>\n",
       "      <th>Temperature(t+6)</th>\n",
       "      <th>Temperature(t+7)</th>\n",
       "      <th>Temperature(t+8)</th>\n",
       "      <th>Temperature(t+9)</th>\n",
       "      <th>Temperature(t+10)</th>\n",
       "      <th>Temperature(t+11)</th>\n",
       "      <th>Temperature(t+12)</th>\n",
       "      <th>Temperature(t+13)</th>\n",
       "      <th>Temperature(t+14)</th>\n",
       "      <th>Temperature(t+15)</th>\n",
       "      <th>Temperature(t+16)</th>\n",
       "      <th>Temperature(t+17)</th>\n",
       "      <th>Temperature(t+18)</th>\n",
       "      <th>Temperature(t+19)</th>\n",
       "      <th>Humidity(t+0)</th>\n",
       "      <th>Humidity(t+1)</th>\n",
       "      <th>Humidity(t+2)</th>\n",
       "      <th>Humidity(t+3)</th>\n",
       "      <th>Humidity(t+4)</th>\n",
       "      <th>Humidity(t+5)</th>\n",
       "      <th>Humidity(t+6)</th>\n",
       "      <th>Humidity(t+7)</th>\n",
       "      <th>Humidity(t+8)</th>\n",
       "      <th>Humidity(t+9)</th>\n",
       "      <th>Humidity(t+10)</th>\n",
       "      <th>Humidity(t+11)</th>\n",
       "      <th>Humidity(t+12)</th>\n",
       "      <th>Humidity(t+13)</th>\n",
       "      <th>Humidity(t+14)</th>\n",
       "      <th>Humidity(t+15)</th>\n",
       "      <th>Humidity(t+16)</th>\n",
       "      <th>Humidity(t+17)</th>\n",
       "      <th>Humidity(t+18)</th>\n",
       "      <th>Humidity(t+19)</th>\n",
       "      <th>Light(t+0)</th>\n",
       "      <th>Light(t+1)</th>\n",
       "      <th>Light(t+2)</th>\n",
       "      <th>Light(t+3)</th>\n",
       "      <th>Light(t+4)</th>\n",
       "      <th>Light(t+5)</th>\n",
       "      <th>Light(t+6)</th>\n",
       "      <th>Light(t+7)</th>\n",
       "      <th>Light(t+8)</th>\n",
       "      <th>Light(t+9)</th>\n",
       "      <th>Light(t+10)</th>\n",
       "      <th>Light(t+11)</th>\n",
       "      <th>Light(t+12)</th>\n",
       "      <th>Light(t+13)</th>\n",
       "      <th>Light(t+14)</th>\n",
       "      <th>Light(t+15)</th>\n",
       "      <th>Light(t+16)</th>\n",
       "      <th>Light(t+17)</th>\n",
       "      <th>Light(t+18)</th>\n",
       "      <th>Light(t+19)</th>\n",
       "      <th>CO2(t+0)</th>\n",
       "      <th>CO2(t+1)</th>\n",
       "      <th>CO2(t+2)</th>\n",
       "      <th>CO2(t+3)</th>\n",
       "      <th>CO2(t+4)</th>\n",
       "      <th>CO2(t+5)</th>\n",
       "      <th>CO2(t+6)</th>\n",
       "      <th>CO2(t+7)</th>\n",
       "      <th>CO2(t+8)</th>\n",
       "      <th>CO2(t+9)</th>\n",
       "      <th>CO2(t+10)</th>\n",
       "      <th>CO2(t+11)</th>\n",
       "      <th>CO2(t+12)</th>\n",
       "      <th>CO2(t+13)</th>\n",
       "      <th>CO2(t+14)</th>\n",
       "      <th>CO2(t+15)</th>\n",
       "      <th>CO2(t+16)</th>\n",
       "      <th>CO2(t+17)</th>\n",
       "      <th>CO2(t+18)</th>\n",
       "      <th>CO2(t+19)</th>\n",
       "    </tr>\n",
       "  </thead>\n",
       "  <tbody>\n",
       "    <tr>\n",
       "      <th>0</th>\n",
       "      <td>3.029851</td>\n",
       "      <td>3.047553</td>\n",
       "      <td>3.059354</td>\n",
       "      <td>3.051978</td>\n",
       "      <td>3.082956</td>\n",
       "      <td>3.088857</td>\n",
       "      <td>3.059354</td>\n",
       "      <td>3.082956</td>\n",
       "      <td>3.082956</td>\n",
       "      <td>3.065255</td>\n",
       "      <td>3.074105</td>\n",
       "      <td>3.029851</td>\n",
       "      <td>3.029851</td>\n",
       "      <td>3.029851</td>\n",
       "      <td>3.029851</td>\n",
       "      <td>3.029851</td>\n",
       "      <td>3.029851</td>\n",
       "      <td>2.931509</td>\n",
       "      <td>2.970846</td>\n",
       "      <td>2.980680</td>\n",
       "      <td>0.097723</td>\n",
       "      <td>0.100977</td>\n",
       "      <td>0.090129</td>\n",
       "      <td>0.071145</td>\n",
       "      <td>0.084705</td>\n",
       "      <td>0.095553</td>\n",
       "      <td>0.100977</td>\n",
       "      <td>0.100977</td>\n",
       "      <td>0.111826</td>\n",
       "      <td>0.119058</td>\n",
       "      <td>0.129002</td>\n",
       "      <td>0.149794</td>\n",
       "      <td>0.157026</td>\n",
       "      <td>0.175107</td>\n",
       "      <td>0.188486</td>\n",
       "      <td>0.209459</td>\n",
       "      <td>0.224376</td>\n",
       "      <td>0.209459</td>\n",
       "      <td>0.225008</td>\n",
       "      <td>0.238388</td>\n",
       "      <td>2.391247</td>\n",
       "      <td>2.356329</td>\n",
       "      <td>2.326889</td>\n",
       "      <td>1.921656</td>\n",
       "      <td>1.895211</td>\n",
       "      <td>2.306349</td>\n",
       "      <td>2.140319</td>\n",
       "      <td>1.999964</td>\n",
       "      <td>1.830510</td>\n",
       "      <td>2.005099</td>\n",
       "      <td>1.858753</td>\n",
       "      <td>1.860293</td>\n",
       "      <td>1.826659</td>\n",
       "      <td>1.794566</td>\n",
       "      <td>1.768891</td>\n",
       "      <td>1.768891</td>\n",
       "      <td>1.722676</td>\n",
       "      <td>1.717541</td>\n",
       "      <td>1.738081</td>\n",
       "      <td>1.768891</td>\n",
       "      <td>0.453875</td>\n",
       "      <td>0.489510</td>\n",
       "      <td>0.518993</td>\n",
       "      <td>0.535167</td>\n",
       "      <td>0.548689</td>\n",
       "      <td>0.583687</td>\n",
       "      <td>0.609140</td>\n",
       "      <td>0.605959</td>\n",
       "      <td>0.625685</td>\n",
       "      <td>0.644139</td>\n",
       "      <td>0.664024</td>\n",
       "      <td>0.691863</td>\n",
       "      <td>0.717317</td>\n",
       "      <td>0.759739</td>\n",
       "      <td>0.782222</td>\n",
       "      <td>0.809585</td>\n",
       "      <td>0.870036</td>\n",
       "      <td>0.905034</td>\n",
       "      <td>0.926033</td>\n",
       "      <td>0.935260</td>\n",
       "    </tr>\n",
       "    <tr>\n",
       "      <th>1</th>\n",
       "      <td>3.047553</td>\n",
       "      <td>3.059354</td>\n",
       "      <td>3.051978</td>\n",
       "      <td>3.082956</td>\n",
       "      <td>3.088857</td>\n",
       "      <td>3.059354</td>\n",
       "      <td>3.082956</td>\n",
       "      <td>3.082956</td>\n",
       "      <td>3.065255</td>\n",
       "      <td>3.074105</td>\n",
       "      <td>3.029851</td>\n",
       "      <td>3.029851</td>\n",
       "      <td>3.029851</td>\n",
       "      <td>3.029851</td>\n",
       "      <td>3.029851</td>\n",
       "      <td>3.029851</td>\n",
       "      <td>2.931509</td>\n",
       "      <td>2.970846</td>\n",
       "      <td>2.980680</td>\n",
       "      <td>2.970846</td>\n",
       "      <td>0.100977</td>\n",
       "      <td>0.090129</td>\n",
       "      <td>0.071145</td>\n",
       "      <td>0.084705</td>\n",
       "      <td>0.095553</td>\n",
       "      <td>0.100977</td>\n",
       "      <td>0.100977</td>\n",
       "      <td>0.111826</td>\n",
       "      <td>0.119058</td>\n",
       "      <td>0.129002</td>\n",
       "      <td>0.149794</td>\n",
       "      <td>0.157026</td>\n",
       "      <td>0.175107</td>\n",
       "      <td>0.188486</td>\n",
       "      <td>0.209459</td>\n",
       "      <td>0.224376</td>\n",
       "      <td>0.209459</td>\n",
       "      <td>0.225008</td>\n",
       "      <td>0.238388</td>\n",
       "      <td>0.247428</td>\n",
       "      <td>2.356329</td>\n",
       "      <td>2.326889</td>\n",
       "      <td>1.921656</td>\n",
       "      <td>1.895211</td>\n",
       "      <td>2.306349</td>\n",
       "      <td>2.140319</td>\n",
       "      <td>1.999964</td>\n",
       "      <td>1.830510</td>\n",
       "      <td>2.005099</td>\n",
       "      <td>1.858753</td>\n",
       "      <td>1.860293</td>\n",
       "      <td>1.826659</td>\n",
       "      <td>1.794566</td>\n",
       "      <td>1.768891</td>\n",
       "      <td>1.768891</td>\n",
       "      <td>1.722676</td>\n",
       "      <td>1.717541</td>\n",
       "      <td>1.738081</td>\n",
       "      <td>1.768891</td>\n",
       "      <td>1.815105</td>\n",
       "      <td>0.489510</td>\n",
       "      <td>0.518993</td>\n",
       "      <td>0.535167</td>\n",
       "      <td>0.548689</td>\n",
       "      <td>0.583687</td>\n",
       "      <td>0.609140</td>\n",
       "      <td>0.605959</td>\n",
       "      <td>0.625685</td>\n",
       "      <td>0.644139</td>\n",
       "      <td>0.664024</td>\n",
       "      <td>0.691863</td>\n",
       "      <td>0.717317</td>\n",
       "      <td>0.759739</td>\n",
       "      <td>0.782222</td>\n",
       "      <td>0.809585</td>\n",
       "      <td>0.870036</td>\n",
       "      <td>0.905034</td>\n",
       "      <td>0.926033</td>\n",
       "      <td>0.935260</td>\n",
       "      <td>0.961668</td>\n",
       "    </tr>\n",
       "    <tr>\n",
       "      <th>2</th>\n",
       "      <td>3.059354</td>\n",
       "      <td>3.051978</td>\n",
       "      <td>3.082956</td>\n",
       "      <td>3.088857</td>\n",
       "      <td>3.059354</td>\n",
       "      <td>3.082956</td>\n",
       "      <td>3.082956</td>\n",
       "      <td>3.065255</td>\n",
       "      <td>3.074105</td>\n",
       "      <td>3.029851</td>\n",
       "      <td>3.029851</td>\n",
       "      <td>3.029851</td>\n",
       "      <td>3.029851</td>\n",
       "      <td>3.029851</td>\n",
       "      <td>3.029851</td>\n",
       "      <td>2.931509</td>\n",
       "      <td>2.970846</td>\n",
       "      <td>2.980680</td>\n",
       "      <td>2.970846</td>\n",
       "      <td>2.931509</td>\n",
       "      <td>0.090129</td>\n",
       "      <td>0.071145</td>\n",
       "      <td>0.084705</td>\n",
       "      <td>0.095553</td>\n",
       "      <td>0.100977</td>\n",
       "      <td>0.100977</td>\n",
       "      <td>0.111826</td>\n",
       "      <td>0.119058</td>\n",
       "      <td>0.129002</td>\n",
       "      <td>0.149794</td>\n",
       "      <td>0.157026</td>\n",
       "      <td>0.175107</td>\n",
       "      <td>0.188486</td>\n",
       "      <td>0.209459</td>\n",
       "      <td>0.224376</td>\n",
       "      <td>0.209459</td>\n",
       "      <td>0.225008</td>\n",
       "      <td>0.238388</td>\n",
       "      <td>0.247428</td>\n",
       "      <td>0.258276</td>\n",
       "      <td>2.326889</td>\n",
       "      <td>1.921656</td>\n",
       "      <td>1.895211</td>\n",
       "      <td>2.306349</td>\n",
       "      <td>2.140319</td>\n",
       "      <td>1.999964</td>\n",
       "      <td>1.830510</td>\n",
       "      <td>2.005099</td>\n",
       "      <td>1.858753</td>\n",
       "      <td>1.860293</td>\n",
       "      <td>1.826659</td>\n",
       "      <td>1.794566</td>\n",
       "      <td>1.768891</td>\n",
       "      <td>1.768891</td>\n",
       "      <td>1.722676</td>\n",
       "      <td>1.717541</td>\n",
       "      <td>1.738081</td>\n",
       "      <td>1.768891</td>\n",
       "      <td>1.815105</td>\n",
       "      <td>1.768891</td>\n",
       "      <td>0.518993</td>\n",
       "      <td>0.535167</td>\n",
       "      <td>0.548689</td>\n",
       "      <td>0.583687</td>\n",
       "      <td>0.609140</td>\n",
       "      <td>0.605959</td>\n",
       "      <td>0.625685</td>\n",
       "      <td>0.644139</td>\n",
       "      <td>0.664024</td>\n",
       "      <td>0.691863</td>\n",
       "      <td>0.717317</td>\n",
       "      <td>0.759739</td>\n",
       "      <td>0.782222</td>\n",
       "      <td>0.809585</td>\n",
       "      <td>0.870036</td>\n",
       "      <td>0.905034</td>\n",
       "      <td>0.926033</td>\n",
       "      <td>0.935260</td>\n",
       "      <td>0.961668</td>\n",
       "      <td>0.990939</td>\n",
       "    </tr>\n",
       "    <tr>\n",
       "      <th>3</th>\n",
       "      <td>3.051978</td>\n",
       "      <td>3.082956</td>\n",
       "      <td>3.088857</td>\n",
       "      <td>3.059354</td>\n",
       "      <td>3.082956</td>\n",
       "      <td>3.082956</td>\n",
       "      <td>3.065255</td>\n",
       "      <td>3.074105</td>\n",
       "      <td>3.029851</td>\n",
       "      <td>3.029851</td>\n",
       "      <td>3.029851</td>\n",
       "      <td>3.029851</td>\n",
       "      <td>3.029851</td>\n",
       "      <td>3.029851</td>\n",
       "      <td>2.931509</td>\n",
       "      <td>2.970846</td>\n",
       "      <td>2.980680</td>\n",
       "      <td>2.970846</td>\n",
       "      <td>2.931509</td>\n",
       "      <td>2.931509</td>\n",
       "      <td>0.071145</td>\n",
       "      <td>0.084705</td>\n",
       "      <td>0.095553</td>\n",
       "      <td>0.100977</td>\n",
       "      <td>0.100977</td>\n",
       "      <td>0.111826</td>\n",
       "      <td>0.119058</td>\n",
       "      <td>0.129002</td>\n",
       "      <td>0.149794</td>\n",
       "      <td>0.157026</td>\n",
       "      <td>0.175107</td>\n",
       "      <td>0.188486</td>\n",
       "      <td>0.209459</td>\n",
       "      <td>0.224376</td>\n",
       "      <td>0.209459</td>\n",
       "      <td>0.225008</td>\n",
       "      <td>0.238388</td>\n",
       "      <td>0.247428</td>\n",
       "      <td>0.258276</td>\n",
       "      <td>0.272017</td>\n",
       "      <td>1.921656</td>\n",
       "      <td>1.895211</td>\n",
       "      <td>2.306349</td>\n",
       "      <td>2.140319</td>\n",
       "      <td>1.999964</td>\n",
       "      <td>1.830510</td>\n",
       "      <td>2.005099</td>\n",
       "      <td>1.858753</td>\n",
       "      <td>1.860293</td>\n",
       "      <td>1.826659</td>\n",
       "      <td>1.794566</td>\n",
       "      <td>1.768891</td>\n",
       "      <td>1.768891</td>\n",
       "      <td>1.722676</td>\n",
       "      <td>1.717541</td>\n",
       "      <td>1.738081</td>\n",
       "      <td>1.768891</td>\n",
       "      <td>1.815105</td>\n",
       "      <td>1.768891</td>\n",
       "      <td>1.945533</td>\n",
       "      <td>0.535167</td>\n",
       "      <td>0.548689</td>\n",
       "      <td>0.583687</td>\n",
       "      <td>0.609140</td>\n",
       "      <td>0.605959</td>\n",
       "      <td>0.625685</td>\n",
       "      <td>0.644139</td>\n",
       "      <td>0.664024</td>\n",
       "      <td>0.691863</td>\n",
       "      <td>0.717317</td>\n",
       "      <td>0.759739</td>\n",
       "      <td>0.782222</td>\n",
       "      <td>0.809585</td>\n",
       "      <td>0.870036</td>\n",
       "      <td>0.905034</td>\n",
       "      <td>0.926033</td>\n",
       "      <td>0.935260</td>\n",
       "      <td>0.961668</td>\n",
       "      <td>0.990939</td>\n",
       "      <td>1.013847</td>\n",
       "    </tr>\n",
       "    <tr>\n",
       "      <th>4</th>\n",
       "      <td>3.082956</td>\n",
       "      <td>3.088857</td>\n",
       "      <td>3.059354</td>\n",
       "      <td>3.082956</td>\n",
       "      <td>3.082956</td>\n",
       "      <td>3.065255</td>\n",
       "      <td>3.074105</td>\n",
       "      <td>3.029851</td>\n",
       "      <td>3.029851</td>\n",
       "      <td>3.029851</td>\n",
       "      <td>3.029851</td>\n",
       "      <td>3.029851</td>\n",
       "      <td>3.029851</td>\n",
       "      <td>2.931509</td>\n",
       "      <td>2.970846</td>\n",
       "      <td>2.980680</td>\n",
       "      <td>2.970846</td>\n",
       "      <td>2.931509</td>\n",
       "      <td>2.931509</td>\n",
       "      <td>2.931509</td>\n",
       "      <td>0.084705</td>\n",
       "      <td>0.095553</td>\n",
       "      <td>0.100977</td>\n",
       "      <td>0.100977</td>\n",
       "      <td>0.111826</td>\n",
       "      <td>0.119058</td>\n",
       "      <td>0.129002</td>\n",
       "      <td>0.149794</td>\n",
       "      <td>0.157026</td>\n",
       "      <td>0.175107</td>\n",
       "      <td>0.188486</td>\n",
       "      <td>0.209459</td>\n",
       "      <td>0.224376</td>\n",
       "      <td>0.209459</td>\n",
       "      <td>0.225008</td>\n",
       "      <td>0.238388</td>\n",
       "      <td>0.247428</td>\n",
       "      <td>0.258276</td>\n",
       "      <td>0.272017</td>\n",
       "      <td>0.281781</td>\n",
       "      <td>1.895211</td>\n",
       "      <td>2.306349</td>\n",
       "      <td>2.140319</td>\n",
       "      <td>1.999964</td>\n",
       "      <td>1.830510</td>\n",
       "      <td>2.005099</td>\n",
       "      <td>1.858753</td>\n",
       "      <td>1.860293</td>\n",
       "      <td>1.826659</td>\n",
       "      <td>1.794566</td>\n",
       "      <td>1.768891</td>\n",
       "      <td>1.768891</td>\n",
       "      <td>1.722676</td>\n",
       "      <td>1.717541</td>\n",
       "      <td>1.738081</td>\n",
       "      <td>1.768891</td>\n",
       "      <td>1.815105</td>\n",
       "      <td>1.768891</td>\n",
       "      <td>1.945533</td>\n",
       "      <td>2.108825</td>\n",
       "      <td>0.548689</td>\n",
       "      <td>0.583687</td>\n",
       "      <td>0.609140</td>\n",
       "      <td>0.605959</td>\n",
       "      <td>0.625685</td>\n",
       "      <td>0.644139</td>\n",
       "      <td>0.664024</td>\n",
       "      <td>0.691863</td>\n",
       "      <td>0.717317</td>\n",
       "      <td>0.759739</td>\n",
       "      <td>0.782222</td>\n",
       "      <td>0.809585</td>\n",
       "      <td>0.870036</td>\n",
       "      <td>0.905034</td>\n",
       "      <td>0.926033</td>\n",
       "      <td>0.935260</td>\n",
       "      <td>0.961668</td>\n",
       "      <td>0.990939</td>\n",
       "      <td>1.013847</td>\n",
       "      <td>1.027210</td>\n",
       "    </tr>\n",
       "  </tbody>\n",
       "</table>\n",
       "</div>"
      ],
      "text/plain": [
       "   Temperature(t+0)  Temperature(t+1)  ...  CO2(t+18)  CO2(t+19)\n",
       "0          3.029851          3.047553  ...   0.926033   0.935260\n",
       "1          3.047553          3.059354  ...   0.935260   0.961668\n",
       "2          3.059354          3.051978  ...   0.961668   0.990939\n",
       "3          3.051978          3.082956  ...   0.990939   1.013847\n",
       "4          3.082956          3.088857  ...   1.013847   1.027210\n",
       "\n",
       "[5 rows x 80 columns]"
      ]
     },
     "execution_count": 91,
     "metadata": {
      "tags": []
     },
     "output_type": "execute_result"
    }
   ],
   "source": [
    "X_test.head()"
   ]
  },
  {
   "cell_type": "code",
   "execution_count": 0,
   "metadata": {
    "colab": {
     "base_uri": "https://localhost:8080/",
     "height": 50
    },
    "colab_type": "code",
    "executionInfo": {
     "elapsed": 2215,
     "status": "ok",
     "timestamp": 1582315563329,
     "user": {
      "displayName": "OMAR ANDRES CASTAÑO IDARRAGA",
      "photoUrl": "https://lh3.googleusercontent.com/a-/AAuE7mC2ySyCrN1YGwnYckefX0eAcDZYBC0mDAz68pJt=s64",
      "userId": "02036237685860066032"
     },
     "user_tz": 300
    },
    "id": "qb62_t_sTHGE",
    "outputId": "24cb58a5-da68-43ef-c0d8-0d64bdd0389e"
   },
   "outputs": [
    {
     "name": "stdout",
     "output_type": "stream",
     "text": [
      "X_train_shape = (8124, 80) \n",
      "X_test_shape = (2646, 80)\n"
     ]
    }
   ],
   "source": [
    "print('X_train_shape =',X_train.shape, '\\nX_test_shape =',X_test.shape)"
   ]
  },
  {
   "cell_type": "code",
   "execution_count": 0,
   "metadata": {
    "colab": {},
    "colab_type": "code",
    "id": "uIam1iE48Tx_"
   },
   "outputs": [],
   "source": [
    "X_train = np.array(X_train).reshape((-1,20,4))\n",
    "X_test = np.array(X_test).reshape((-1,20,4))"
   ]
  },
  {
   "cell_type": "code",
   "execution_count": 0,
   "metadata": {
    "colab": {
     "base_uri": "https://localhost:8080/",
     "height": 50
    },
    "colab_type": "code",
    "executionInfo": {
     "elapsed": 2180,
     "status": "ok",
     "timestamp": 1582315563331,
     "user": {
      "displayName": "OMAR ANDRES CASTAÑO IDARRAGA",
      "photoUrl": "https://lh3.googleusercontent.com/a-/AAuE7mC2ySyCrN1YGwnYckefX0eAcDZYBC0mDAz68pJt=s64",
      "userId": "02036237685860066032"
     },
     "user_tz": 300
    },
    "id": "JBJSq_ty8e7l",
    "outputId": "fe57c65c-f53f-4ecc-adf6-9ebb45d22076"
   },
   "outputs": [
    {
     "name": "stdout",
     "output_type": "stream",
     "text": [
      "X_train_shape = (8124, 20, 4) \n",
      "X_test_shape = (2646, 20, 4)\n"
     ]
    }
   ],
   "source": [
    "print('X_train_shape =',X_train.shape, '\\nX_test_shape =',X_test.shape)"
   ]
  },
  {
   "cell_type": "markdown",
   "metadata": {
    "colab_type": "text",
    "id": "nH0tX6XrTaag"
   },
   "source": [
    "Ahora pasemos a seleccionar las etiquetas"
   ]
  },
  {
   "cell_type": "code",
   "execution_count": 0,
   "metadata": {
    "colab": {},
    "colab_type": "code",
    "id": "ND3PEeQiBS2a"
   },
   "outputs": [],
   "source": [
    "y_train = data_train.iloc[:X_train.shape[0],-1]\n",
    "y_test = data_test.iloc[:X_test.shape[0],-1]"
   ]
  },
  {
   "cell_type": "code",
   "execution_count": 0,
   "metadata": {
    "colab": {
     "base_uri": "https://localhost:8080/",
     "height": 50
    },
    "colab_type": "code",
    "executionInfo": {
     "elapsed": 2121,
     "status": "ok",
     "timestamp": 1582315563332,
     "user": {
      "displayName": "OMAR ANDRES CASTAÑO IDARRAGA",
      "photoUrl": "https://lh3.googleusercontent.com/a-/AAuE7mC2ySyCrN1YGwnYckefX0eAcDZYBC0mDAz68pJt=s64",
      "userId": "02036237685860066032"
     },
     "user_tz": 300
    },
    "id": "QFt8GD53T3tH",
    "outputId": "3d9c41a3-0cf3-488f-e9b7-80b47b2e6743"
   },
   "outputs": [
    {
     "name": "stdout",
     "output_type": "stream",
     "text": [
      "y_train_shape = (8124,) \n",
      "y_test_shape = (2646,)\n"
     ]
    }
   ],
   "source": [
    "print('y_train_shape =',y_train.shape, '\\ny_test_shape =',y_test.shape)"
   ]
  },
  {
   "cell_type": "code",
   "execution_count": 0,
   "metadata": {
    "colab": {
     "base_uri": "https://localhost:8080/",
     "height": 296
    },
    "colab_type": "code",
    "executionInfo": {
     "elapsed": 2085,
     "status": "ok",
     "timestamp": 1582315563332,
     "user": {
      "displayName": "OMAR ANDRES CASTAÑO IDARRAGA",
      "photoUrl": "https://lh3.googleusercontent.com/a-/AAuE7mC2ySyCrN1YGwnYckefX0eAcDZYBC0mDAz68pJt=s64",
      "userId": "02036237685860066032"
     },
     "user_tz": 300
    },
    "id": "JbLNqiWYFDAr",
    "outputId": "b457623e-88e4-4f15-c0e8-b1689ef483f0"
   },
   "outputs": [
    {
     "data": {
      "text/plain": [
       "<matplotlib.axes._subplots.AxesSubplot at 0x7f485b4532e8>"
      ]
     },
     "execution_count": 97,
     "metadata": {
      "tags": []
     },
     "output_type": "execute_result"
    },
    {
     "data": {
      "image/png": "[encoded data removed]",
      "text/plain": [
       "<Figure size 432x288 with 1 Axes>"
      ]
     },
     "metadata": {
      "tags": []
     },
     "output_type": "display_data"
    }
   ],
   "source": [
    "sns.countplot(y_test)"
   ]
  },
  {
   "cell_type": "markdown",
   "metadata": {
    "colab_type": "text",
    "id": "kFppKSW6UOMa"
   },
   "source": [
    "Ahora procedamos a crear nuestro modelo LSTM"
   ]
  },
  {
   "cell_type": "code",
   "execution_count": 0,
   "metadata": {
    "colab": {},
    "colab_type": "code",
    "id": "ZRDBhQi-G-HT"
   },
   "outputs": [],
   "source": [
    "keras.backend.clear_session()"
   ]
  },
  {
   "cell_type": "code",
   "execution_count": 0,
   "metadata": {
    "colab": {},
    "colab_type": "code",
    "id": "MgE1WmY_Dd3m"
   },
   "outputs": [],
   "source": [
    "model = keras.models.Sequential([\n",
    "                                 keras.layers.LSTM(5, return_sequences=True, input_shape=[None, 4]),\n",
    "                                 keras.layers.LSTM(5),\n",
    "                                 keras.layers.Dense(1, activation='sigmoid')\n",
    "])"
   ]
  },
  {
   "cell_type": "code",
   "execution_count": 0,
   "metadata": {
    "colab": {},
    "colab_type": "code",
    "id": "fHOdUTw8D_KJ"
   },
   "outputs": [],
   "source": [
    "model.compile(loss='binary_crossentropy', optimizer='adam', metrics=[keras.metrics.AUC(num_thresholds=200)])"
   ]
  },
  {
   "cell_type": "code",
   "execution_count": 0,
   "metadata": {
    "colab": {
     "base_uri": "https://localhost:8080/",
     "height": 218
    },
    "colab_type": "code",
    "executionInfo": {
     "elapsed": 44693,
     "status": "ok",
     "timestamp": 1582315819928,
     "user": {
      "displayName": "OMAR ANDRES CASTAÑO IDARRAGA",
      "photoUrl": "https://lh3.googleusercontent.com/a-/AAuE7mC2ySyCrN1YGwnYckefX0eAcDZYBC0mDAz68pJt=s64",
      "userId": "02036237685860066032"
     },
     "user_tz": 300
    },
    "id": "U18rtX4pEKr2",
    "outputId": "850fe217-a32e-4d8a-c8a7-77552eb45439"
   },
   "outputs": [
    {
     "name": "stdout",
     "output_type": "stream",
     "text": [
      "Train on 8124 samples, validate on 2646 samples\n",
      "Epoch 1/5\n",
      "8124/8124 [==============================] - 9s 1ms/sample - loss: 0.2883 - auc: 0.9751 - val_loss: 0.2071 - val_auc: 0.9879\n",
      "Epoch 2/5\n",
      "8124/8124 [==============================] - 8s 1ms/sample - loss: 0.1246 - auc: 0.9893 - val_loss: 0.1596 - val_auc: 0.9891\n",
      "Epoch 3/5\n",
      "8124/8124 [==============================] - 8s 985us/sample - loss: 0.0939 - auc: 0.9918 - val_loss: 0.1314 - val_auc: 0.9903\n",
      "Epoch 4/5\n",
      "8124/8124 [==============================] - 8s 980us/sample - loss: 0.0794 - auc: 0.9935 - val_loss: 0.1180 - val_auc: 0.9920\n",
      "Epoch 5/5\n",
      "8124/8124 [==============================] - 8s 989us/sample - loss: 0.0707 - auc: 0.9958 - val_loss: 0.1103 - val_auc: 0.9930\n"
     ]
    },
    {
     "data": {
      "text/plain": [
       "<tensorflow.python.keras.callbacks.History at 0x7f484ce79748>"
      ]
     },
     "execution_count": 123,
     "metadata": {
      "tags": []
     },
     "output_type": "execute_result"
    }
   ],
   "source": [
    "model.fit(X_train,y_train, epochs=5, batch_size=32, validation_data=(X_test,y_test))"
   ]
  },
  {
   "cell_type": "code",
   "execution_count": 0,
   "metadata": {
    "colab": {},
    "colab_type": "code",
    "id": "imXGV9vFUMP9"
   },
   "outputs": [],
   "source": []
  }
 ],
 "metadata": {
  "accelerator": "GPU",
  "colab": {
   "collapsed_sections": [
    "1iGd8pp8mmv3"
   ],
   "name": "S11_C2.ipynb",
   "provenance": []
  },
  "kernelspec": {
   "display_name": "Python 3 (ipykernel)",
   "language": "python",
   "name": "python3"
  },
  "language_info": {
   "codemirror_mode": {
    "name": "ipython",
    "version": 3
   },
   "file_extension": ".py",
   "mimetype": "text/x-python",
   "name": "python",
   "nbconvert_exporter": "python",
   "pygments_lexer": "ipython3",
   "version": "3.10.4"
  }
 },
 "nbformat": 4,
 "nbformat_minor": 1
}
